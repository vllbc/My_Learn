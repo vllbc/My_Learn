{
 "cells": [
  {
   "cell_type": "markdown",
   "metadata": {},
   "source": [
    "依据The Annotated Transformer的代码进行复现"
   ]
  },
  {
   "cell_type": "code",
   "execution_count": 2,
   "metadata": {},
   "outputs": [
    {
     "data": {
      "text/plain": [
       "True"
      ]
     },
     "execution_count": 2,
     "metadata": {},
     "output_type": "execute_result"
    }
   ],
   "source": [
    "# 导入必要的库\n",
    "import torch\n",
    "import torch.nn as nn\n",
    "import numpy as np\n",
    "import torch.nn.functional as F\n",
    "import math, copy, time\n",
    "from torch.autograd import Variable\n",
    "import matplotlib.pyplot as plt\n",
    "import seaborn as sns\n",
    "sns.set_context('talk')\n",
    "torch.cuda.is_available()"
   ]
  },
  {
   "cell_type": "code",
   "execution_count": 12,
   "metadata": {},
   "outputs": [
    {
     "data": {
      "text/plain": [
       "array([[4.61632543, 3.04326083],\n",
       "       [8.85053312, 3.95206868],\n",
       "       [5.77746852, 3.29248242],\n",
       "       [8.44016844, 3.86399019]])"
      ]
     },
     "execution_count": 12,
     "metadata": {},
     "output_type": "execute_result"
    }
   ],
   "source": [
    "import numpy as np \n",
    "data = np.array([[1, 2], [5, 4], [2, 3], [5, 2]])\n",
    "cov = np.cov(data.T)\n",
    "eig_vals, eig_vecs = np.linalg.eig(cov)\n",
    "eig_vals, eig_vecs\n",
    "idxs = np.argsort(eig_vals)[::-1]\n",
    "topfeat = 1\n",
    "select_vecs = eig_vecs[:, idxs[:topfeat]]\n",
    "low_Data = np.dot(data, select_vecs)\n",
    "# 数据重构\n",
    "reconData = (low_Data * select_vecs.T) + np.mean(data, axis=0)\n",
    "reconData"
   ]
  },
  {
   "cell_type": "markdown",
   "metadata": {},
   "source": [
    "# 嵌入层"
   ]
  },
  {
   "cell_type": "code",
   "execution_count": 30,
   "metadata": {},
   "outputs": [],
   "source": [
    "class Embedding(nn.Module):\n",
    "    def __init__(self, d_model, vocab_size) -> None:\n",
    "        super().__init__()\n",
    "        self.embedding = nn.Embedding(vocab_size, d_model) # 待训练矩阵\n",
    "        self.d_model = d_model\n",
    "    \n",
    "    def forward(self, x):\n",
    "        return self.embedding(x) * math.sqrt(self.d_model)"
   ]
  },
  {
   "cell_type": "code",
   "execution_count": 31,
   "metadata": {},
   "outputs": [],
   "source": [
    "class PositionalEncoding(nn.Module):\n",
    "    def __init__(self, d_model, dropout, max_len=5000) -> None:\n",
    "        super().__init__()\n",
    "        \n",
    "        self.dropout = nn.Dropout(p=dropout)\n",
    "        position_embedding = torch.zeros(max_len, d_model)\n",
    "        position = torch.arange(0, max_len).unsqueeze(1)\n",
    "        div_term = torch.exp(torch.arange(0, d_model, 2) * -(math.log(10000.0) / d_model))\n",
    "        position_embedding[:, 0::2] = torch.sin(position * div_term)\n",
    "        position_embedding[:, 1::2] = torch.cos(position * div_term)\n",
    "        position_embedding = position_embedding.unsqueeze(0)\n",
    "        # 预留batch size的位置\n",
    "        self.register_buffer('PositionalEncoding', position_embedding)\n",
    "        \n",
    "    \n",
    "    def forward(self, x):\n",
    "        return self.dropout(x + Variable(self.PositionalEncoding[:, :x.size(1)], requires_grad=False))"
   ]
  },
  {
   "cell_type": "markdown",
   "metadata": {},
   "source": [
    "# attention"
   ]
  },
  {
   "cell_type": "code",
   "execution_count": 32,
   "metadata": {},
   "outputs": [],
   "source": [
    "def attention(query, key, value, mask=None, dropout=None):\n",
    "    d_k = query.size(-1)\n",
    "    scores = torch.matmul(query, key.transpose(-2, -1)) / math.sqrt(d_k) # 最后两个维度相乘，即为scores，再scale一下。\n",
    "    if mask is not None:\n",
    "        scores = scores.masked_fill(mask == 0, -1e9) # 将mask的位置的scores置为-1e9\n",
    "    \n",
    "    # 实际上pad mask的时候，pad也会作为key与其它token对应的k,v计算score，pad mask只是消除pad作为k,v时候的影响。但在最后softmax的时候，将pad的损失值全部置为0\n",
    "    p_attn = F.softmax(scores, dim=-1) # 将scores进行softmax，得到p_attn，这里是在最后一个维度上softmax，因为对每个query的所有key进行softmax\n",
    "    if dropout:\n",
    "        p_attn = dropout(p_attn)\n",
    "        \n",
    "    return torch.matmul(p_attn, value), p_attn\n",
    "\n",
    "    "
   ]
  },
  {
   "cell_type": "code",
   "execution_count": 33,
   "metadata": {},
   "outputs": [],
   "source": [
    "class MultiHeadedAttention(nn.Module):\n",
    "    def __init__(self, h, d_model, dropout=0.1) -> None:\n",
    "        # h为head，这里为8，d_model为embedding的维度，这里为512\n",
    "        super().__init__()\n",
    "        assert d_model % h == 0\n",
    "        self.d_k = d_model // h # 64\n",
    "        self.h = h\n",
    "        self.Q_Linear = nn.Linear(d_model, d_model)\n",
    "        self.K_Linear = nn.Linear(d_model, d_model)\n",
    "        self.V_Linear = nn.Linear(d_model, d_model)\n",
    "        self.res_Linear = nn.Linear(d_model, d_model)\n",
    "        \n",
    "        self.attn = None\n",
    "        self.dropout = nn.Dropout(p=dropout)\n",
    "        \n",
    "    def forward(self, query, key, value, mask=None):\n",
    "        if mask is not None:\n",
    "            mask = mask.unsqueeze(1)\n",
    "            \n",
    "        batch_size = query.size(0)\n",
    "        query = self.Q_Linear(query).view(batch_size, -1, self.h, self.d_k) # (batch_size, seq_len, h, d_k)即(batch_size, seq_len, 8, 64)\n",
    "        query = query.transpose(1, 2) # (batch_size, h, seq_len, d_k)即(batch_size, 8, seq_len, 64)\n",
    "        \n",
    "        key = self.K_Linear(key).view(batch_size, -1, self.h, self.d_k).transpose(1, 2)\n",
    "        value = self.V_Linear(value).view(batch_size, -1, self.h, self.d_k).transpose(1, 2)\n",
    "        x, self.attn = attention(query, key, value, mask=mask, dropout=self.dropout) # x为(batch_size, h, seq_len, d_k)\n",
    "        # attn为(batch_size, h, seq_len1, seq_len2)\n",
    "        \n",
    "        x = x.transpose(1, 2).contiguous().view(batch_size, -1, self.h * self.d_k)\n",
    "        # (batch_size, h, seq_len, d_k) -> (batch_size, seq_len, h, d_k) -> (batch_size, seq_len, h * d_k) = (batch_size, seq_len, 512)\n",
    "        \n",
    "        return self.res_Linear(x)\n",
    "\n",
    "\n",
    "        "
   ]
  },
  {
   "cell_type": "markdown",
   "metadata": {},
   "source": [
    "# sublayer"
   ]
  },
  {
   "cell_type": "code",
   "execution_count": 34,
   "metadata": {},
   "outputs": [],
   "source": [
    "class LayerNorm(nn.Module):\n",
    "    def __init__(self, features, eps=1e-6) -> None:\n",
    "        super().__init__()\n",
    "        self.a_2 = nn.Parameter(torch.ones(features))\n",
    "        self.b_2 = nn.Parameter(torch.zeros(features))\n",
    "        self.eps = eps\n",
    "        \n",
    "    def forward(self, x):\n",
    "        mean = x.mean(-1, keepdim=True)\n",
    "        std = x.std(-1, keepdim=True)\n",
    "        return self.a_2 * (x - mean) / (std + self.eps) + self.b_2"
   ]
  },
  {
   "cell_type": "code",
   "execution_count": 35,
   "metadata": {},
   "outputs": [],
   "source": [
    "class SublayerConnection(nn.Module):\n",
    "    def __init__(self, size, dropout) -> None:\n",
    "        super().__init__()\n",
    "        self.norm = LayerNorm(size)\n",
    "        self.dropout = nn.Dropout(p=dropout)\n",
    "        \n",
    "    def forward(self, x, sublayer):\n",
    "        return x + self.dropout(sublayer(self.norm(x))) # 这里和论文不同，先norm再扔给sublayer（比如多头注意力、ffn）,理论上是self.norm(x+self.dropout(sublayer(x)))"
   ]
  },
  {
   "cell_type": "markdown",
   "metadata": {},
   "source": [
    "# FFN"
   ]
  },
  {
   "cell_type": "code",
   "execution_count": 36,
   "metadata": {},
   "outputs": [],
   "source": [
    "class PositionwiseFeedForward(nn.Module):\n",
    "    def __init__(self, d_model, d_ff, dropout=0.1):\n",
    "        super().__init__()\n",
    "        self.w_1 = nn.Linear(d_model, d_ff)\n",
    "        self.w_2 = nn.Linear(d_ff, d_model)\n",
    "        self.dropout = nn.Dropout(p=dropout)\n",
    "\n",
    "    def forward(self, x):\n",
    "        return self.w_2(self.dropout(F.relu(self.w_1(x))))"
   ]
  },
  {
   "cell_type": "code",
   "execution_count": 37,
   "metadata": {},
   "outputs": [],
   "source": [
    "def clones(module, N):\n",
    "    return nn.ModuleList([copy.deepcopy(module) for _ in range(N)])"
   ]
  },
  {
   "cell_type": "markdown",
   "metadata": {},
   "source": [
    "# Encoder"
   ]
  },
  {
   "cell_type": "code",
   "execution_count": 38,
   "metadata": {},
   "outputs": [],
   "source": [
    "class EncoderLayer(nn.Module):\n",
    "    def __init__(self, size, self_attn, feedforward, dropout) -> None:\n",
    "        super().__init__()\n",
    "        self.self_attn = self_attn\n",
    "        self.feedforward = feedforward\n",
    "        self.sublayer = clones(SublayerConnection(size, dropout), 2)\n",
    "        self.size = size\n",
    "    \n",
    "    def forward(self, x, mask):\n",
    "        x = self.sublayer[0](x, lambda x: self.self_attn(x, x, x, mask)) # 这里匿名函数的意义就是sublayer必须是可调用的，如果去掉匿名函数，则就直接计算self_attn(x, x, x, mask)，就是一个结果而不可以调用了\n",
    "        return self.sublayer[1](x, self.feedforward)\n"
   ]
  },
  {
   "cell_type": "code",
   "execution_count": 39,
   "metadata": {},
   "outputs": [],
   "source": [
    "class Encoder(nn.Module):\n",
    "    def __init__(self, layer, N) -> None:\n",
    "        super().__init__()\n",
    "        self.layers = clones(layer, N)\n",
    "        self.norm = LayerNorm(layer.size)\n",
    "    \n",
    "    def forward(self, x, mask):\n",
    "        for layer in self.layers:\n",
    "            x = layer(x, mask)\n",
    "        return self.norm(x)"
   ]
  },
  {
   "cell_type": "markdown",
   "metadata": {},
   "source": [
    "# Decoder"
   ]
  },
  {
   "cell_type": "code",
   "execution_count": 40,
   "metadata": {},
   "outputs": [],
   "source": [
    "class DecoderLayer(nn.Module):\n",
    "    def __init__(self, size, self_attn, src_attn, feedforward, dropout) -> None:\n",
    "        super().__init__()\n",
    "        self.size = size\n",
    "        self.self_attn = self_attn\n",
    "        self.src_attn = src_attn\n",
    "        self.feedforward = feedforward\n",
    "        self.sublayer = clones(SublayerConnection(size, dropout), 3)\n",
    "    \n",
    "    def forward(self, x, momery, src_mask, tgt_mask):\n",
    "        m = momery\n",
    "        # (batch.size, sequence.len, 512) 来自Encoder的输出 \n",
    "        x = self.sublayer[0](x, lambda x: self.self_attn(x, x, x, tgt_mask)) # 自注意力\n",
    "        x = self.sublayer[1](x, lambda x: self.src_attn(x, m, m, src_mask)) # target和memory的注意力\n",
    "        return self.sublayer[2](x, self.feedforward)"
   ]
  },
  {
   "cell_type": "code",
   "execution_count": 41,
   "metadata": {},
   "outputs": [],
   "source": [
    "class Decoder(nn.Module):\n",
    "    def __init__(self, layer, N):\n",
    "        super().__init__()\n",
    "        self.layers = clones(layer, N)\n",
    "        self.norm = LayerNorm(layer.size)\n",
    "    \n",
    "    def forward(self, x, momery, src_mask, tgt_mask):\n",
    "        for layer in self.layers:\n",
    "            x = layer(x, momery, src_mask, tgt_mask)\n",
    "        return self.norm(x) "
   ]
  },
  {
   "cell_type": "code",
   "execution_count": 42,
   "metadata": {},
   "outputs": [],
   "source": [
    "class Generator(nn.Module):\n",
    "    def __init__(self, d_model, vocab) -> None:\n",
    "        super().__init__()\n",
    "        self.proj = nn.Linear(d_model, vocab)\n",
    "    \n",
    "    def forward(self, x):\n",
    "        return F.log_softmax(self.proj(x), dim=-1)"
   ]
  },
  {
   "cell_type": "markdown",
   "metadata": {},
   "source": [
    "# Encoder Decoder"
   ]
  },
  {
   "cell_type": "code",
   "execution_count": 43,
   "metadata": {},
   "outputs": [],
   "source": [
    "class EncoderDecoder(nn.Module):\n",
    "    def __init__(self, encoder, decoder, src_embed, tgt_embed, generator):\n",
    "        super().__init__()\n",
    "        self.encoder = encoder \n",
    "        self.decoder = decoder\n",
    "        self.src_embed = src_embed\n",
    "        self.tgt_embed = tgt_embed\n",
    "        self.generator = generator\n",
    "    \n",
    "    def forward(self, src, tgt, src_mask, tgt_mask):\n",
    "        return self.decode(self.encode(src, src_mask), src_mask, tgt, tgt_mask)\n",
    "\n",
    "    def encode(self, src, src_mask):\n",
    "        return self.encoder(self.src_embed(src), src_mask)\n",
    "    \n",
    "    def decode(self, momery, src_mask, tgt, tgt_mask):\n",
    "        return self.decoder(self.tgt_embed(tgt), momery, src_mask, tgt_mask)"
   ]
  },
  {
   "cell_type": "code",
   "execution_count": 44,
   "metadata": {},
   "outputs": [],
   "source": [
    "def make_model(src_vocab, tgt_vocab, N=6, d_model=512, d_ff=2048, h=8, dropout=0.1):\n",
    "    c = copy.deepcopy\n",
    "    attn = MultiHeadedAttention(h, d_model)\n",
    "    ff = PositionwiseFeedForward(d_model, d_ff, dropout)\n",
    "    positon = PositionalEncoding(d_model, dropout)\n",
    "    model = EncoderDecoder(\n",
    "        Encoder(EncoderLayer(d_model, c(attn), c(ff), dropout), N),\n",
    "        Decoder(DecoderLayer(d_model, c(attn), c(attn), c(ff), dropout), N),\n",
    "        nn.Sequential(Embedding(d_model, src_vocab), c(positon)),\n",
    "        nn.Sequential(Embedding(d_model, tgt_vocab), c(positon)),\n",
    "        Generator(d_model, tgt_vocab)\n",
    "    )\n",
    "    \n",
    "    for p in model.parameters():\n",
    "        if p.dim() > 1:\n",
    "            nn.init.xavier_uniform_(p) # 初始化参数\n",
    "    return model\n"
   ]
  },
  {
   "cell_type": "code",
   "execution_count": 45,
   "metadata": {},
   "outputs": [
    {
     "name": "stdout",
     "output_type": "stream",
     "text": [
      "encoder.layers.0.self_attn.Q_Linear.weight torch.Size([512, 512])\n",
      "encoder.layers.0.self_attn.Q_Linear.bias torch.Size([512])\n",
      "encoder.layers.0.self_attn.K_Linear.weight torch.Size([512, 512])\n",
      "encoder.layers.0.self_attn.K_Linear.bias torch.Size([512])\n",
      "encoder.layers.0.self_attn.V_Linear.weight torch.Size([512, 512])\n",
      "encoder.layers.0.self_attn.V_Linear.bias torch.Size([512])\n",
      "encoder.layers.0.self_attn.res_Linear.weight torch.Size([512, 512])\n",
      "encoder.layers.0.self_attn.res_Linear.bias torch.Size([512])\n",
      "encoder.layers.0.feedforward.w_1.weight torch.Size([2048, 512])\n",
      "encoder.layers.0.feedforward.w_1.bias torch.Size([2048])\n",
      "encoder.layers.0.feedforward.w_2.weight torch.Size([512, 2048])\n",
      "encoder.layers.0.feedforward.w_2.bias torch.Size([512])\n",
      "encoder.layers.0.sublayer.0.norm.a_2 torch.Size([512])\n",
      "encoder.layers.0.sublayer.0.norm.b_2 torch.Size([512])\n",
      "encoder.layers.0.sublayer.1.norm.a_2 torch.Size([512])\n",
      "encoder.layers.0.sublayer.1.norm.b_2 torch.Size([512])\n",
      "encoder.layers.1.self_attn.Q_Linear.weight torch.Size([512, 512])\n",
      "encoder.layers.1.self_attn.Q_Linear.bias torch.Size([512])\n",
      "encoder.layers.1.self_attn.K_Linear.weight torch.Size([512, 512])\n",
      "encoder.layers.1.self_attn.K_Linear.bias torch.Size([512])\n",
      "encoder.layers.1.self_attn.V_Linear.weight torch.Size([512, 512])\n",
      "encoder.layers.1.self_attn.V_Linear.bias torch.Size([512])\n",
      "encoder.layers.1.self_attn.res_Linear.weight torch.Size([512, 512])\n",
      "encoder.layers.1.self_attn.res_Linear.bias torch.Size([512])\n",
      "encoder.layers.1.feedforward.w_1.weight torch.Size([2048, 512])\n",
      "encoder.layers.1.feedforward.w_1.bias torch.Size([2048])\n",
      "encoder.layers.1.feedforward.w_2.weight torch.Size([512, 2048])\n",
      "encoder.layers.1.feedforward.w_2.bias torch.Size([512])\n",
      "encoder.layers.1.sublayer.0.norm.a_2 torch.Size([512])\n",
      "encoder.layers.1.sublayer.0.norm.b_2 torch.Size([512])\n",
      "encoder.layers.1.sublayer.1.norm.a_2 torch.Size([512])\n",
      "encoder.layers.1.sublayer.1.norm.b_2 torch.Size([512])\n",
      "encoder.norm.a_2 torch.Size([512])\n",
      "encoder.norm.b_2 torch.Size([512])\n",
      "decoder.layers.0.self_attn.Q_Linear.weight torch.Size([512, 512])\n",
      "decoder.layers.0.self_attn.Q_Linear.bias torch.Size([512])\n",
      "decoder.layers.0.self_attn.K_Linear.weight torch.Size([512, 512])\n",
      "decoder.layers.0.self_attn.K_Linear.bias torch.Size([512])\n",
      "decoder.layers.0.self_attn.V_Linear.weight torch.Size([512, 512])\n",
      "decoder.layers.0.self_attn.V_Linear.bias torch.Size([512])\n",
      "decoder.layers.0.self_attn.res_Linear.weight torch.Size([512, 512])\n",
      "decoder.layers.0.self_attn.res_Linear.bias torch.Size([512])\n",
      "decoder.layers.0.src_attn.Q_Linear.weight torch.Size([512, 512])\n",
      "decoder.layers.0.src_attn.Q_Linear.bias torch.Size([512])\n",
      "decoder.layers.0.src_attn.K_Linear.weight torch.Size([512, 512])\n",
      "decoder.layers.0.src_attn.K_Linear.bias torch.Size([512])\n",
      "decoder.layers.0.src_attn.V_Linear.weight torch.Size([512, 512])\n",
      "decoder.layers.0.src_attn.V_Linear.bias torch.Size([512])\n",
      "decoder.layers.0.src_attn.res_Linear.weight torch.Size([512, 512])\n",
      "decoder.layers.0.src_attn.res_Linear.bias torch.Size([512])\n",
      "decoder.layers.0.feedforward.w_1.weight torch.Size([2048, 512])\n",
      "decoder.layers.0.feedforward.w_1.bias torch.Size([2048])\n",
      "decoder.layers.0.feedforward.w_2.weight torch.Size([512, 2048])\n",
      "decoder.layers.0.feedforward.w_2.bias torch.Size([512])\n",
      "decoder.layers.0.sublayer.0.norm.a_2 torch.Size([512])\n",
      "decoder.layers.0.sublayer.0.norm.b_2 torch.Size([512])\n",
      "decoder.layers.0.sublayer.1.norm.a_2 torch.Size([512])\n",
      "decoder.layers.0.sublayer.1.norm.b_2 torch.Size([512])\n",
      "decoder.layers.0.sublayer.2.norm.a_2 torch.Size([512])\n",
      "decoder.layers.0.sublayer.2.norm.b_2 torch.Size([512])\n",
      "decoder.layers.1.self_attn.Q_Linear.weight torch.Size([512, 512])\n",
      "decoder.layers.1.self_attn.Q_Linear.bias torch.Size([512])\n",
      "decoder.layers.1.self_attn.K_Linear.weight torch.Size([512, 512])\n",
      "decoder.layers.1.self_attn.K_Linear.bias torch.Size([512])\n",
      "decoder.layers.1.self_attn.V_Linear.weight torch.Size([512, 512])\n",
      "decoder.layers.1.self_attn.V_Linear.bias torch.Size([512])\n",
      "decoder.layers.1.self_attn.res_Linear.weight torch.Size([512, 512])\n",
      "decoder.layers.1.self_attn.res_Linear.bias torch.Size([512])\n",
      "decoder.layers.1.src_attn.Q_Linear.weight torch.Size([512, 512])\n",
      "decoder.layers.1.src_attn.Q_Linear.bias torch.Size([512])\n",
      "decoder.layers.1.src_attn.K_Linear.weight torch.Size([512, 512])\n",
      "decoder.layers.1.src_attn.K_Linear.bias torch.Size([512])\n",
      "decoder.layers.1.src_attn.V_Linear.weight torch.Size([512, 512])\n",
      "decoder.layers.1.src_attn.V_Linear.bias torch.Size([512])\n",
      "decoder.layers.1.src_attn.res_Linear.weight torch.Size([512, 512])\n",
      "decoder.layers.1.src_attn.res_Linear.bias torch.Size([512])\n",
      "decoder.layers.1.feedforward.w_1.weight torch.Size([2048, 512])\n",
      "decoder.layers.1.feedforward.w_1.bias torch.Size([2048])\n",
      "decoder.layers.1.feedforward.w_2.weight torch.Size([512, 2048])\n",
      "decoder.layers.1.feedforward.w_2.bias torch.Size([512])\n",
      "decoder.layers.1.sublayer.0.norm.a_2 torch.Size([512])\n",
      "decoder.layers.1.sublayer.0.norm.b_2 torch.Size([512])\n",
      "decoder.layers.1.sublayer.1.norm.a_2 torch.Size([512])\n",
      "decoder.layers.1.sublayer.1.norm.b_2 torch.Size([512])\n",
      "decoder.layers.1.sublayer.2.norm.a_2 torch.Size([512])\n",
      "decoder.layers.1.sublayer.2.norm.b_2 torch.Size([512])\n",
      "decoder.norm.a_2 torch.Size([512])\n",
      "decoder.norm.b_2 torch.Size([512])\n",
      "src_embed.0.embedding.weight torch.Size([10, 512])\n",
      "tgt_embed.0.embedding.weight torch.Size([10, 512])\n",
      "generator.proj.weight torch.Size([10, 512])\n",
      "generator.proj.bias torch.Size([10])\n"
     ]
    }
   ],
   "source": [
    "tmp_model = make_model(10, 10, 2)\n",
    "for name, param in tmp_model.named_parameters():\n",
    "    if param.requires_grad:\n",
    "        print(name, param.data.shape)\n",
    "    else:\n",
    "        print('no gradient for', name)"
   ]
  },
  {
   "cell_type": "markdown",
   "metadata": {},
   "source": [
    "# 数据集构造"
   ]
  },
  {
   "cell_type": "code",
   "execution_count": 3,
   "metadata": {},
   "outputs": [
    {
     "name": "stdout",
     "output_type": "stream",
     "text": [
      "tensor([[[ True, False, False],\n",
      "         [ True,  True, False],\n",
      "         [ True,  True,  True]]])\n"
     ]
    }
   ],
   "source": [
    "import numpy as np \n",
    "import torch\n",
    "def subsequent_mask(size):\n",
    "    attn_shape = (1, size, size)\n",
    "    subsequent_mask = np.triu(np.ones(attn_shape), k=1).astype('uint8')\n",
    "    return torch.from_numpy(subsequent_mask) == 0\n",
    "print(subsequent_mask(3))\n",
    "class Batch:\n",
    "    def __init__(self, src, trg=None, pad=0):\n",
    "        self.src = src\n",
    "        self.src_mask = (src != pad).unsqueeze(-2) # 这里pad对应的Idx为0,src只需要pad mask，而decoder需要pad和subsequent mask\n",
    "        if trg is not None:\n",
    "            self.trg = trg[:, :-1] #decoder 输入\n",
    "            self.trg_y = trg[:, 1:] # label\n",
    "            self.trg_mask = self.make_std_mask(self.trg, pad)\n",
    "            self.ntokens = (self.trg_y != pad).data.sum()\n",
    "    \n",
    "    @staticmethod\n",
    "    def make_std_mask(tgt, pad):\n",
    "        tgt_mask = (tgt != pad).unsqueeze(-2)\n",
    "        tgt_mask = tgt_mask & Variable(subsequent_mask(tgt.size(-1)).type_as(tgt_mask.data))\n",
    "        # subsequent_mask的输出是一个下三角矩阵\n",
    "        # 假设&号左边的size为(2, 1, 3)，右边的size为(1, 3, 3)\n",
    "        # 则结果size为(2, 3, 3)\n",
    "        return tgt_mask\n",
    "    \n",
    "# &算子左边，当tgt_mask,shape=(3,1,4)是：\n",
    "# [1 1 1 1], \n",
    "# [1 1 1 0], # attention here\n",
    "# [1 1 1 1]\n",
    "# 类似于第二个序列的最后一个词是'<blank>' 。 \n",
    "\n",
    "# &算子右边，的Variable()内部，shape=(1,4,4)，\n",
    "# 是： \n",
    "# 1 0 0 0 \n",
    "# 1 1 0 0 \n",
    "# 1 1 1 0 \n",
    "# 1 1 1 1 \n",
    "# 的时候。\n",
    "\n",
    "# 这两者的&的结果是 (3, 4, 4)： \n",
    "# 1 0 0 0 \n",
    "# 1 1 0 0 \n",
    "# 1 1 1 0 \n",
    "# 1 1 1 1 \n",
    "\n",
    "# 1 0 0 0 \n",
    "# 1 1 0 0 \n",
    "# 1 1 1 0 \n",
    "# 1 1 1 0 # attention here， 因为第二个序列只有3个词\n",
    "\n",
    "# 1 0 0 0 \n",
    "# 1 1 0 0 \n",
    "# 1 1 1 0 \n",
    "# 1 1 1 1\n",
    "\n",
    "def data_gen(V, batch, nbatches):\n",
    "    \"Generate random data for a src-tgt copy task.\"\n",
    "    for i in range(nbatches):\n",
    "        data = torch.from_numpy(np.random.randint(0, V, size=(batch, 10), dtype=np.int64))\n",
    "        data[:, 0] = 1\n",
    "        src = Variable(data, requires_grad=False)\n",
    "        tgt = Variable(data, requires_grad=False)\n",
    "        yield Batch(src, tgt, 0)"
   ]
  },
  {
   "cell_type": "code",
   "execution_count": 47,
   "metadata": {},
   "outputs": [
    {
     "data": {
      "text/plain": [
       "torch.Size([3, 4, 4])"
      ]
     },
     "execution_count": 47,
     "metadata": {},
     "output_type": "execute_result"
    }
   ],
   "source": [
    "scores_mask = torch.randint(1, 2, (3, 1, 4))\n",
    "scores_mask[:, :, -2:] = 0\n",
    "scores_mask = subsequent_mask(4) & Variable(scores_mask.type(torch.uint8))\n",
    "scores = torch.rand(3, 4, 4)\n",
    "scores.masked_fill(scores_mask == 0, -1e9).shape\n"
   ]
  },
  {
   "cell_type": "markdown",
   "metadata": {},
   "source": [
    "# 优化算法、损失函数、one epoch train"
   ]
  },
  {
   "cell_type": "code",
   "execution_count": 48,
   "metadata": {},
   "outputs": [],
   "source": [
    "class NoamOpt: # 优化算法\n",
    "    def __init__(self, model_size, factor, warmup, optimizer):\n",
    "        self.optimizer = optimizer\n",
    "        self._step = 0\n",
    "        self.warmup = warmup\n",
    "        self.factor = factor\n",
    "        self.model_size = model_size\n",
    "        self._rate = 0\n",
    "\n",
    "    def step(self):\n",
    "        self._step += 1\n",
    "        rate = self.rate()\n",
    "        for p in self.optimizer.param_groups:\n",
    "            p['lr'] = rate\n",
    "        self._rate = rate\n",
    "        self.optimizer.step()\n",
    "    def rate(self, step=None):\n",
    "        if step is None:\n",
    "            step = self._step\n",
    "        return self.factor * (self.model_size ** (-0.5) * min(step ** (-0.5), step * self.warmup ** (-1.5)))\n",
    "def get_std_opt(model):\n",
    "    return NoamOpt(model.src_embed[0].d_model, 2, 4000, torch.optim.Adam(model.parameters(), lr=0, betas=(0.9, 0.98), eps=1e-9))\n",
    "\n",
    "\n",
    "class LabelSmoothing(nn.Module): # 标签平滑损失函数\n",
    "    def __init__(self, size, padding_idx, smoothing=0.0) -> None:\n",
    "        super().__init__()\n",
    "        self.criterion = nn.KLDivLoss(size_average=False)\n",
    "        self.padding_idx = padding_idx\n",
    "        self.confidence = 1.0 - smoothing\n",
    "        self.smoothing = smoothing\n",
    "        self.size = size\n",
    "        self.true_dist = None\n",
    "    \n",
    "    def forward(self, x, target):\n",
    "        #  x的shape为(batch.size * seq.len, target.vocab.size)\n",
    "        # y的shape是(batch.size * seq.len)\n",
    "        \n",
    "        # x=logits，(seq.len, target.vocab.size)\n",
    "        # 每一行，代表一个位置的词\n",
    "        # 类似于：假设seq.len=3, target.vocab.size=5\n",
    "        # x中保存的是log(prob)\n",
    "        #x = tensor([[-20.7233,  -1.6094,  -0.3567,  -2.3026, -20.7233],\n",
    "        #[-20.7233,  -1.6094,  -0.3567,  -2.3026, -20.7233],\n",
    "        #[-20.7233,  -1.6094,  -0.3567,  -2.3026, -20.7233]])\n",
    "        \n",
    "        # target 类似于：\n",
    "        # target = tensor([2, 1, 0])，torch.size=(3)\n",
    "        assert x.size(1) == self.size\n",
    "        true_dist = x.data.clone()\n",
    "        # true_dist = tensor([[-20.7233,  -1.6094,  -0.3567,  -2.3026, -20.7233],\n",
    "        #[-20.7233,  -1.6094,  -0.3567,  -2.3026, -20.7233],\n",
    "        #[-20.7233,  -1.6094,  -0.3567,  -2.3026, -20.7233]])\n",
    "        true_dist.fill_(self.smoothing / (self.size - 2)) \n",
    "        # true_dist = tensor([[0.1333, 0.1333, 0.1333, 0.1333, 0.1333],\n",
    "        #[0.1333, 0.1333, 0.1333, 0.1333, 0.1333],\n",
    "        #[0.1333, 0.1333, 0.1333, 0.1333, 0.1333]])\n",
    "        \n",
    "        # 注意，这里分母target.vocab.size-2是因为\n",
    "        # (1) 最优值 0.6要占一个位置；\n",
    "        # (2) 填充词 <blank> 要被排除在外\n",
    "        # 所以被激活的目标语言词表大小就是self.size-2\n",
    "        true_dist.scatter_(1, target.data.unsqueeze(1), self.confidence)\n",
    "          # target.data.unsqueeze(1) -> \n",
    "        # tensor([[2],\n",
    "        #[1],\n",
    "        #[0]]); shape=torch.Size([3, 1])  \n",
    "        # self.confidence = 0.6\n",
    "        \n",
    "        # 根据target.data的指示，按照列优先(1)的原则，把0.6这个值\n",
    "        # 填入true_dist: 因为target.data是2,1,0的内容，\n",
    "        # 所以，0.6填入第0行的第2列（列号，行号都是0开始）\n",
    "        # 0.6填入第1行的第1列\n",
    "        # 0.6填入第2行的第0列：\n",
    "        # true_dist = tensor([[0.1333, 0.1333, 0.6000, 0.1333, 0.1333],\n",
    "        #[0.1333, 0.6000, 0.1333, 0.1333, 0.1333],\n",
    "        #[0.6000, 0.1333, 0.1333, 0.1333, 0.1333]])\n",
    "        \n",
    "        true_dist[:, self.padding_idx] = 0\n",
    "        # true_dist = tensor([[0.0000, 0.1333, 0.6000, 0.1333, 0.1333],\n",
    "        #[0.0000, 0.6000, 0.1333, 0.1333, 0.1333],\n",
    "        #[0.0000, 0.1333, 0.1333, 0.1333, 0.1333]])\n",
    "        # 设置true_dist这个tensor的第一列的值全为0\n",
    "        # 因为这个是填充词'<blank>'所在的id位置，不应该计入\n",
    "        # 目标词表。需要注意的是，true_dist的每一列，代表目标语言词表\n",
    "        #中的一个词的id\n",
    "        mask = torch.nonzero(target.data == self.padding_idx)\n",
    "        \n",
    "         # mask = tensor([[2]]), 也就是说，最后一个词 2,1,0中的0，\n",
    "        # 因为是'<blank>'的id，所以通过上面的一步，把他们找出来\n",
    "        # 如果不加上nonzero，那么mask的shape就是torch.Size([3])\n",
    "        if mask.dim() > 0:\n",
    "            true_dist.index_fill_(0, mask.squeeze(), 0.0)\n",
    "            # 当target reference序列中有0这个'<blank>'的时候，则需要把\n",
    "            # 这一行的值都清空。\n",
    "            # 在一个batch里面的时候，可能两个序列长度不一，所以短的序列需要\n",
    "            # pad '<blank>'来填充，所以会出现类似于(2,1,0)这样的情况\n",
    "            # true_dist = tensor([[0.0000, 0.1333, 0.6000, 0.1333, 0.1333],\n",
    "            # [0.0000, 0.6000, 0.1333, 0.1333, 0.1333],\n",
    "            # [0.0000, 0.0000, 0.0000, 0.0000, 0.0000]])\n",
    "        self.true_dist = true_dist\n",
    "        return self.criterion(x, Variable(true_dist, requires_grad=False))\n",
    "        # 这一步就是调用KL loss来计算\n",
    "          # x = tensor([[-20.7233,  -1.6094,  -0.3567,  -2.3026, -20.7233],\n",
    "          #[-20.7233,  -1.6094,  -0.3567,  -2.3026, -20.7233],\n",
    "          #[-20.7233,  -1.6094,  -0.3567,  -2.3026, -20.7233]])\n",
    "          \n",
    "          # true_dist=tensor([[0.0000, 0.1333, 0.6000, 0.1333, 0.1333],\n",
    "          # [0.0000, 0.6000, 0.1333, 0.1333, 0.1333],\n",
    "          # [0.0000, 0.0000, 0.0000, 0.0000, 0.0000]])\n",
    "\n",
    "class SimpleLossCompute: # 计算损失并反向传播\n",
    "    def __init__(self, generator, criterion, opt=None) -> None:\n",
    "        self.generator = generator\n",
    "        self.criterion = criterion\n",
    "        self.opt = opt\n",
    "    \n",
    "    def __call__(self, x, y, norm):\n",
    "        x = self.generator(x)\n",
    "        loss = self.criterion(x.contiguous().view(-1, x.size(-1)), y.contiguous().view(-1)) / norm.item()\n",
    "        loss.backward()\n",
    "        if self.opt:\n",
    "            self.opt.step()\n",
    "            self.opt.optimizer.zero_grad()\n",
    "        return loss.data.item() * norm.item()\n",
    "        \n",
    "        \n",
    "        \n",
    "def run_epoch(aepoch, data_iter, model, loss_compute):\n",
    "\n",
    "    \"Standard Training and Logging Function\"\n",
    "    # data_iter = 所有数据的打包\n",
    "    # model = EncoderDecoder 对象\n",
    "    # loss_compute = SimpleLossCompute对象\n",
    "    start = time.time()\n",
    "    total_tokens = 0\n",
    "    total_loss = 0\n",
    "    tokens = 0\n",
    "    for i, batch in enumerate(data_iter):\n",
    "        # 对每个batch循环\n",
    "        out = model.forward(batch.src, batch.trg, \n",
    "                            batch.src_mask, batch.trg_mask)\n",
    "        # 使用目前的model，对batch.src+batch.trg进行forward\n",
    "                            \n",
    "        # e.g.,\n",
    "        # batch.src (2,4) = tensor([[1, 4, 2, 1],\n",
    "        # [1, 4, 4, 4]], dtype=torch.int32)\n",
    "        \n",
    "        # batch.trg (2,3) = tensor([[1, 4, 2],\n",
    "        # [1, 4, 4]], dtype=torch.int32)\n",
    "        \n",
    "        # batch.src_mask (2,1,4) = tensor([[[1, 1, 1, 1]],\n",
    "        # [[1, 1, 1, 1]]], dtype=torch.uint8)\n",
    "        \n",
    "        # batch.trg_mask (2,3,3) = tensor([[[1, 0, 0],\n",
    "        # [1, 1, 0],\n",
    "        # [1, 1, 1]],\n",
    "\n",
    "        #[[1, 0, 0],\n",
    "        # [1, 1, 0],\n",
    "         #[1, 1, 1]]], dtype=torch.uint8)\n",
    "         \n",
    "        # and out (2,3,8):\n",
    "        # out = tensor([[[-0.4749, -0.4887,  0.1245, -0.4042,  0.5301,  \n",
    "        #   1.7662, -1.6224, 0.5694],\n",
    "        # [ 0.4683, -0.7813,  0.2845,  0.4464, -0.3088, -0.1751, -1.6643,\n",
    "        #   1.7303],\n",
    "         #[-1.1600, -0.2348,  1.0631,  1.3192, -0.9453,  0.3538,  0.7051...                 \n",
    "        \n",
    "        loss = loss_compute(out, batch.trg_y, batch.ntokens)\n",
    "        # out和trg_y计算Loss\n",
    "        # ntokens = 6 (trg_y中非'<blank>'的token的个数)\n",
    "        # 注意，这里是token,不是unique word\n",
    "        # 例如[ [ [1, 2, 3], [2,3,4] ]中有6个token,而只有4个unique word\n",
    "        \n",
    "        total_loss += loss\n",
    "        total_tokens += batch.ntokens\n",
    "        tokens += batch.ntokens\n",
    "        if i % 50 == 1:\n",
    "            elapsed = time.time() - start\n",
    "            \"attention here 这里隐藏一个bug\"\n",
    "            #print(\"Epoch Step: %d Loss: %f Tokens per Sec: %f\" %\n",
    "            #        (i, loss / batch.ntokens, tokens / elapsed))\n",
    "            print ('epoch step: {}:{} Loss: {}/{}, tokens per sec: {}/{}'\n",
    "                    .format(aepoch, i, loss, batch.ntokens, \n",
    "                    tokens, elapsed))\n",
    "            start = time.time()\n",
    "            tokens = 0\n",
    "    return total_loss / total_tokens"
   ]
  },
  {
   "cell_type": "code",
   "execution_count": 49,
   "metadata": {},
   "outputs": [
    {
     "data": {
      "text/plain": [
       "Text(0, 0.5, 'learning rate')"
      ]
     },
     "execution_count": 49,
     "metadata": {},
     "output_type": "execute_result"
    },
    {
     "data": {
      "image/png": "[encoded data removed]",
      "text/plain": [
       "<Figure size 432x288 with 1 Axes>"
      ]
     },
     "metadata": {
      "needs_background": "light"
     },
     "output_type": "display_data"
    }
   ],
   "source": [
    "opts = [NoamOpt(512, 1, 4000, None), \n",
    "        NoamOpt(512, 1, 8000, None),\n",
    "        NoamOpt(256, 1, 4000, None)]\n",
    "plt.plot(np.arange(1, 20000), \n",
    "  [[opt.rate(i) for opt in opts] for i in range(1, 20000)])\n",
    "plt.legend([\"512:4000\", \"512:8000\", \"256:4000\"])\n",
    "plt.xlabel('iterations')\n",
    "plt.ylabel('learning rate')"
   ]
  },
  {
   "cell_type": "markdown",
   "metadata": {},
   "source": [
    "# 训练过程"
   ]
  },
  {
   "cell_type": "code",
   "execution_count": 50,
   "metadata": {},
   "outputs": [
    {
     "name": "stderr",
     "output_type": "stream",
     "text": [
      "d:\\Anaconda\\lib\\site-packages\\torch\\nn\\_reduction.py:42: UserWarning: size_average and reduce args will be deprecated, please use reduction='sum' instead.\n",
      "  warnings.warn(warning.format(ret))\n"
     ]
    },
    {
     "name": "stdout",
     "output_type": "stream",
     "text": [
      "start model training...\n",
      "epoch=0, training...\n",
      "epoch step: 0:1 Loss: 88.65534043312073/31, tokens per sec: 62/0.28242969512939453\n",
      "evaluating...\n",
      "epoch step: 0:1 Loss: 102.32730031013489/35, tokens per sec: 66/0.060967445373535156\n",
      "tensor(2.8912)\n",
      "epoch=1, training...\n",
      "epoch step: 1:1 Loss: 77.49501848220825/31, tokens per sec: 63/0.09920382499694824\n",
      "evaluating...\n",
      "epoch step: 1:1 Loss: 84.65634942054749/31, tokens per sec: 64/0.05257558822631836\n",
      "tensor(2.6950)\n",
      "epoch=2, training...\n",
      "epoch step: 2:1 Loss: 90.68220734596252/35, tokens per sec: 69/0.07580423355102539\n",
      "evaluating...\n",
      "epoch step: 2:1 Loss: 95.7685604095459/36, tokens per sec: 70/0.04938197135925293\n",
      "tensor(2.8016)\n",
      "epoch=3, training...\n",
      "epoch step: 3:1 Loss: 100.91917181015015/34, tokens per sec: 68/0.07680249214172363\n",
      "evaluating...\n",
      "epoch step: 3:1 Loss: 83.68315076828003/34, tokens per sec: 65/0.05086374282836914\n",
      "tensor(2.7281)\n",
      "epoch=4, training...\n",
      "epoch step: 4:1 Loss: 93.78761315345764/33, tokens per sec: 67/0.07280731201171875\n",
      "evaluating...\n",
      "epoch step: 4:1 Loss: 80.1437520980835/31, tokens per sec: 64/0.048876047134399414\n",
      "tensor(2.7962)\n",
      "epoch=5, training...\n",
      "epoch step: 5:1 Loss: 80.39596557617188/32, tokens per sec: 65/0.07956457138061523\n",
      "evaluating...\n",
      "epoch step: 5:1 Loss: 77.84976482391357/30, tokens per sec: 64/0.04983162879943848\n",
      "tensor(2.5845)\n",
      "epoch=6, training...\n",
      "epoch step: 6:1 Loss: 90.27347016334534/33, tokens per sec: 64/0.07081174850463867\n",
      "evaluating...\n",
      "epoch step: 6:1 Loss: 87.2994384765625/32, tokens per sec: 64/0.04470324516296387\n",
      "tensor(2.5351)\n",
      "epoch=7, training...\n",
      "epoch step: 7:1 Loss: 75.774658203125/32, tokens per sec: 60/0.08058738708496094\n",
      "evaluating...\n",
      "epoch step: 7:1 Loss: 96.8997573852539/36, tokens per sec: 69/0.05186104774475098\n",
      "tensor(2.6010)\n",
      "epoch=8, training...\n",
      "epoch step: 8:1 Loss: 86.1125693321228/33, tokens per sec: 66/0.07779383659362793\n",
      "evaluating...\n",
      "epoch step: 8:1 Loss: 88.3519515991211/32, tokens per sec: 64/0.04592585563659668\n",
      "tensor(2.5940)\n",
      "epoch=9, training...\n",
      "epoch step: 9:1 Loss: 79.15554213523865/33, tokens per sec: 68/0.0791933536529541\n",
      "evaluating...\n",
      "epoch step: 9:1 Loss: 83.3953857421875/30, tokens per sec: 64/0.04747176170349121\n",
      "tensor(2.6911)\n"
     ]
    }
   ],
   "source": [
    "# Train the simple copy task.\n",
    "V = 11 # here V is the vocab size of source and target languages (sequences)\n",
    "criterion = LabelSmoothing(size=V, \n",
    "    padding_idx=0, smoothing=0.01) # 创建损失函数计算对象\n",
    "    \n",
    "model = make_model(V, V, N=2, d_model=8, d_ff=16, h=2) \n",
    "# EncoderDecoder对象构造\n",
    "'''\n",
    "in make_model: src_vocab_size=11, tgt_vocab_size=11, \n",
    "    N=2, d_model=512, d_ff=2048, h=8, dropout=0.1\n",
    "'''\n",
    "\n",
    "model_opt = NoamOpt(model.src_embed[0].d_model, 1, 400,\n",
    "        torch.optim.Adam(model.parameters(), \n",
    "        lr=0, betas=(0.9, 0.98), eps=1e-9))\n",
    "# 模型最优化算法的对象\n",
    "\n",
    "lossfun = SimpleLossCompute(model.generator, \n",
    "        criterion, model_opt)\n",
    "if True:\n",
    "    print ('start model training...')\n",
    "    for epoch in range(10):\n",
    "        print ('epoch={}, training...'.format(epoch))\n",
    "        model.train() # set the model into \"train\" mode\n",
    "        # 设置模型进入训练模式\n",
    "        \n",
    "        #lossfun = SimpleLossCompute(model.generator, \n",
    "        #    criterion, model_opt) # 不需要在这里定义lossfun\n",
    "        \n",
    "        run_epoch(epoch, data_gen(V, 4, 2), model, lossfun)\n",
    "        # 重新构造一批数据，并执行训练\n",
    "        \n",
    "        model.eval() # 模型进入evaluation模式 (dropout，反向传播无效）\n",
    "        print ('evaluating...')\n",
    "        print(run_epoch(epoch, data_gen(V, 4, 2), model, \n",
    "                        SimpleLossCompute(model.generator, \n",
    "                        criterion, None)))\n",
    "        # 这里None表示优化函数为None，所以不进行参数更新 "
   ]
  },
  {
   "cell_type": "markdown",
   "metadata": {},
   "source": [
    "# 测试过程（贪心搜索）"
   ]
  },
  {
   "cell_type": "code",
   "execution_count": 54,
   "metadata": {},
   "outputs": [
    {
     "name": "stdout",
     "output_type": "stream",
     "text": [
      "memory=tensor([[[-0.0074, -0.5101,  0.9849,  1.7664,  0.3676, -0.3998, -1.1558,\n",
      "          -1.0329],\n",
      "         [-0.1066, -0.4749, -0.6959,  1.8062,  1.3188, -0.7176, -0.2250,\n",
      "          -0.8860],\n",
      "         [ 0.2270, -1.0549,  0.5829,  1.4915,  0.6446, -0.4115,  0.1804,\n",
      "          -1.6517],\n",
      "         [ 0.1524, -0.9586,  0.1945,  1.6614,  1.0826, -1.3099, -0.1595,\n",
      "          -0.6519]]], grad_fn=<AddBackward0>), memory.shape=torch.Size([1, 4, 8])\n",
      "ys=tensor([[1]]), ys.shape=torch.Size([1, 1])\n",
      "out.shape=torch.Size([1, 1, 8])\n",
      "next_word=1\n",
      "out.shape=torch.Size([1, 2, 8])\n",
      "next_word=1\n",
      "out.shape=torch.Size([1, 3, 8])\n",
      "next_word=1\n",
      "out.shape=torch.Size([1, 4, 8])\n",
      "next_word=1\n",
      "tensor([[1, 1, 1, 1, 1]])\n"
     ]
    }
   ],
   "source": [
    "def greedy_decode(model, src, src_mask, max_len, start_symbol):\n",
    "    memory = model.encode(src, src_mask) \n",
    "    # 源语言的一个batch\n",
    "    # 执行encode编码工作，得到memory \n",
    "    # shape=(batch.size, src.seq.len, d_model)\n",
    "    \n",
    "    # src = (1,4), batch.size=1, seq.len=4\n",
    "    # src_mask = (1,1,4) with all ones\n",
    "    # start_symbol=1\n",
    "    \n",
    "    print ('memory={}, memory.shape={}'.format(memory, \n",
    "        memory.shape))\n",
    "    ys = torch.ones(1, 1).fill_(start_symbol).type_as(src.data)\n",
    "    # 最初ys=[[1]], size=(1,1); 这里start_symbol=1\n",
    "    print ('ys={}, ys.shape={}'.format(ys, ys.shape))\n",
    "    for i in range(max_len-1): # max_len = 5\n",
    "        out = model.decode(memory, src_mask, \n",
    "                           Variable(ys), \n",
    "                           Variable(subsequent_mask(ys.size(1))\n",
    "                                    .type_as(src.data)))\n",
    "        # memory, (1, 4, 8), 1=batch.size, 4=src.seq.len, 8=d_model\n",
    "        # src_mask = (1,1,4) with all ones\n",
    "        # out, (1, 1, 8), 1=batch.size, 1=seq.len, 8=d_model                             \n",
    "        # print ('out={}, out.shape={}'.format(out, out.shape))\n",
    "        print('out.shape={}'.format(out.shape))\n",
    "        prob = model.generator(out[:, -1]) \n",
    "        # pick the right-most word\n",
    "        # (1=batch.size,8) -> generator -> prob=(1,5) 5=trg.vocab.size\n",
    "        # -1 for ? only look at the final (out) word's vector\n",
    "        _, next_word = torch.max(prob, dim = 1)\n",
    "        next_word = next_word.data[0]\n",
    "        print('next_word={}'.format(next_word))\n",
    "        # word id of \"next_word\"\n",
    "        ys = torch.cat([ys, \n",
    "          torch.ones(1, 1).type_as(src.data).fill_(next_word)], \n",
    "          dim=1)\n",
    "        # ys is in shape of (1,2) now, i.e., 2 words in current seq\n",
    "    return ys\n",
    "\n",
    "if True:\n",
    "    model.eval()\n",
    "    src = Variable(torch.LongTensor([[1,2,3,4]]))\n",
    "    src_mask = Variable(torch.ones(1, 1, 4))\n",
    "    print(greedy_decode(model, src, src_mask, max_len=5, \n",
    "        start_symbol=1))\n"
   ]
  }
 ],
 "metadata": {
  "kernelspec": {
   "display_name": "Python 3.9.7 ('base')",
   "language": "python",
   "name": "python3"
  },
  "language_info": {
   "codemirror_mode": {
    "name": "ipython",
    "version": 3
   },
   "file_extension": ".py",
   "mimetype": "text/x-python",
   "name": "python",
   "nbconvert_exporter": "python",
   "pygments_lexer": "ipython3",
   "version": "3.9.7"
  },
  "orig_nbformat": 4,
  "vscode": {
   "interpreter": {
    "hash": "88279d2366fe020547cde40dd65aa0e3aa662a6ec1f3ca12d88834876c85e1a6"
   }
  }
 },
 "nbformat": 4,
 "nbformat_minor": 2
}
