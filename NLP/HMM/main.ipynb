{
 "cells": [
  {
   "cell_type": "code",
   "execution_count": 30,
   "metadata": {},
   "outputs": [
    {
     "data": {
      "text/plain": [
       "[2, 2, 2]"
      ]
     },
     "execution_count": 30,
     "metadata": {},
     "output_type": "execute_result"
    }
   ],
   "source": [
    "def viterbi(obs, states, start_p, trans_p, emit_p):\n",
    "    V = [{}] # 列表idx代表时间t，字典的键代表状态值，值代表概率\n",
    "    path = {} # 最佳路径\n",
    "    for y in states:\n",
    "        V[0][y] = start_p[y] * emit_p[y].get(obs[0], 1e-5)\n",
    "        path[y] = [0] # 都初始化为0\n",
    "    \n",
    "    for t in range(1, len(obs)):\n",
    "        V.append({})\n",
    "        for y in states:\n",
    "            em_p = emit_p[y].get(obs[t], 1e-5) # 取出观测值对应的概率\n",
    "            (prob, state) = max([(V[t-1][y0]*trans_p[y0][y]*em_p, y0) for y0 in states])\n",
    "            V[t][y] = prob\n",
    "            path[y] = path[y] + [state] # 记录路径，state是当前时间t状态为y时t-1的最佳状态，也就是从state转移到y的概率最大。如果最后时刻的最佳状态是y，则回溯从y开始，最后的状态也是y。\n",
    "    (prob, state) = max((V[len(obs)-1][y], y) for y in states) # 求最后时刻的最大概率和状态。\n",
    "\n",
    "    return path[state][1:] + [state] # 初始状态是0，所以去掉第一个0，再加上最后时刻的最大概率的状态，结果就是最佳路径。这里键对值的过程相当于回溯了。\n",
    "\n",
    "A = {\n",
    "    0 : {0:0.5, 1:0.2, 2:0.3},\n",
    "    1 : {0:0.3, 1:0.5, 2:0.2},\n",
    "    2 : {0:0.2, 1:0.3, 2:0.5}\n",
    "    \n",
    "}\n",
    "B = {\n",
    "    0: {'红': 0.5, '白': 0.5},\n",
    "    1: {'红': 0.4, '白': 0.6},\n",
    "    2: {'红': 0.7, '白': 0.3}\n",
    "}\n",
    "π = {0:0.2, 1:0.4, 2:0.4}\n",
    "viterbi(['红', '白', '红'], [0, 1, 2], π, A, B)"
   ]
  },
  {
   "cell_type": "code",
   "execution_count": null,
   "metadata": {},
   "outputs": [],
   "source": []
  }
 ],
 "metadata": {
  "kernelspec": {
   "display_name": "Python 3.9.7 ('base')",
   "language": "python",
   "name": "python3"
  },
  "language_info": {
   "codemirror_mode": {
    "name": "ipython",
    "version": 3
   },
   "file_extension": ".py",
   "mimetype": "text/x-python",
   "name": "python",
   "nbconvert_exporter": "python",
   "pygments_lexer": "ipython3",
   "version": "3.9.7"
  },
  "orig_nbformat": 4,
  "vscode": {
   "interpreter": {
    "hash": "88279d2366fe020547cde40dd65aa0e3aa662a6ec1f3ca12d88834876c85e1a6"
   }
  }
 },
 "nbformat": 4,
 "nbformat_minor": 2
}
