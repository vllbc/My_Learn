{
 "cells": [
  {
   "cell_type": "markdown",
   "metadata": {
    "id": "s3V0KFjzy37F"
   },
   "source": [
    "# STAT4609 Assignment 6:  Gibbs sampling algorithm for Latent Dirichlet Allocation. \n",
    "\n",
    "In this assignment, we are going to understand the idea of latent Dirichlet allocation (LDA), a flexible model to estimate the properties of text. On the example of\n",
    "LDA, the usage of Gibbs sampling is shown as a straight-forward means of approximate\n",
    "inference in Bayesian networks. \n",
    "\n",
    "\n",
    "## Part 1: Reading and Short Essay\n",
    "\n",
    "### Please read the following paper via [this link](https://www.pnas.org/content/101/suppl_1/5228).\n",
    "\n",
    "    Griffiths, Thomas L., and Mark Steyvers. \"Finding scientific topics.\" Proceedings of the National academy of Sciences 101.suppl 1 (2004): 5228-5235.\n",
    "\n",
    "\n",
    "\n",
    "The notations in the aforementioned reference varies. Please be careful when you are reading. \n",
    "\n",
    "\n",
    "\n",
    "### Please write a short essay to describe the following subjects, \n",
    "1. The probabilistic graphcial models and dependencies for LDA model. Please define notations before refering to.  \n",
    "2. The Gibbs sampling update steps for the parameters of LDA. Deriving the update steps should be straightforward after writing the dependencies of the parameters in the graphical model.\n",
    "3. The goal of Gibbs Sampling for the inference Latent Dirichlet Allocation? \n",
    "\n",
    "\n",
    "**Optional**\n",
    "\n",
    "If you would like to know more about the mathematical and technical details, please read **Section 5**, [Parameter estimation for text analysis](http://www.arbylon.net/publications/text-est.pdf).\n",
    "\n",
    "Please note that all the comments and notations in this jupyter notebook follows this reference for your convenience."
   ]
  },
  {
   "cell_type": "code",
   "execution_count": 2,
   "metadata": {
    "id": "CQjCSzVuy4Dw"
   },
   "outputs": [],
   "source": [
    "%matplotlib inline"
   ]
  },
  {
   "cell_type": "markdown",
   "metadata": {
    "id": "UZjc7h-kDONc"
   },
   "source": [
    "## Part 2 Implementation of LDA and Inference via Gibbs sampling for LDA \n",
    "Although latent Dirichlet allocation is still a relatively simple model, exact inference is generally intractable. The solution to this is to use approximate inference algorithms. Gibbs sampling is a special case of Markov-chain Monte Carlo (MCMC) simulation and often yields relatively simple algorithms for approximate inference in high-dimensional models such as LDA. Therefore we select this approach and present a derivation that is more detailed than the original one by Griffiths and Steyvers. \n",
    "\n",
    "\n",
    "To derive a Gibbs sampler for LDA, we apply the hidden-variable method from above. The hidden variables in our model are $z_{d, w}$, i.e., the topic that appear with the word $w$ in document $d$ . We do not need to include, i.e., can integrate out, the parameter sets $\\Theta$ and $\\Phi$ because they can be interpreted as statistics of the associations between the observed word and the corresponding topic, the state variables of the Markov chain. \n",
    "\n",
    "In this assignment, we will use Gibbs sampling for LDA. \n",
    "distribution. During the inference, the distribution of topics in docuemnts, $\\mathbf{\\theta}$, the distribution of words in topics $\\mathbf{\\phi}$, and likelihood \n",
    "$p(\\mathbf{w}|\\mathbf{z})$ are estimated. \n",
    "\n",
    "\n",
    "### Settings\n",
    "1. we have $T$ topics\n",
    "2. The copus are consist of $D$ documents, and there are $W$ words within each document $d$. \n",
    "3. For dirichlet distribution of $\\mathbf{\\phi}$, the the number of prior parameters are equal to the number of vocabulary. The prior parameters are all of the same value, $\\beta$. \n",
    "4. For dirichlet distribution of $\\mathbf{\\theta}$, the the number of prior parameters are equal to the number of topics. The prior parameters are all of the same value, $\\alpha$. \n",
    "\n",
    "###  Argument Definitions and Types \n",
    "\n",
    "\n",
    "\n",
    "```\n",
    "z: z must take in (d,w,i) as input, corresponding to \n",
    "    topic indicator for i-th obserevation of word w in doc d.\n",
    "    z is a python dictionary. \n",
    "```\n",
    "```\n",
    "topic_word_matrix: of dimension (T, W).  \n",
    "    It refers to the topic of each word. t-th row of topic_word_matrix corresponds to the word observation counts for topic $t$. \n",
    "\n",
    "```     \n",
    "In the first reference, ```topic_word_matrix[j, w]``` is noted as $n_j^{(w)}$, which is the number of times word $w$ has been assigned\n",
    "to topic $j$. \n",
    "\n",
    "\n",
    "```\n",
    "doc_topic_matrix: of dimension (D, T). It refers to the topic counts for each document. \n",
    "\n",
    "```\n",
    "```doc_topic_matrix[d, j]``` is noted as $n_j^{(d)}$ the number of times a word from document $d$ has been assigned to topic $j$.  \n",
    "\n",
    "\n",
    "```\n",
    "topic_counts: the total number of words has been assigned to each topic. \n",
    "```\n",
    "\n",
    "\n",
    "\n",
    "```\n",
    "doc_counts: document topic sum \n",
    "```\n",
    "\n",
    "\n",
    "log_likelihood corresponding to the $log(p(\\mathbf{w}|\\mathbf{z}))$. $p(\\mathbf{w}|\\mathbf{z})$ is equation [2] in the first reference. \n",
    "\n",
    "\n"
   ]
  },
  {
   "cell_type": "code",
   "execution_count": 18,
   "metadata": {
    "colab": {
     "base_uri": "https://localhost:8080/",
     "height": 130
    },
    "id": "MdNzvsdeJVJG",
    "outputId": "5b63044c-d0c7-47da-a35a-932fedc4ebf7"
   },
   "outputs": [],
   "source": [
    "\"\"\"\n",
    "LDA implementation in Python\n",
    "\n",
    "@author: Michael Zhang\n",
    "\"\"\"\n",
    "\n",
    "import matplotlib.pyplot as plt\n",
    "import numpy as np\n",
    "import scipy\n",
    "\n",
    "class LDA(object):\n",
    "    \n",
    "    def __init__(self, tdm, T, alpha = 1., beta=1., iteration=100):\n",
    "        \"\"\"\n",
    "        tdm: the copus, of (D, Num_words_in_corpus), \n",
    "            the value of each entry is the counts of corresponding words in this the corresponding document.\n",
    "            e.g.\n",
    "            tdm[d, w] = number of word w appears in document d. \n",
    "        T: the number of topics \n",
    "        \n",
    "        \"\"\"\n",
    "        self.tdm = tdm\n",
    "        self.D, self.W = self.tdm.shape             \n",
    "        self.alpha= alpha # count for expected value for hyper parameter alpha of theta, i.e. document-topic distribution.\n",
    "        self.beta = beta # count for expected value for hyper parameter beta topic-word distribution.\n",
    "        self.T = T \n",
    "        self.iteration = iteration\n",
    "        \n",
    "        # z must take in (d,w,i) as input, corresponding to \n",
    "        # topic indicator for i-th obserevation of word w in doc d\n",
    "        self.z = {} \n",
    "        self.topic_word_matrix = np.zeros((self.T, self.W)) # initialize the topic-word matrix.\n",
    "        self.doc_topic_matrix = np.zeros((self.D, self.T)) # initialize the documnet-topic matrix.\n",
    "        self.topic_counts = np.zeros(self.T) # initialize the topic counter for after sampling process, should be sum of value in self.topic_word_matrix\n",
    "        self.doc_counts = np.zeros(self.D) # initialize the doc counter for after sampling process, should be sum of value in self.doc_topic_matrix\n",
    "        self.log_likelihood = np.zeros(self.iteration) # store the value of log likelihood at each iteration\n",
    "        self._init_matrix()\n",
    "        \n",
    "        \n",
    "    # @pysnooper.snoop('init.log')    \n",
    "    def _init_matrix(self):\n",
    "        \"\"\"\n",
    "        for all words\n",
    "        1. sample a topic randomly from T topics for each word \n",
    "        2. increment topic word count, self.topic_word_matrix\n",
    "        3. increment document topic count,  self.doc_topic_matrix \n",
    "        4. update the topic indicator z. \n",
    "        \"\"\"\n",
    "        for d in range(self.D): \n",
    "            doc = scipy.sparse.coo_matrix(self.tdm[d])\n",
    "            word_freq_topic = zip(doc.col, doc.data)\n",
    "            for w, frequency in word_freq_topic: # (word, freq)\n",
    "                for i in range(frequency):\n",
    "                    ############ Finish the following initialization steps #############\n",
    "                    # 1. sample a topic randomly from T topics for each word \n",
    "                    topic = np.random.randint(self.T)\n",
    "                    # 2. increment topic word count, self.topic_word_matrix\n",
    "                    self.topic_word_matrix[topic, w] += 1\n",
    "                    # 3. increment document topic count,  self.doc_topic_matrix \n",
    "                    self.doc_topic_matrix[d, topic] += 1\n",
    "                    # 4. update the topic indicator z. \n",
    "                    self.z[(d, w, i)] = topic # d: document ID; w: word ID: i: instance ID，即在d中第几个w\n",
    "\n",
    "      \n",
    "        self.topic_counts = self.topic_word_matrix.sum(axis=1)\n",
    "        self.doc_counts = self.doc_topic_matrix.sum(axis=1)\n",
    "\n",
    "    def fit(self):\n",
    "        for it in range(self.iteration):\n",
    "            # iterate over all the documents\n",
    "            for d in range(self.D):\n",
    "            # iterate over all the words in d\n",
    "                for w in self.tdm[d].indices: \n",
    "                    # iterate over number of times observed word w in doc d\n",
    "                    for i in range(self.tdm[d, w]):\n",
    "                        # we apply the hidden-varible method of Gibbs sampler, the hidden variable is z[(d,w,i)]\n",
    "                        self.doc_topic_matrix[d,self.z[(d,w,i)]] -= 1\n",
    "                        self.doc_counts[d] -= 1\n",
    "                        self.topic_word_matrix[self.z[(d,w,i)],w] -= 1\n",
    "                        self.topic_counts[self.z[(d,w,i)]] -= 1\n",
    "\n",
    "                        # estimation of phi and theta for the current corpus \n",
    "                        phi_hat = (self.topic_word_matrix[:, w] + self.beta) / (self.topic_counts + self.beta * self.W)\n",
    "                        theta_hat = (self.doc_topic_matrix[d, :] + self.alpha) / (self.doc_counts[d] + self.alpha * self.T)\n",
    "\n",
    "                        # calculate the full conditional distribution\n",
    "                        full_conditional = phi_hat * theta_hat\n",
    "                        # normalize full_conditional such that it summation equals to 1. \n",
    "                        full_conditional = full_conditional / full_conditional.sum()\n",
    "                        # sample a topic for i-th obserevation of word w in doc d based on full_conditional\n",
    "                        new_topic = np.random.multinomial(1, full_conditional).argmax()\n",
    "                        \n",
    "                        # update z, doc_topic_matrix, doc_counts, topic_word_matrix, topic_counts here. \n",
    "                        self.z[(d,w,i)] = new_topic\n",
    "\n",
    "                        self.doc_topic_matrix[d,self.z[(d,w,i)]] += 1\n",
    "                        self.topic_word_matrix[self.z[(d,w,i)],w] += 1\n",
    "                        self.doc_counts[d] += 1\n",
    "                        self.topic_counts[self.z[(d,w,i)]] += 1\n",
    "                        ############################################################\n",
    "\n",
    "\n",
    "            # Equation 2  log P(w|z)  for each iteration based on Equation [2]\n",
    "            ## +++++++++ insert code below ++++++++++++++++++++++++###\n",
    "            self.log_likelihood[it] = 0\n",
    "            for k in range(self.T):\n",
    "                for w in range(self.W):\n",
    "                    self.log_likelihood[it] += self.topic_word_matrix[k,w] * np.log((self.topic_word_matrix[k,w] + self.beta) / (self.topic_counts[k] + self.beta * self.W))\n",
    "            ############################################################\n",
    "            print('Iteration %i\\t LL: %.2f' % (it,self.log_likelihood[it]))\n",
    "        self.theta = (self.doc_topic_matrix + self.alpha) / (self.doc_counts[:,np.newaxis] + self.alpha * self.T)\n",
    "        self.phi = (self.topic_word_matrix + self.beta) / (self.topic_counts[:,np.newaxis] + self.beta * self.W)\n",
    "\n"
   ]
  },
  {
   "cell_type": "markdown",
   "metadata": {
    "id": "daZsxFKjJtUD"
   },
   "source": [
    "### Experiment 1: Well separated synthetic dataset. \n",
    "\n",
    "This synthetic dataset consists of 100 documents, and 500 words as total number of vocabulary There are 5 topics in total. \n",
    "\n",
    "In this experiment, you are not required to write any additional code. Run the following code, and see if your topic_word_matrix could resemble true \"phi\", i.e. the true distribution of words in each topic, up to reordering. \n",
    "\n"
   ]
  },
  {
   "cell_type": "code",
   "execution_count": 19,
   "metadata": {
    "id": "qflRoF_ZJuGi"
   },
   "outputs": [
    {
     "data": {
      "text/plain": [
       "<100x500 sparse matrix of type '<class 'numpy.intc'>'\n",
       "\twith 8552 stored elements in Compressed Sparse Row format>"
      ]
     },
     "execution_count": 19,
     "metadata": {},
     "output_type": "execute_result"
    }
   ],
   "source": [
    "# dataloading \n",
    "from sklearn import datasets\n",
    "from sklearn.feature_extraction.text import CountVectorizer\n",
    "\n",
    "\n",
    "synthetic_data = scipy.io.loadmat('well_separated_synthetic.mat')\n",
    "sk_tdm = scipy.sparse.csr_matrix(synthetic_data['W'])\n",
    "sk_tdm # of shape 100 \\times 500 "
   ]
  },
  {
   "cell_type": "code",
   "execution_count": 20,
   "metadata": {
    "id": "7XBLl7f7JzPe"
   },
   "outputs": [
    {
     "data": {
      "text/plain": [
       "<matplotlib.image.AxesImage at 0x2292147dca0>"
      ]
     },
     "execution_count": 20,
     "metadata": {},
     "output_type": "execute_result"
    },
    {
     "data": {
      "image/png": "[encoded data removed]",
      "text/plain": [
       "<Figure size 432x288 with 1 Axes>"
      ]
     },
     "metadata": {
      "needs_background": "light"
     },
     "output_type": "display_data"
    }
   ],
   "source": [
    "\n",
    "# first run LDA on synthetic data set, \n",
    "# if code works then topic_word_matrix should \n",
    "# resemble true \"phi\", up to reordering\n",
    "\n",
    "# distribution of words in 5 topics, \n",
    "plt.imshow(synthetic_data['phi'],aspect='auto')\n"
   ]
  },
  {
   "cell_type": "code",
   "execution_count": 21,
   "metadata": {
    "id": "Om9cCvQp82u1"
   },
   "outputs": [
    {
     "name": "stdout",
     "output_type": "stream",
     "text": [
      "Iteration 0\t LL: -58951.28\n",
      "Iteration 1\t LL: -58316.75\n",
      "Iteration 2\t LL: -58020.06\n",
      "Iteration 3\t LL: -57764.63\n",
      "Iteration 4\t LL: -57790.21\n",
      "Iteration 5\t LL: -57810.85\n",
      "Iteration 6\t LL: -57699.38\n",
      "Iteration 7\t LL: -57566.27\n",
      "Iteration 8\t LL: -57356.45\n",
      "Iteration 9\t LL: -57314.97\n",
      "Iteration 10\t LL: -57211.19\n",
      "Iteration 11\t LL: -57078.47\n",
      "Iteration 12\t LL: -56922.51\n",
      "Iteration 13\t LL: -56818.92\n",
      "Iteration 14\t LL: -56717.99\n",
      "Iteration 15\t LL: -56650.16\n",
      "Iteration 16\t LL: -56801.16\n",
      "Iteration 17\t LL: -56910.37\n",
      "Iteration 18\t LL: -56716.04\n",
      "Iteration 19\t LL: -56553.19\n",
      "Iteration 20\t LL: -56526.79\n",
      "Iteration 21\t LL: -56496.45\n",
      "Iteration 22\t LL: -56248.54\n",
      "Iteration 23\t LL: -56215.66\n",
      "Iteration 24\t LL: -56084.99\n",
      "Iteration 25\t LL: -56052.85\n",
      "Iteration 26\t LL: -55952.92\n",
      "Iteration 27\t LL: -55749.12\n",
      "Iteration 28\t LL: -55837.06\n",
      "Iteration 29\t LL: -55826.46\n",
      "Iteration 30\t LL: -55767.60\n",
      "Iteration 31\t LL: -55776.16\n",
      "Iteration 32\t LL: -55728.58\n",
      "Iteration 33\t LL: -55618.20\n",
      "Iteration 34\t LL: -55687.75\n",
      "Iteration 35\t LL: -55687.47\n",
      "Iteration 36\t LL: -55891.65\n",
      "Iteration 37\t LL: -55777.98\n",
      "Iteration 38\t LL: -55826.73\n",
      "Iteration 39\t LL: -55693.88\n",
      "Iteration 40\t LL: -55637.68\n",
      "Iteration 41\t LL: -55699.22\n",
      "Iteration 42\t LL: -55827.33\n",
      "Iteration 43\t LL: -55843.97\n",
      "Iteration 44\t LL: -55902.29\n",
      "Iteration 45\t LL: -55727.09\n",
      "Iteration 46\t LL: -55577.65\n",
      "Iteration 47\t LL: -55759.88\n",
      "Iteration 48\t LL: -55714.58\n",
      "Iteration 49\t LL: -55821.96\n",
      "Iteration 50\t LL: -55789.11\n",
      "Iteration 51\t LL: -55677.09\n",
      "Iteration 52\t LL: -55607.10\n",
      "Iteration 53\t LL: -55634.54\n",
      "Iteration 54\t LL: -55592.21\n",
      "Iteration 55\t LL: -55618.51\n",
      "Iteration 56\t LL: -55624.63\n",
      "Iteration 57\t LL: -55690.75\n",
      "Iteration 58\t LL: -55538.21\n",
      "Iteration 59\t LL: -55641.03\n",
      "Iteration 60\t LL: -55642.17\n",
      "Iteration 61\t LL: -55759.90\n",
      "Iteration 62\t LL: -55684.82\n",
      "Iteration 63\t LL: -55775.06\n",
      "Iteration 64\t LL: -55843.32\n",
      "Iteration 65\t LL: -55898.84\n",
      "Iteration 66\t LL: -56009.57\n",
      "Iteration 67\t LL: -55866.46\n",
      "Iteration 68\t LL: -55806.02\n",
      "Iteration 69\t LL: -55892.10\n",
      "Iteration 70\t LL: -55769.24\n",
      "Iteration 71\t LL: -55720.51\n",
      "Iteration 72\t LL: -55698.60\n",
      "Iteration 73\t LL: -55684.38\n",
      "Iteration 74\t LL: -55790.21\n",
      "Iteration 75\t LL: -55832.50\n",
      "Iteration 76\t LL: -55802.03\n",
      "Iteration 77\t LL: -55825.42\n",
      "Iteration 78\t LL: -55730.27\n",
      "Iteration 79\t LL: -55717.44\n",
      "Iteration 80\t LL: -55782.60\n",
      "Iteration 81\t LL: -55823.69\n",
      "Iteration 82\t LL: -55800.24\n",
      "Iteration 83\t LL: -55759.55\n",
      "Iteration 84\t LL: -55764.34\n",
      "Iteration 85\t LL: -55739.21\n",
      "Iteration 86\t LL: -55782.95\n",
      "Iteration 87\t LL: -55839.37\n",
      "Iteration 88\t LL: -55943.42\n",
      "Iteration 89\t LL: -55832.52\n",
      "Iteration 90\t LL: -55732.66\n",
      "Iteration 91\t LL: -55732.21\n",
      "Iteration 92\t LL: -55675.55\n",
      "Iteration 93\t LL: -55698.68\n",
      "Iteration 94\t LL: -55641.00\n",
      "Iteration 95\t LL: -55633.09\n",
      "Iteration 96\t LL: -55695.18\n",
      "Iteration 97\t LL: -55807.40\n",
      "Iteration 98\t LL: -55880.25\n",
      "Iteration 99\t LL: -55814.81\n"
     ]
    }
   ],
   "source": [
    "# run LDA with 5 topics on synthetic data set\n",
    "lda = LDA(sk_tdm, T=5, iteration=100)\n",
    "lda.fit()\n"
   ]
  },
  {
   "cell_type": "code",
   "execution_count": 25,
   "metadata": {},
   "outputs": [
    {
     "data": {
      "text/plain": [
       "array([[0.00114811, 0.0003827 , 0.0003827 , ..., 0.0003827 , 0.00267891,\n",
       "        0.0007654 ],\n",
       "       [0.00621118, 0.00496894, 0.01200828, ..., 0.00289855, 0.00082816,\n",
       "        0.00289855],\n",
       "       [0.0004279 , 0.0004279 , 0.0004279 , ..., 0.0004279 , 0.0008558 ,\n",
       "        0.0012837 ],\n",
       "       [0.00036036, 0.00144144, 0.00072072, ..., 0.0036036 , 0.0036036 ,\n",
       "        0.00900901],\n",
       "       [0.00127119, 0.00084746, 0.00042373, ..., 0.00084746, 0.00042373,\n",
       "        0.00084746]])"
      ]
     },
     "execution_count": 25,
     "metadata": {},
     "output_type": "execute_result"
    }
   ],
   "source": [
    "lda.phi"
   ]
  },
  {
   "cell_type": "code",
   "execution_count": 5,
   "metadata": {
    "id": "hb5Nc9IK8-Ax"
   },
   "outputs": [
    {
     "data": {
      "text/plain": [
       "<matplotlib.image.AxesImage at 0x229127a75b0>"
      ]
     },
     "execution_count": 5,
     "metadata": {},
     "output_type": "execute_result"
    },
    {
     "data": {
      "image/png": "[encoded data removed]",
      "text/plain": [
       "<Figure size 432x288 with 2 Axes>"
      ]
     },
     "metadata": {
      "needs_background": "light"
     },
     "output_type": "display_data"
    }
   ],
   "source": [
    "# compare LDA topic word matrix and true topic word distribution\n",
    "f,a = plt.subplots(1,2)\n",
    "\n",
    "a[0].imshow(lda.topic_word_matrix, aspect='auto')\n",
    "a[1].imshow(synthetic_data['phi'], aspect='auto')"
   ]
  },
  {
   "cell_type": "markdown",
   "metadata": {
    "id": "8zNuNlRMk6vV"
   },
   "source": [
    "### Experiment 2.\n",
    "\n",
    "In this experiment, we use a real-world dataset, with 20 topics (newsgroups). \n",
    "1. you need to build and fit LDA model. \n",
    "2. get top 10 words in each topic, (should make sense) \n",
    "3. plot train loglikelihood, i.e. equation [2] in the reference paper, (should increase over iterations)\n",
    "\n",
    "\n"
   ]
  },
  {
   "cell_type": "code",
   "execution_count": 6,
   "metadata": {
    "colab": {
     "base_uri": "https://localhost:8080/",
     "height": 232
    },
    "id": "TC-hjqim8_Qd",
    "outputId": "5b8a9102-b64f-4b41-fd65-f4d5307bb97e"
   },
   "outputs": [],
   "source": [
    "# data loading \n",
    "# create term document matrix, documents from collection of 20 newsgroups\n",
    "count_vector = CountVectorizer(stop_words=\"english\", \n",
    "                                min_df=.01, \n",
    "                                max_df=.95)\n",
    "data_set = datasets.fetch_20newsgroups()\n",
    "sk_tdm = count_vector.fit_transform(data_set['data'])\n"
   ]
  },
  {
   "cell_type": "code",
   "execution_count": 7,
   "metadata": {
    "id": "nsfRA-0K9AkY"
   },
   "outputs": [
    {
     "name": "stderr",
     "output_type": "stream",
     "text": [
      "d:\\Anaconda\\lib\\site-packages\\sklearn\\utils\\deprecation.py:87: FutureWarning: Function get_feature_names is deprecated; get_feature_names is deprecated in 1.0 and will be removed in 1.2. Please use get_feature_names_out instead.\n",
      "  warnings.warn(msg, category=FutureWarning)\n"
     ]
    }
   ],
   "source": [
    "# get list of words in corpus\n",
    "corpus_words = np.array(count_vector.get_feature_names())    \n"
   ]
  },
  {
   "cell_type": "code",
   "execution_count": 8,
   "metadata": {
    "colab": {
     "base_uri": "https://localhost:8080/",
     "height": 232
    },
    "id": "FEZHzJXd9Btu",
    "outputId": "7bc8a3ad-97d5-4ccd-f9a7-f13d189373de"
   },
   "outputs": [
    {
     "name": "stdout",
     "output_type": "stream",
     "text": [
      "Iteration 0\t LL: -7052701.42\n",
      "Iteration 1\t LL: -6996604.83\n",
      "Iteration 2\t LL: -6939801.15\n",
      "Iteration 3\t LL: -6878068.69\n",
      "Iteration 4\t LL: -6794254.73\n",
      "Iteration 5\t LL: -6675505.85\n",
      "Iteration 6\t LL: -6537656.34\n",
      "Iteration 7\t LL: -6403307.61\n",
      "Iteration 8\t LL: -6295052.97\n",
      "Iteration 9\t LL: -6214928.68\n",
      "Iteration 10\t LL: -6149313.94\n",
      "Iteration 11\t LL: -6099245.15\n",
      "Iteration 12\t LL: -6061062.22\n",
      "Iteration 13\t LL: -6027147.33\n",
      "Iteration 14\t LL: -6000143.61\n",
      "Iteration 15\t LL: -5979264.33\n",
      "Iteration 16\t LL: -5961255.88\n"
     ]
    },
    {
     "ename": "KeyboardInterrupt",
     "evalue": "",
     "output_type": "error",
     "traceback": [
      "\u001b[1;31m---------------------------------------------------------------------------\u001b[0m",
      "\u001b[1;31mKeyboardInterrupt\u001b[0m                         Traceback (most recent call last)",
      "\u001b[1;32mD:\\Temp/ipykernel_1364/869135169.py\u001b[0m in \u001b[0;36m<module>\u001b[1;34m\u001b[0m\n\u001b[0;32m      1\u001b[0m \u001b[1;31m# run LDA with 20 topics on 20 news groups dataset\u001b[0m\u001b[1;33m\u001b[0m\u001b[1;33m\u001b[0m\u001b[0m\n\u001b[0;32m      2\u001b[0m \u001b[0mlda\u001b[0m \u001b[1;33m=\u001b[0m \u001b[0mLDA\u001b[0m\u001b[1;33m(\u001b[0m\u001b[0msk_tdm\u001b[0m\u001b[1;33m,\u001b[0m \u001b[0mT\u001b[0m\u001b[1;33m=\u001b[0m\u001b[1;36m20\u001b[0m\u001b[1;33m,\u001b[0m \u001b[0miteration\u001b[0m\u001b[1;33m=\u001b[0m\u001b[1;36m100\u001b[0m\u001b[1;33m)\u001b[0m\u001b[1;33m\u001b[0m\u001b[1;33m\u001b[0m\u001b[0m\n\u001b[1;32m----> 3\u001b[1;33m \u001b[0mlda\u001b[0m\u001b[1;33m.\u001b[0m\u001b[0mfit\u001b[0m\u001b[1;33m(\u001b[0m\u001b[1;33m)\u001b[0m\u001b[1;33m\u001b[0m\u001b[1;33m\u001b[0m\u001b[0m\n\u001b[0m\u001b[0;32m      4\u001b[0m \u001b[1;33m\u001b[0m\u001b[0m\n",
      "\u001b[1;32mD:\\Temp/ipykernel_1364/3401712881.py\u001b[0m in \u001b[0;36mfit\u001b[1;34m(self)\u001b[0m\n\u001b[0;32m     74\u001b[0m                 \u001b[1;32mfor\u001b[0m \u001b[0mw\u001b[0m \u001b[1;32min\u001b[0m \u001b[0mself\u001b[0m\u001b[1;33m.\u001b[0m\u001b[0mtdm\u001b[0m\u001b[1;33m[\u001b[0m\u001b[0md\u001b[0m\u001b[1;33m]\u001b[0m\u001b[1;33m.\u001b[0m\u001b[0mindices\u001b[0m\u001b[1;33m:\u001b[0m\u001b[1;33m\u001b[0m\u001b[1;33m\u001b[0m\u001b[0m\n\u001b[0;32m     75\u001b[0m                     \u001b[1;31m# iterate over number of times observed word w in doc d\u001b[0m\u001b[1;33m\u001b[0m\u001b[1;33m\u001b[0m\u001b[0m\n\u001b[1;32m---> 76\u001b[1;33m                     \u001b[1;32mfor\u001b[0m \u001b[0mi\u001b[0m \u001b[1;32min\u001b[0m \u001b[0mrange\u001b[0m\u001b[1;33m(\u001b[0m\u001b[0mself\u001b[0m\u001b[1;33m.\u001b[0m\u001b[0mtdm\u001b[0m\u001b[1;33m[\u001b[0m\u001b[0md\u001b[0m\u001b[1;33m,\u001b[0m \u001b[0mw\u001b[0m\u001b[1;33m]\u001b[0m\u001b[1;33m)\u001b[0m\u001b[1;33m:\u001b[0m\u001b[1;33m\u001b[0m\u001b[1;33m\u001b[0m\u001b[0m\n\u001b[0m\u001b[0;32m     77\u001b[0m                         \u001b[1;31m# we apply the hidden-varible method of Gibbs sampler, the hidden variable is z[(d,w,i)]\u001b[0m\u001b[1;33m\u001b[0m\u001b[1;33m\u001b[0m\u001b[0m\n\u001b[0;32m     78\u001b[0m                         \u001b[0mself\u001b[0m\u001b[1;33m.\u001b[0m\u001b[0mdoc_topic_matrix\u001b[0m\u001b[1;33m[\u001b[0m\u001b[0md\u001b[0m\u001b[1;33m,\u001b[0m\u001b[0mself\u001b[0m\u001b[1;33m.\u001b[0m\u001b[0mz\u001b[0m\u001b[1;33m[\u001b[0m\u001b[1;33m(\u001b[0m\u001b[0md\u001b[0m\u001b[1;33m,\u001b[0m\u001b[0mw\u001b[0m\u001b[1;33m,\u001b[0m\u001b[0mi\u001b[0m\u001b[1;33m)\u001b[0m\u001b[1;33m]\u001b[0m\u001b[1;33m]\u001b[0m \u001b[1;33m-=\u001b[0m \u001b[1;36m1\u001b[0m\u001b[1;33m\u001b[0m\u001b[1;33m\u001b[0m\u001b[0m\n",
      "\u001b[1;32md:\\Anaconda\\lib\\site-packages\\scipy\\sparse\\_index.py\u001b[0m in \u001b[0;36m__getitem__\u001b[1;34m(self, key)\u001b[0m\n\u001b[0;32m     35\u001b[0m         \u001b[1;32mif\u001b[0m \u001b[0misinstance\u001b[0m\u001b[1;33m(\u001b[0m\u001b[0mrow\u001b[0m\u001b[1;33m,\u001b[0m \u001b[0mINT_TYPES\u001b[0m\u001b[1;33m)\u001b[0m\u001b[1;33m:\u001b[0m\u001b[1;33m\u001b[0m\u001b[1;33m\u001b[0m\u001b[0m\n\u001b[0;32m     36\u001b[0m             \u001b[1;32mif\u001b[0m \u001b[0misinstance\u001b[0m\u001b[1;33m(\u001b[0m\u001b[0mcol\u001b[0m\u001b[1;33m,\u001b[0m \u001b[0mINT_TYPES\u001b[0m\u001b[1;33m)\u001b[0m\u001b[1;33m:\u001b[0m\u001b[1;33m\u001b[0m\u001b[1;33m\u001b[0m\u001b[0m\n\u001b[1;32m---> 37\u001b[1;33m                 \u001b[1;32mreturn\u001b[0m \u001b[0mself\u001b[0m\u001b[1;33m.\u001b[0m\u001b[0m_get_intXint\u001b[0m\u001b[1;33m(\u001b[0m\u001b[0mrow\u001b[0m\u001b[1;33m,\u001b[0m \u001b[0mcol\u001b[0m\u001b[1;33m)\u001b[0m\u001b[1;33m\u001b[0m\u001b[1;33m\u001b[0m\u001b[0m\n\u001b[0m\u001b[0;32m     38\u001b[0m             \u001b[1;32melif\u001b[0m \u001b[0misinstance\u001b[0m\u001b[1;33m(\u001b[0m\u001b[0mcol\u001b[0m\u001b[1;33m,\u001b[0m \u001b[0mslice\u001b[0m\u001b[1;33m)\u001b[0m\u001b[1;33m:\u001b[0m\u001b[1;33m\u001b[0m\u001b[1;33m\u001b[0m\u001b[0m\n\u001b[0;32m     39\u001b[0m                 \u001b[1;32mreturn\u001b[0m \u001b[0mself\u001b[0m\u001b[1;33m.\u001b[0m\u001b[0m_get_intXslice\u001b[0m\u001b[1;33m(\u001b[0m\u001b[0mrow\u001b[0m\u001b[1;33m,\u001b[0m \u001b[0mcol\u001b[0m\u001b[1;33m)\u001b[0m\u001b[1;33m\u001b[0m\u001b[1;33m\u001b[0m\u001b[0m\n",
      "\u001b[1;32md:\\Anaconda\\lib\\site-packages\\scipy\\sparse\\compressed.py\u001b[0m in \u001b[0;36m_get_intXint\u001b[1;34m(self, row, col)\u001b[0m\n\u001b[0;32m    644\u001b[0m         \u001b[0mM\u001b[0m\u001b[1;33m,\u001b[0m \u001b[0mN\u001b[0m \u001b[1;33m=\u001b[0m \u001b[0mself\u001b[0m\u001b[1;33m.\u001b[0m\u001b[0m_swap\u001b[0m\u001b[1;33m(\u001b[0m\u001b[0mself\u001b[0m\u001b[1;33m.\u001b[0m\u001b[0mshape\u001b[0m\u001b[1;33m)\u001b[0m\u001b[1;33m\u001b[0m\u001b[1;33m\u001b[0m\u001b[0m\n\u001b[0;32m    645\u001b[0m         \u001b[0mmajor\u001b[0m\u001b[1;33m,\u001b[0m \u001b[0mminor\u001b[0m \u001b[1;33m=\u001b[0m \u001b[0mself\u001b[0m\u001b[1;33m.\u001b[0m\u001b[0m_swap\u001b[0m\u001b[1;33m(\u001b[0m\u001b[1;33m(\u001b[0m\u001b[0mrow\u001b[0m\u001b[1;33m,\u001b[0m \u001b[0mcol\u001b[0m\u001b[1;33m)\u001b[0m\u001b[1;33m)\u001b[0m\u001b[1;33m\u001b[0m\u001b[1;33m\u001b[0m\u001b[0m\n\u001b[1;32m--> 646\u001b[1;33m         indptr, indices, data = get_csr_submatrix(\n\u001b[0m\u001b[0;32m    647\u001b[0m             \u001b[0mM\u001b[0m\u001b[1;33m,\u001b[0m \u001b[0mN\u001b[0m\u001b[1;33m,\u001b[0m \u001b[0mself\u001b[0m\u001b[1;33m.\u001b[0m\u001b[0mindptr\u001b[0m\u001b[1;33m,\u001b[0m \u001b[0mself\u001b[0m\u001b[1;33m.\u001b[0m\u001b[0mindices\u001b[0m\u001b[1;33m,\u001b[0m \u001b[0mself\u001b[0m\u001b[1;33m.\u001b[0m\u001b[0mdata\u001b[0m\u001b[1;33m,\u001b[0m\u001b[1;33m\u001b[0m\u001b[1;33m\u001b[0m\u001b[0m\n\u001b[0;32m    648\u001b[0m             major, major + 1, minor, minor + 1)\n",
      "\u001b[1;31mKeyboardInterrupt\u001b[0m: "
     ]
    }
   ],
   "source": [
    "# run LDA with 20 topics on 20 news groups dataset\n",
    "lda = LDA(sk_tdm, T=20, iteration=100)\n",
    "lda.fit()"
   ]
  },
  {
   "cell_type": "code",
   "execution_count": null,
   "metadata": {
    "id": "hFo5gLfm9DXn"
   },
   "outputs": [],
   "source": [
    "# get top 10 words in each topic, should make sense\n"
   ]
  },
  {
   "cell_type": "code",
   "execution_count": null,
   "metadata": {
    "id": "aC76ssEe9ESH"
   },
   "outputs": [],
   "source": [
    "# plot train loglikelihood, should increase over iterations\n"
   ]
  }
 ],
 "metadata": {
  "colab": {
   "collapsed_sections": [],
   "name": "STAT4609_A4 template.ipynb",
   "provenance": []
  },
  "kernelspec": {
   "display_name": "Python 3.9.7 ('base')",
   "language": "python",
   "name": "python3"
  },
  "language_info": {
   "codemirror_mode": {
    "name": "ipython",
    "version": 3
   },
   "file_extension": ".py",
   "mimetype": "text/x-python",
   "name": "python",
   "nbconvert_exporter": "python",
   "pygments_lexer": "ipython3",
   "version": "3.9.7"
  },
  "vscode": {
   "interpreter": {
    "hash": "88279d2366fe020547cde40dd65aa0e3aa662a6ec1f3ca12d88834876c85e1a6"
   }
  }
 },
 "nbformat": 4,
 "nbformat_minor": 1
}
