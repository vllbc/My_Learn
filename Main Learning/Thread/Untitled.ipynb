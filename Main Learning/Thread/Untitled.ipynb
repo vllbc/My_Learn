{
 "cells": [
  {
   "cell_type": "code",
   "execution_count": 2,
   "metadata": {},
   "outputs": [],
   "source": [
    "from threading import Thread,Lock\n",
    "import time"
   ]
  },
  {
   "cell_type": "code",
   "execution_count": 3,
   "metadata": {},
   "outputs": [
    {
     "data": {
      "text/plain": [
       "'Wed Jan 25 19:24:37 2023'"
      ]
     },
     "execution_count": 3,
     "metadata": {},
     "output_type": "execute_result"
    }
   ],
   "source": [
    "time.ctime(time.time())"
   ]
  },
  {
   "cell_type": "code",
   "execution_count": 5,
   "metadata": {},
   "outputs": [
    {
     "name": "stdout",
     "output_type": "stream",
     "text": [
      "start thread thread1\n",
      "start thread thread2\n",
      "id:1  name:thread1 Wed Jan 25 19:25:15 2023\n",
      "id:2  name:thread2 Wed Jan 25 19:25:16 2023\n",
      "id:1  name:thread1 Wed Jan 25 19:25:16 2023\n",
      "id:1  name:thread1 Wed Jan 25 19:25:17 2023\n",
      "end thread thread1\n",
      "id:2  name:thread2 Wed Jan 25 19:25:18 2023\n",
      "id:2  name:thread2 Wed Jan 25 19:25:20 2023\n",
      "end thread thread2\n",
      "all end!!!\n"
     ]
    }
   ],
   "source": [
    "class thread(Thread):\n",
    "    def __init__(self,ids,name,count,delay):\n",
    "        super().__init__()\n",
    "        self.ids = ids\n",
    "        self.name = name\n",
    "        self.count = count\n",
    "        self.delay = delay\n",
    "\n",
    "    def run(self):\n",
    "        # lock.acquire()\n",
    "        print(\"start thread\",self.name)\n",
    "        print_time(self.ids,self.name,self.count,self.delay)\n",
    "        print(\"end thread\",self.name)\n",
    "        # lock.release()\n",
    "def print_time(ids,name,count,delay):\n",
    "    while count:\n",
    "            time.sleep(delay)\n",
    "            print(f\"id:{ids}  name:{name} {time.ctime(time.time())}\")\n",
    "            count-=1\n",
    "    \n",
    "lock = Lock()\n",
    "thread1 = thread(1,'thread1',3,1)\n",
    "thread2 = thread(2,'thread2',3,2)\n",
    "thread1.start() \n",
    "thread2.start()\n",
    "for t in [thread1,thread2]:\n",
    "    t.join()\n",
    "print(\"all end!!!\")"
   ]
  },
  {
   "cell_type": "code",
   "execution_count": null,
   "metadata": {},
   "outputs": [],
   "source": []
  }
 ],
 "metadata": {
  "kernelspec": {
   "display_name": "base",
   "language": "python",
   "name": "python3"
  },
  "language_info": {
   "codemirror_mode": {
    "name": "ipython",
    "version": 3
   },
   "file_extension": ".py",
   "mimetype": "text/x-python",
   "name": "python",
   "nbconvert_exporter": "python",
   "pygments_lexer": "ipython3",
   "version": "3.9.7 (default, Sep 16 2021, 16:59:28) [MSC v.1916 64 bit (AMD64)]"
  },
  "vscode": {
   "interpreter": {
    "hash": "88279d2366fe020547cde40dd65aa0e3aa662a6ec1f3ca12d88834876c85e1a6"
   }
  }
 },
 "nbformat": 4,
 "nbformat_minor": 2
}
