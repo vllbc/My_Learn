{
 "cells": [
  {
   "cell_type": "code",
   "execution_count": null,
   "metadata": {},
   "outputs": [],
   "source": [
    "from threading import Thread,Lock\n",
    "import time"
   ]
  },
  {
   "cell_type": "code",
   "execution_count": null,
   "metadata": {},
   "outputs": [],
   "source": [
    "time.ctime(time.time())"
   ]
  },
  {
   "cell_type": "code",
   "execution_count": null,
   "metadata": {},
   "outputs": [
    {
     "name": "stdout",
     "output_type": "stream",
     "text": [
      "start thread thread1\n"
     ]
    }
   ],
   "source": [
    "class thread(Thread):\n",
    "    def __init__(self,ids,name,count,delay):\n",
    "        super().__init__()\n",
    "        self.ids = ids\n",
    "        self.name = name\n",
    "        self.count = count\n",
    "        self.delay = delay\n",
    "\n",
    "    def run(self):\n",
    "        lock.acquire()\n",
    "        print(\"start thread\",self.name)\n",
    "        print_time(self.ids,self.name,self.count,self.delay)\n",
    "        print(\"end thread\",self.name)\n",
    "        lock.release()\n",
    "def print_time(ids,name,count,delay):\n",
    "    while count:\n",
    "            time.sleep(delay)\n",
    "            print(f\"id:{ds}  name:{name} {time.ctime(time.time())}\")\n",
    "            count-=1\n",
    "    \n",
    "lock = Lock()\n",
    "thread1 = thread(1,'thread1',3,1)\n",
    "thread2 = thread(2,'thread2',3,2)\n",
    "thread1.start() \n",
    "thread2.start()\n",
    "for t in [thread1,thread2]:\n",
    "    t.join()\n",
    "print(\"all end!!!\")"
   ]
  },
  {
   "cell_type": "code",
   "execution_count": null,
   "metadata": {},
   "outputs": [],
   "source": []
  }
 ],
 "metadata": {
  "kernelspec": {
   "display_name": "Python 3",
   "language": "python",
   "name": "python3"
  },
  "language_info": {
   "codemirror_mode": {
    "name": "ipython",
    "version": 3
   },
   "file_extension": ".py",
   "mimetype": "text/x-python",
   "name": "python",
   "nbconvert_exporter": "python",
   "pygments_lexer": "ipython3",
   "version": "3.6.4"
  }
 },
 "nbformat": 4,
 "nbformat_minor": 2
}
