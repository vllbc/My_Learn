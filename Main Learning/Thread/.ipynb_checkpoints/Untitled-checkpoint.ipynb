{
 "cells": [
  {
   "cell_type": "code",
   "execution_count": 15,
   "metadata": {},
   "outputs": [],
   "source": [
    "from threading import Thread,Lock\n",
    "import time"
   ]
  },
  {
   "cell_type": "code",
   "execution_count": 16,
   "metadata": {},
   "outputs": [
    {
     "data": {
      "text/plain": [
       "'Sun Nov 29 15:27:04 2020'"
      ]
     },
     "execution_count": 16,
     "metadata": {},
     "output_type": "execute_result"
    }
   ],
   "source": [
    "time.ctime(time.time())"
   ]
  },
  {
   "cell_type": "code",
   "execution_count": 23,
   "metadata": {},
   "outputs": [
    {
     "name": "stdout",
     "output_type": "stream",
     "text": [
      "start thread\n",
      " thread1\n",
      "start thread\n",
      " thread2\n",
      "id:1  name:thread1 Sun Nov 29 15:31:53 2020\n",
      "\n",
      "id:1  name:thread1 Sun Nov 29 15:31:54 2020\n",
      "\n",
      "id:2  name:thread2 Sun Nov 29 15:31:54 2020\n",
      "\n",
      "id:1  name:thread1 Sun Nov 29 15:31:55 2020\n",
      "\n",
      "end thread\n",
      " thread1\n",
      "id:2  name:thread2 Sun Nov 29 15:31:56 2020\n",
      "\n",
      "id:2  name:thread2 Sun Nov 29 15:31:58 2020\n",
      "\n",
      "end thread\n",
      " thread2\n",
      "all end!!!\n"
     ]
    }
   ],
   "source": [
    "class thread(Thread):\n",
    "    def __init__(self,ids,name,count,delay):\n",
    "        super().__init__()\n",
    "        self.ids = ids\n",
    "        self.name = name\n",
    "        self.count = count\n",
    "        self.delay = delay\n",
    "    def print_time(self):\n",
    "         while self.count:\n",
    "            time.sleep(self.delay)\n",
    "            print(f\"id:{self.ids}  name:{self.name} {time.ctime(time.time())}\\n\")\n",
    "            self.count-=1\n",
    "    def run(self):\n",
    "        lock.acquire()\n",
    "        print(\"start thread\\n\",self.name)\n",
    "        self.print_time()\n",
    "        print(\"end thread\\n\",self.name)\n",
    "        lock.release()\n",
    "lock = Lock()\n",
    "thread1 = thread(1,'thread1',3,1)\n",
    "thread2 = thread(2,'thread2',3,2)\n",
    "thread1.start() \n",
    "thread2.start()\n",
    "for t in [thread1,thread2]:\n",
    "    t.join()\n",
    "print(\"all end!!!\")"
   ]
  },
  {
   "cell_type": "code",
   "execution_count": null,
   "metadata": {},
   "outputs": [],
   "source": []
  }
 ],
 "metadata": {
  "kernelspec": {
   "display_name": "Python 3",
   "language": "python",
   "name": "python3"
  },
  "language_info": {
   "codemirror_mode": {
    "name": "ipython",
    "version": 3
   },
   "file_extension": ".py",
   "mimetype": "text/x-python",
   "name": "python",
   "nbconvert_exporter": "python",
   "pygments_lexer": "ipython3",
   "version": "3.6.4"
  }
 },
 "nbformat": 4,
 "nbformat_minor": 2
}
