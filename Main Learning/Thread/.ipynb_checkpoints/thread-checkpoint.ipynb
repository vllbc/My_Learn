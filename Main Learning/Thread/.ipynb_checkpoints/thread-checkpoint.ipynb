{
 "cells": [
  {
   "cell_type": "code",
   "execution_count": 3,
   "metadata": {},
   "outputs": [],
   "source": [
    "import threading\n",
    "import time"
   ]
  },
  {
   "cell_type": "markdown",
   "metadata": {},
   "source": [
    "# 简单的创建"
   ]
  },
  {
   "cell_type": "code",
   "execution_count": 4,
   "metadata": {},
   "outputs": [
    {
     "name": "stdout",
     "output_type": "stream",
     "text": [
      "task t1\n",
      "task t2\n",
      "2s\n",
      "2s\n",
      "1s\n",
      "1s\n",
      "0s\n",
      "0s\n"
     ]
    }
   ],
   "source": [
    "def run(n):\n",
    "    print(\"task\", n)\n",
    "    time.sleep(1)\n",
    "    print('2s')\n",
    "    time.sleep(1)\n",
    "    print('1s')\n",
    "    time.sleep(1)\n",
    "    print('0s')\n",
    "    time.sleep(1)\n",
    "\n",
    "if __name__ == '__main__':\n",
    "    t1 = threading.Thread(target=run, args=(\"t1\",))\n",
    "    t2 = threading.Thread(target=run, args=(\"t2\",))\n",
    "    t1.start()\n",
    "    t2.start()"
   ]
  },
  {
   "cell_type": "markdown",
   "metadata": {},
   "source": [
    "# 通过类创建"
   ]
  },
  {
   "cell_type": "code",
   "execution_count": 5,
   "metadata": {},
   "outputs": [
    {
     "name": "stdout",
     "output_type": "stream",
     "text": [
      "task t1\n",
      "task t2\n",
      "2s\n",
      "2s\n",
      "1s\n",
      "1s\n",
      "0s\n",
      "0s\n"
     ]
    }
   ],
   "source": [
    "class MyThread(threading.Thread):\n",
    "    def __init__(self, n):\n",
    "        super(MyThread, self).__init__()  # 重构run函数必须要写\n",
    "        self.n = n\n",
    "\n",
    "    def run(self):\n",
    "        print(\"task\", self.n)\n",
    "        time.sleep(1)\n",
    "        print('2s')\n",
    "        time.sleep(1)\n",
    "        print('1s')\n",
    "        time.sleep(1)\n",
    "        print('0s')\n",
    "        time.sleep(1)\n",
    "\n",
    "if __name__ == \"__main__\":\n",
    "    t1 = MyThread(\"t1\")\n",
    "    t2 = MyThread(\"t2\")\n",
    "    t1.start()\n",
    "    t2.start()"
   ]
  },
  {
   "cell_type": "markdown",
   "metadata": {},
   "source": [
    "# 对比没有join()和join()的区别"
   ]
  },
  {
   "cell_type": "code",
   "execution_count": 8,
   "metadata": {},
   "outputs": [
    {
     "name": "stdout",
     "output_type": "stream",
     "text": [
      "task t1\n",
      "end\n",
      "3\n",
      "2\n",
      "1\n"
     ]
    }
   ],
   "source": [
    "def run(n):\n",
    "    print(\"task\", n)\n",
    "    time.sleep(1)       #此时子线程停1s\n",
    "    print('3')\n",
    "    time.sleep(1)\n",
    "    print('2')\n",
    "    time.sleep(1)\n",
    "    print('1')\n",
    "\n",
    "if __name__ == '__main__':\n",
    "    t = threading.Thread(target=run, args=(\"t1\",))\n",
    "    t.setDaemon(True)   #把子进程设置为守护线程，必须在start()之前设置\n",
    "    t.start()\n",
    "    print(\"end\")"
   ]
  },
  {
   "cell_type": "code",
   "execution_count": 7,
   "metadata": {},
   "outputs": [
    {
     "name": "stdout",
     "output_type": "stream",
     "text": [
      "task t1\n",
      "3\n",
      "2\n",
      "1\n",
      "end\n"
     ]
    }
   ],
   "source": [
    "def run(n):\n",
    "    print(\"task\", n)\n",
    "    time.sleep(1)       #此时子线程停1s\n",
    "    print('3')\n",
    "    time.sleep(1)\n",
    "    print('2')\n",
    "    time.sleep(1)\n",
    "    print('1')\n",
    "\n",
    "if __name__ == '__main__':\n",
    "    t = threading.Thread(target=run, args=(\"t1\",))\n",
    "    t.setDaemon(True)   #把子进程设置为守护线程，必须在start()之前设置\n",
    "    t.start()\n",
    "    t.join() # 设置主线程等待子线程结束\n",
    "    print(\"end\")\n"
   ]
  },
  {
   "cell_type": "markdown",
   "metadata": {},
   "source": [
    "# 锁的应用"
   ]
  },
  {
   "cell_type": "code",
   "execution_count": null,
   "metadata": {},
   "outputs": [
    {
     "name": "stdout",
     "output_type": "stream",
     "text": [
      "run the thread:t-1\n",
      "\n",
      "run the thread:t-4\n",
      "\n",
      "run the thread:t-2\n",
      "\n",
      "run the thread:t-0\n",
      "\n",
      "run the thread:t-3\n",
      "\n",
      "run the thread:t-5\n",
      "\n",
      "run the thread:t-6\n",
      "\n",
      "run the thread:t-7\n",
      "\n",
      "run the thread:t-8\n",
      "\n",
      "run the thread:t-9\n",
      "\n",
      "run the thread:t-10\n",
      "\n",
      "run the thread:t-12\n",
      "run the thread:t-13\n",
      "run the thread:t-11\n",
      "run the thread:t-14\n",
      "\n",
      "\n",
      "\n",
      "\n",
      "run the thread:t-15\n",
      "\n",
      "run the thread:t-17\n",
      "\n",
      "run the thread:t-16\n",
      "\n",
      "run the thread:t-19\n",
      "\n",
      "run the thread:t-18\n",
      "\n",
      "run the thread:t-20\n",
      "\n",
      "run the thread:t-21\n",
      "\n"
     ]
    }
   ],
   "source": [
    "def run(n, semaphore):\n",
    "    semaphore.acquire()   #加锁\n",
    "    time.sleep(1)\n",
    "    print(\"run the thread:%s\\n\" % n)\n",
    "    semaphore.release()     #释放\n",
    "\n",
    "if __name__ == '__main__':\n",
    "    num = 0\n",
    "    semaphore = threading.BoundedSemaphore(5)  # 最多允许5个线程同时运行\n",
    "    for i in range(22):\n",
    "        t = threading.Thread(target=run, args=(\"t-%s\" % i, semaphore))\n",
    "        t.start()\n",
    "    while threading.active_count() != 1:\n",
    "        pass  # print threading.active_count()\n",
    "    else:\n",
    "        print('-----all threads done-----')"
   ]
  },
  {
   "cell_type": "markdown",
   "metadata": {},
   "source": [
    "# 事件类"
   ]
  },
  {
   "cell_type": "code",
   "execution_count": null,
   "metadata": {},
   "outputs": [],
   "source": [
    "event = threading.Event()\n",
    "\n",
    "\n",
    "def lighter():\n",
    "    count = 0\n",
    "    event.set()     #初始值为绿灯\n",
    "    while True:\n",
    "        if 5 < count <=10 :\n",
    "            event.clear()  # 红灯，清除标志位\n",
    "            print(\"\\33[41;1mred light is on...\\033[0m\")\n",
    "        elif count > 10:\n",
    "            event.set()  # 绿灯，设置标志位\n",
    "            count = 0\n",
    "        else:\n",
    "            print(\"\\33[42;1mgreen light is on...\\033[0m\")\n",
    "\n",
    "        time.sleep(1)\n",
    "        count += 1\n",
    "\n",
    "def car(name):\n",
    "    while True:\n",
    "        if event.is_set():      #判断是否设置了标志位\n",
    "            print(\"[%s] running...\"%name)\n",
    "            time.sleep(1)\n",
    "        else:\n",
    "            print(\"[%s] sees red light,waiting...\"%name)\n",
    "            event.wait()\n",
    "            print(\"[%s] green light is on,start going...\"%name)\n",
    "\n",
    "light = threading.Thread(target=lighter,)\n",
    "light.start()\n",
    "\n",
    "car = threading.Thread(target=car,args=(\"MINI\",))\n",
    "car.start()"
   ]
  },
  {
   "cell_type": "markdown",
   "metadata": {},
   "source": [
    "# queue队列"
   ]
  },
  {
   "cell_type": "code",
   "execution_count": null,
   "metadata": {},
   "outputs": [],
   "source": [
    "import threading\n",
    "import queue,time\n",
    "\n",
    "q=queue.Queue(maxsize=10)\n",
    "def Producer(name):\n",
    "    count=1\n",
    "    while True:\n",
    "        q.put(\"骨头 %s\"%count)\n",
    "        print(\"{}生产了骨头\".format(name),count)\n",
    "        count+=1\n",
    "        time.sleep(1)      \n",
    "def Consumer(name):\n",
    "    while True:\n",
    "        print(\"[%s] 取到  [%s] 并且吃了它。。。\"%(name,q.get()))\n",
    "        time.sleep(1)\n",
    "p=threading.Thread(target=Producer,args=('wlb',))\n",
    "c=threading.Thread(target=Consumer,args=(\"dog\",))\n",
    "c1=threading.Thread(target=Consumer,args=(\"cat\",))\n",
    "\n",
    "p.start()\n",
    "c.start()\n",
    "c1.start()"
   ]
  },
  {
   "cell_type": "markdown",
   "metadata": {},
   "source": [
    "在非python环境中，单核情况下，同时只能有一个任务执行。多核时可以支持多个线程同时执行。但是在python中，无论有多少核，同时只能执行一个线程。究其原因，这就是由于GIL的存在导致的。\n",
    "\n",
    "GIL的全称是Global Interpreter Lock(全局解释器锁)，来源是python设计之初的考虑，为了数据安全所做的决定。某个线程想要执行，必须先拿到GIL，我们可以把GIL看作是“通行证”，并且在一个python进程中，GIL只有一个。拿不到通行证的线程，就不允许进入CPU执行。GIL只在cpython中才有，因为cpython调用的是c语言的原生线程，所以他不能直接操作cpu，只能利用GIL保证同一时间只能有一个线程拿到数据。而在pypy和jpython中是没有GIL的。\n",
    "\n",
    "Python多线程的工作过程：\n",
    "python在使用多线程的时候，调用的是c语言的原生线程。\n",
    "\n",
    "拿到公共数据\n",
    "申请gil\n",
    "python解释器调用os原生线程\n",
    "os操作cpu执行运算\n",
    "当该线程执行时间到后，无论运算是否已经执行完，gil都被要求释放\n",
    "进而由其他进程重复上面的过程\n",
    "等其他进程执行完后，又会切换到之前的线程（从他记录的上下文继续执行），整个过程是每个线程执行自己的运算，当执行时间到就进行切换（context switch）。"
   ]
  }
 ],
 "metadata": {
  "kernelspec": {
   "display_name": "Python 3",
   "language": "python",
   "name": "python3"
  },
  "language_info": {
   "codemirror_mode": {
    "name": "ipython",
    "version": 3
   },
   "file_extension": ".py",
   "mimetype": "text/x-python",
   "name": "python",
   "nbconvert_exporter": "python",
   "pygments_lexer": "ipython3",
   "version": "3.6.4"
  }
 },
 "nbformat": 4,
 "nbformat_minor": 2
}
