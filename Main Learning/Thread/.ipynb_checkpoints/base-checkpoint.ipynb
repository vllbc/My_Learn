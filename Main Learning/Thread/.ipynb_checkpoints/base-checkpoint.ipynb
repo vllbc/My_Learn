{
 "cells": [
  {
   "cell_type": "code",
   "execution_count": 2,
   "metadata": {},
   "outputs": [],
   "source": [
    "from threading import Thread\n",
    "import time"
   ]
  },
  {
   "cell_type": "markdown",
   "metadata": {},
   "source": [
    "# 多线程例子"
   ]
  },
  {
   "cell_type": "code",
   "execution_count": 13,
   "metadata": {},
   "outputs": [
    {
     "name": "stdout",
     "output_type": "stream",
     "text": [
      "time1 :2.0505\n",
      "time2 :0.0369\n"
     ]
    }
   ],
   "source": [
    "def spider():\n",
    "    #.....\n",
    "    time.sleep(0.02)\n",
    "def main1():\n",
    "    for i in range(100):\n",
    "        spider()\n",
    "class threads(Thread):\n",
    "    def __init__(self,func):\n",
    "        super().__init__()\n",
    "        self.func = func\n",
    "    def run(self):\n",
    "        self.func()\n",
    "def main2():\n",
    "    lists = []\n",
    "    for i in range(100):\n",
    "        thread = threads(spider)\n",
    "        thread.start()\n",
    "        lists.append(thread)\n",
    "    for t in lists:\n",
    "        t.join()\n",
    "if __name__ == \"__main__\":\n",
    "    start = time.time()\n",
    "    main1()\n",
    "    end = time.time()\n",
    "    print(\"time1 :{:.4f}\".format(end-start))\n",
    "    \n",
    "    start = time.time()\n",
    "    main2()\n",
    "    end = time.time()\n",
    "    print(\"time2 :{:.4f}\".format(end-start))"
   ]
  },
  {
   "cell_type": "markdown",
   "metadata": {},
   "source": [
    "# yield"
   ]
  },
  {
   "cell_type": "code",
   "execution_count": 6,
   "metadata": {},
   "outputs": [
    {
     "name": "stdout",
     "output_type": "stream",
     "text": [
      "<generator object fib at 0x000002B1A7AA1E60>\n",
      "1\n",
      "1\n",
      "2\n",
      "3\n",
      "5\n",
      "8\n",
      "13\n",
      "21\n",
      "34\n",
      "55\n",
      "89\n"
     ]
    }
   ],
   "source": [
    "def fib(n):\n",
    "    a,b = 0,1\n",
    "    while b<n: \n",
    "        a,b = b,a+b\n",
    "        yield a\n",
    "print(fib(100))\n",
    "for i in fib(100):\n",
    "    print(i)"
   ]
  },
  {
   "cell_type": "markdown",
   "metadata": {},
   "source": [
    "# 协程"
   ]
  },
  {
   "cell_type": "markdown",
   "metadata": {},
   "source": [
    "GEN_CREATED 创建完成，等待执行\n",
    "GEN_RUNNING 解释器正在执行\n",
    "GEN_SUSPENDED 在 yield 表达式处暂停\n",
    "GEN_CLOSE 执行结束，生成器停止"
   ]
  },
  {
   "cell_type": "code",
   "execution_count": 8,
   "metadata": {},
   "outputs": [],
   "source": [
    "import inspect\n",
    "def generator():\n",
    "    i = \"激活生成器\"\n",
    "    while True:\n",
    "        try:\n",
    "            value = yield i\n",
    "        except ValueError:\n",
    "            print(\"OVER\")\n",
    "        i = value\n"
   ]
  },
  {
   "cell_type": "code",
   "execution_count": 16,
   "metadata": {},
   "outputs": [
    {
     "name": "stdout",
     "output_type": "stream",
     "text": [
      "GEN_CREATED\n"
     ]
    },
    {
     "data": {
      "text/plain": [
       "'激活生成器'"
      ]
     },
     "execution_count": 16,
     "metadata": {},
     "output_type": "execute_result"
    }
   ],
   "source": [
    "g = generator()\n",
    "print(inspect.getgeneratorstate(g)) #查看状态\n",
    "next(g)"
   ]
  },
  {
   "cell_type": "code",
   "execution_count": 14,
   "metadata": {},
   "outputs": [
    {
     "data": {
      "text/plain": [
       "'GEN_SUSPENDED'"
      ]
     },
     "execution_count": 14,
     "metadata": {},
     "output_type": "execute_result"
    }
   ],
   "source": [
    "inspect.getgeneratorstate(g) #查看生成器状态"
   ]
  },
  {
   "cell_type": "code",
   "execution_count": 19,
   "metadata": {},
   "outputs": [
    {
     "data": {
      "text/plain": [
       "'hello world'"
      ]
     },
     "execution_count": 19,
     "metadata": {},
     "output_type": "execute_result"
    }
   ],
   "source": [
    "g.send(\"hello world\")"
   ]
  },
  {
   "cell_type": "markdown",
   "metadata": {},
   "source": [
    "暂停状态的生成器可以使用 send 方法发送数据，此方法的参数就是 yield 表达式的值，也就是 yield 表达式等号前面的 value 变量的值变成 'Hello Shiyanlou'，继续向下执行完一次 while 循环，变量 i 被赋值，继续运行下一次循环，yield 表达式弹出变量 i"
   ]
  },
  {
   "cell_type": "code",
   "execution_count": 20,
   "metadata": {},
   "outputs": [
    {
     "name": "stdout",
     "output_type": "stream",
     "text": [
      "OVER\n"
     ]
    },
    {
     "data": {
      "text/plain": [
       "'hello world'"
      ]
     },
     "execution_count": 20,
     "metadata": {},
     "output_type": "execute_result"
    }
   ],
   "source": [
    "g.throw(ValueError) #抛出异常 结束"
   ]
  },
  {
   "cell_type": "code",
   "execution_count": 23,
   "metadata": {},
   "outputs": [
    {
     "data": {
      "text/plain": [
       "'GEN_CLOSED'"
      ]
     },
     "execution_count": 23,
     "metadata": {},
     "output_type": "execute_result"
    }
   ],
   "source": [
    "g.close()\n",
    "inspect.getgeneratorstate(g) #关闭了"
   ]
  },
  {
   "cell_type": "markdown",
   "metadata": {},
   "source": [
    "# 预激协程"
   ]
  },
  {
   "cell_type": "code",
   "execution_count": 33,
   "metadata": {},
   "outputs": [
    {
     "name": "stdout",
     "output_type": "stream",
     "text": [
      "GEN_SUSPENDED\n"
     ]
    }
   ],
   "source": [
    "from functools import wraps\n",
    "def corcut(func):\n",
    "    @wraps(func)\n",
    "    def wrapper(*args,**kw):\n",
    "        g = func(*args,**kw)\n",
    "        next(g)\n",
    "        return g\n",
    "    return wrapper\n",
    "\n",
    "@corcut #装饰器 \n",
    "def generator():\n",
    "    i = \"激活生成器\"\n",
    "    while True:\n",
    "        try:\n",
    "            value = yield i\n",
    "        except ValueError:\n",
    "            print(\"OVER\")\n",
    "        i = value\n",
    "g = generator()\n",
    "print(inspect.getgeneratorstate(g)) #此时已经用装饰器将生成器激活了\n"
   ]
  },
  {
   "cell_type": "code",
   "execution_count": 35,
   "metadata": {},
   "outputs": [
    {
     "data": {
      "text/plain": [
       "['a', 'b']"
      ]
     },
     "execution_count": 35,
     "metadata": {},
     "output_type": "execute_result"
    }
   ],
   "source": [
    "@corcut\n",
    "def generator():\n",
    "    l = []\n",
    "    while True:\n",
    "        value = yield\n",
    "        if value == \"CLOSE\":\n",
    "            break\n",
    "        l.append(value)\n",
    "    return l\n",
    "g = generator()\n",
    "for i in ['a','b','CLOSE']:\n",
    "    try:\n",
    "        g.send(i)\n",
    "    except StopIteration as e:\n",
    "        value = e.value\n",
    "    \n",
    "value\n",
    "        "
   ]
  },
  {
   "cell_type": "markdown",
   "metadata": {},
   "source": [
    "# yield from用法"
   ]
  },
  {
   "cell_type": "code",
   "execution_count": 40,
   "metadata": {},
   "outputs": [
    {
     "name": "stdout",
     "output_type": "stream",
     "text": [
      "three\n",
      "two\n",
      "one\n",
      "a\n",
      "b\n",
      "c\n"
     ]
    }
   ],
   "source": [
    "from itertools import chain\n",
    "c = chain({'one','two','three'},list(\"abc\"))\n",
    "for i in c:\n",
    "    print(i)"
   ]
  },
  {
   "cell_type": "code",
   "execution_count": 45,
   "metadata": {},
   "outputs": [
    {
     "name": "stdout",
     "output_type": "stream",
     "text": [
      "three\n",
      "two\n",
      "one\n",
      "a\n",
      "b\n",
      "c\n",
      "\n",
      "\n",
      "three\n",
      "two\n",
      "one\n",
      "a\n",
      "b\n",
      "c\n"
     ]
    }
   ],
   "source": [
    "def chains1(*args):\n",
    "    for i in args:\n",
    "        for n in i:\n",
    "            yield n\n",
    "def chains2(*args):\n",
    "    for i in args:\n",
    "        yield from i #i为可迭代对象，避免嵌套循环\n",
    "c1 = chains1({\"one\",\"two\",\"three\"},list(\"abc\"))\n",
    "for i in c1:\n",
    "    print(i)\n",
    "print(\"\\n\")\n",
    "c2 = chains2({\"one\",\"two\",\"three\"},list(\"abc\"))\n",
    "for i in c2:\n",
    "    print(i)"
   ]
  },
  {
   "cell_type": "markdown",
   "metadata": {},
   "source": [
    "# 转移控制权"
   ]
  },
  {
   "cell_type": "code",
   "execution_count": 46,
   "metadata": {},
   "outputs": [],
   "source": [
    "from functools import wraps\n",
    "from faker import Faker\n",
    "import time"
   ]
  },
  {
   "cell_type": "code",
   "execution_count": 53,
   "metadata": {},
   "outputs": [
    {
     "name": "stdout",
     "output_type": "stream",
     "text": [
      "国家代号列表： ['AM', 'ZA', 'BG']\n",
      "排序后的列表 ['AM', 'BG', 'ZA']\n",
      "-----------------\n",
      "国家代号列表： ['UG', 'BE', 'SI']\n",
      "排序后的列表 ['BE', 'SI', 'UG']\n",
      "-----------------\n",
      "国家代号列表： ['SC', 'KI', 'KI']\n",
      "排序后的列表 ['KI', 'KI', 'SC']\n",
      "-----------------\n"
     ]
    }
   ],
   "source": [
    "def corout(func):\n",
    "    @wraps(func)\n",
    "    def wapper(*args,**kw):\n",
    "        g = func(*args,**kw)\n",
    "        next(g)\n",
    "        return g\n",
    "    return wapper\n",
    "\n",
    "\n",
    "def generator():\n",
    "    l = []\n",
    "    while True:\n",
    "        i = yield\n",
    "        if i == \"CLOSE\":\n",
    "            break\n",
    "        l.append(i)\n",
    "    return sorted(l)\n",
    "@corout\n",
    "def generator2():\n",
    "    while True:\n",
    "        \n",
    "        l = yield from generator()\n",
    "        print(\"排序后的列表\",l)\n",
    "        print(\"-----------------\")\n",
    "        \n",
    "if __name__ == \"__main__\":\n",
    "    fake = Faker().country_code\n",
    "    nest_country = [[fake() for i in range(3)] for j in range(3)]\n",
    "    for country in nest_country:\n",
    "        print('国家代号列表：', country)\n",
    "        c = generator2()\n",
    "        for i in country:\n",
    "            c.send(i)\n",
    "        c.send(\"CLOSE\")\n",
    "    "
   ]
  },
  {
   "cell_type": "markdown",
   "metadata": {},
   "source": [
    "# asyncio模块"
   ]
  },
  {
   "cell_type": "code",
   "execution_count": 55,
   "metadata": {},
   "outputs": [
    {
     "name": "stdout",
     "output_type": "stream",
     "text": [
      "start ------\n",
      "doing something\n",
      "消耗时间:0.1012\n"
     ]
    }
   ],
   "source": [
    "import time\n",
    "import asyncio\n",
    "\n",
    "def one():\n",
    "    start = time.time()\n",
    "    @asyncio.coroutine #1\n",
    "    def do_something(): #2\n",
    "        print(\"start ------\")\n",
    "        time.sleep(0.1) #3\n",
    "        print(\"doing something\")\n",
    "    loop = asyncio.get_event_loop() #4\n",
    "    coroutine = do_something() #5\n",
    "    loop.run_until_complete(coroutine) #6\n",
    "    end = time.time()\n",
    "    print(\"消耗时间:{:.4f}\".format(end-start))#7\n",
    "    \n",
    "one()"
   ]
  },
  {
   "cell_type": "markdown",
   "metadata": {},
   "source": [
    "代码说明：\n",
    "\n",
    "1、使用协程装饰器创建协程函数\n",
    "\n",
    "2、协程函数\n",
    "\n",
    "3、模拟 IO 操作\n",
    "\n",
    "4、创建事件循环。每个线程中只能有一个事件循环，get_event_loop 方法会获取当前已经存在的事件循环，如果当前线程中没有，新建一个\n",
    "\n",
    "5、调用协程函数获取协程对象\n",
    "\n",
    "6、将协程对象注入到事件循环，协程的运行由事件循环控制。事件循环的 run_until_complete 方法会阻塞运行，直到任务全部完成。协程对象作为 run_until_complete 方法的参数，loop 会自动将协程对象包装成任务来运行。后面我们会讲到多个任务注入事件循环的情况\n",
    "\n",
    "7、打印程序运行耗时"
   ]
  },
  {
   "cell_type": "code",
   "execution_count": 58,
   "metadata": {},
   "outputs": [
    {
     "name": "stdout",
     "output_type": "stream",
     "text": [
      "task是不是Task的示例？ True\n",
      "task state PENDING\n",
      "start ------\n",
      "doing something\n",
      "take state FINISHED\n",
      "消耗时间:0.1013\n"
     ]
    }
   ],
   "source": [
    "import time\n",
    "import asyncio\n",
    "\n",
    "def two():\n",
    "    start = time.time()\n",
    "    @asyncio.coroutine\n",
    "    def do_something():\n",
    "        print(\"start ------\")\n",
    "        time.sleep(0.1)\n",
    "        print(\"doing something\")\n",
    "    loop = asyncio.get_event_loop()\n",
    "    coroutine = do_something()\n",
    "    task = loop.create_task(coroutine) #1\n",
    "    print(\"task是不是Task的示例？\",isinstance(task,asyncio.Task)) #2\n",
    "    print(\"task state\",task._state) #3\n",
    "    loop.run_until_complete(task) #4\n",
    "    print(\"take state\",task._state)\n",
    "    end = time.time()\n",
    "    print(\"消耗时间:{:.4f}\".format(end-start))\n",
    "    \n",
    "two()"
   ]
  },
  {
   "cell_type": "markdown",
   "metadata": {},
   "source": [
    "1、事件循环的 create_task 方法可以创建任务，另外 asyncio.ensure_future 方法也可以创建任务，参数须为协程对象\n",
    "\n",
    "2、task 是 asyncio.Task 类的实例，为什么要使用协程对象创建任务？因为在这个过程中 asyncio.Task 做了一些工作，包括预激协程、协程运行中遇到某些异常时的处理\n",
    "\n",
    "3、task 对象的 _state 属性保存当前任务的运行状态，任务的运行状态有 PENDING 和 FINISHED 两种\n",
    "\n",
    "4、将任务注入事件循环，阻塞运行"
   ]
  },
  {
   "cell_type": "markdown",
   "metadata": {},
   "source": [
    "# async / await "
   ]
  },
  {
   "cell_type": "code",
   "execution_count": 70,
   "metadata": {},
   "outputs": [
    {
     "name": "stdout",
     "output_type": "stream",
     "text": [
      "start doing\n",
      "done\n",
      "call back:vllbc\n",
      "call back:FINISHED\n",
      "total time 0.1013\n"
     ]
    }
   ],
   "source": [
    "import functools\n",
    "def three():\n",
    "    start = time.time()\n",
    "    #@asyncio.coroutine\n",
    "    async def do_something():  #1\n",
    "        print(\"start doing\")\n",
    "        time.sleep(0.1)\n",
    "        print(\"done\")\n",
    "    def callback(name,task): #2\n",
    "        print(\"call back:{}\".format(name))\n",
    "        print(\"call back:{}\".format(task._state))\n",
    "    loop = asyncio.get_event_loop()\n",
    "    coroutine = do_something()\n",
    "    task = loop.create_task(coroutine)\n",
    "    task.add_done_callback(functools.partial(callback, 'vllbc')) #3\n",
    "    loop.run_until_complete(task)\n",
    "    end = time.time()\n",
    "    print(\"total time {:.4f}\".format(end-start))\n",
    "three()\n",
    "\n",
    "    "
   ]
  },
  {
   "cell_type": "markdown",
   "metadata": {},
   "source": [
    "代码说明：\n",
    "\n",
    "1、使用 async 关键字替代 asyncio.coroutine 装饰器创建协程函数\n",
    "\n",
    "2、回调函数，协程终止后需要顺便运行的代码写入这里，回调函数的参数有要求，最后一个位置参数须为 task 对象\n",
    "\n",
    "3、task 对象的 add_done_callback 方法可以添加回调函数，注意参数必须是回调函数，这个方法不能传入回调函数的参数，这一点需要通过 functools 模块的 partial 方法解决，将回调函数和其参数 name 作为 partial 方法的参数，此方法的返回值就是偏函数，偏函数可作为 task.add_done_callback 方法的参数"
   ]
  },
  {
   "cell_type": "code",
   "execution_count": 77,
   "metadata": {},
   "outputs": [
    {
     "name": "stdout",
     "output_type": "stream",
     "text": [
      "start !>> wlb\n",
      "start !>> yyh\n",
      "Stop coroutine yyh\n",
      "Stop coroutine wlb\n",
      "task1 Coroutine wlb OK\n",
      "task2 Coroutine yyh OK\n",
      "total time:3.0022\n"
     ]
    }
   ],
   "source": [
    "def four():\n",
    "    start = time.time()\n",
    "    async def do_something(name,t):\n",
    "        print(\"start !>>\",name)\n",
    "        await asyncio.sleep(t) #1\n",
    "        print('Stop coroutine', name)\n",
    "        return 'Coroutine {} OK'.format(name) #2\n",
    "    loop = asyncio.get_event_loop()\n",
    "    coroutine1 = do_something('wlb',3) #3\n",
    "    coroutine2 = do_something('yyh',1)\n",
    "    task1 = loop.create_task(coroutine1) #4\n",
    "    task2 = loop.create_task(coroutine2)\n",
    "    gather = asyncio.gather(task1,task2) #5\n",
    "    loop.run_until_complete(gather)\n",
    "    print(\"task1\",task1.result())\n",
    "    print(\"task2\",task2.result())\n",
    "    #result = loop.run_until_complete(gather)\n",
    "    #这里result就是两个返回值组成的列表 即['task1 Coroutine wlb OK','task2 Coroutine yyh OK']\n",
    "    end = time.time()\n",
    "    print(\"total time:{:.4f}\".format(end-start))\n",
    "four()\n",
    "        "
   ]
  },
  {
   "cell_type": "markdown",
   "metadata": {},
   "source": [
    "代码说明：\n",
    "\n",
    "1、await 关键字等同于 Python 3.4 中的 yield from 语句，后面接协程对象。asyncio.sleep 方法的返回值为协程对象，这一步为阻塞运行。asyncio.sleep 与 time.sleep 是不同的，前者阻塞当前协程，即 corowork 函数的运行，而 time.sleep 会阻塞整个线程，所以这里必须用前者，阻塞当前协程，CPU 可以在线程内的其它协程中执行\n",
    "\n",
    "2、协程函数的 return 值可以在协程运行结束后保存到对应的 task 对象的 result 方法中\n",
    "\n",
    "3、创建两个协程对象，在协程内部分别阻塞 3 秒和 1 秒\n",
    "\n",
    "4、创建两个任务对象\n",
    "\n",
    "5、将任务对象作为参数，asyncio.gather 方法创建任务收集器。注意，asyncio.gather 方法中参数的顺序决定了协程的启动顺序\n",
    "\n",
    "6、将任务收集器作为参数传入事件循环的 run_until_complete 方法，阻塞运行，直到全部任务完成\n",
    "\n",
    "7、任务结束后，事件循环停止，打印任务的 result 方法返回值，即协程函数的 return 值\n",
    "\n",
    "到这一步，大家应该可以看得出，上面的代码已经是异步编程的结构了，在事件循环内部，两个协程是交替运行完成的。简单叙述一下程序协程部分的运行过程：\n",
    "\n",
    "-> 首先运行 task1\n",
    "\n",
    "-> 打印 [corowork] Start coroutine ONE\n",
    "\n",
    "-> 遇到 asyncio.sleep 阻塞\n",
    "\n",
    "-> 释放 CPU 转到 task2 中执行\n",
    "\n",
    "-> 打印 [corowork] Start coroutine TWO\n",
    "\n",
    "-> 再次遇到 asyncio.sleep 阻塞\n",
    "\n",
    "-> 这次没有其它协程可以运行了，只能等阻塞结束\n",
    "\n",
    "-> task2 的阻塞时间较短，阻塞 1 秒后先结束，打印 [corowork] Stop coroutine TWO\n",
    "\n",
    "-> 又过了 2 秒，阻塞 3 秒的 task1 也结束了阻塞，打印 [corowork] Stop coroutine ONE\n",
    "\n",
    "-> 至此两个任务全部完成，事件循环停止\n",
    "\n",
    "-> 打印两个任务的 result\n",
    "\n",
    "-> 打印程序运行时间\n",
    "\n",
    "-> 程序全部结束"
   ]
  },
  {
   "cell_type": "markdown",
   "metadata": {},
   "source": [
    "# 异步编程"
   ]
  },
  {
   "cell_type": "code",
   "execution_count": null,
   "metadata": {},
   "outputs": [],
   "source": []
  }
 ],
 "metadata": {
  "kernelspec": {
   "display_name": "Python 3",
   "language": "python",
   "name": "python3"
  },
  "language_info": {
   "codemirror_mode": {
    "name": "ipython",
    "version": 3
   },
   "file_extension": ".py",
   "mimetype": "text/x-python",
   "name": "python",
   "nbconvert_exporter": "python",
   "pygments_lexer": "ipython3",
   "version": "3.6.4"
  }
 },
 "nbformat": 4,
 "nbformat_minor": 2
}
