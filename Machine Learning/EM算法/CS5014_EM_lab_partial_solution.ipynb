{
 "cells": [
  {
   "cell_type": "markdown",
   "metadata": {},
   "source": [
    "# Week 7 Lab Partial Solution\n",
    "\n",
    "CS5014 Machine Learning\n",
    "\n",
    "University of St Andrews"
   ]
  },
  {
   "cell_type": "markdown",
   "metadata": {},
   "source": [
    "## Aims\n",
    "\n",
    "The aim of today's session is to reinforce your understanding of EM algorithm. The questions and code is closely related to Practical 2. Due to time limit, you should try to finish as many questions as you can before attending the tutorial session."
   ]
  },
  {
   "cell_type": "markdown",
   "metadata": {},
   "source": [
    "## Setting up\n",
    "\n",
    "Activate your python virtual environment (see Lab1 slides for instructions). "
   ]
  },
  {
   "cell_type": "code",
   "execution_count": 20,
   "metadata": {},
   "outputs": [],
   "source": [
    "%matplotlib inline\n",
    "%config Completer.use_jedi = False\n",
    "import matplotlib.pyplot as plt\n",
    "plt.style.use('seaborn-whitegrid')\n",
    "import numpy as np\n",
    "from scipy.special import logsumexp\n",
    "from scipy.stats import multivariate_normal as mvn\n",
    "import numpy.linalg as linalg\n",
    "from sklearn.metrics.cluster import normalized_mutual_info_score"
   ]
  },
  {
   "cell_type": "markdown",
   "metadata": {},
   "source": [
    "Set a random generator with a fixed seed to have roughly the same result everytime"
   ]
  },
  {
   "cell_type": "code",
   "execution_count": 21,
   "metadata": {},
   "outputs": [],
   "source": [
    "# use fixed random number generator seed to have reproducible results\n",
    "random_seed = 123\n",
    "rng = np.random.default_rng(random_seed)"
   ]
  },
  {
   "cell_type": "markdown",
   "metadata": {},
   "source": [
    "You may want to use the following method to scatter plot a dataset."
   ]
  },
  {
   "cell_type": "code",
   "execution_count": 22,
   "metadata": {},
   "outputs": [],
   "source": [
    "def plot_mixGaussian_data(data, zs, title=\"\"):\n",
    "    plt.figure()\n",
    "    plt.title(title)\n",
    "    for k in np.unique(zs):\n",
    "        fig = plt.scatter(data[zs==k,0], data[zs==k,1], marker='.')\n",
    "    fig.axes.set_aspect(1)\n",
    "    return(fig)"
   ]
  },
  {
   "cell_type": "code",
   "execution_count": 23,
   "metadata": {},
   "outputs": [],
   "source": [
    "# to type μ: \"\\\" + \"mu\" + tab \n",
    "μ1 = [-2, 1]\n",
    "Σ1 = [[0.5, 0.25], [0.25, 0.5]]\n",
    "μ2 = [2, 1]\n",
    "Σ2 = [[0.5, -0.25], [-0.25, 0.5]]\n",
    "μ3 = [0, -1]\n",
    "Σ3 = [[0.75, 0], [0, 2]]\n",
    "# randomly sample 100 observations from three multivariate Guassians \n",
    "toy_D_1 = rng.multivariate_normal(μ1, Σ1, 100)\n",
    "toy_D_2 = rng.multivariate_normal(μ2, Σ2, 100)\n",
    "toy_D_3 = rng.multivariate_normal(μ3, Σ3, 100)\n",
    "# stack them together\n",
    "toy_D = np.concatenate((toy_D_1, toy_D_2, toy_D_3), axis=0)\n",
    "# generate the labels\n",
    "toy_labels = np.repeat(np.arange(3), 100)"
   ]
  },
  {
   "cell_type": "code",
   "execution_count": 24,
   "metadata": {
    "scrolled": true
   },
   "outputs": [],
   "source": [
    "# plot_mixGaussian_data(toy_D, toy_labels, \"\")"
   ]
  },
  {
   "cell_type": "markdown",
   "metadata": {},
   "source": [
    "## Task 1. Randomly sample from a mixture of Gaussians\n",
    "\n",
    "Write a method that randomly generates samples from a finite mixture of Gaussians. Remember the definition of a finite mixture of Gaussians is \n",
    "$$p(x) = \\sum_{k=1}^K \\pi_k N(x; \\mu_k, \\Sigma_k).$$\n",
    "\n",
    "* $\\pi_k$ is our prior belief on the (unobserved) labels $p(z^i =k) = \\pi_k$\n",
    "* and $N(\\mu_k, \\Sigma_k)$ denotes a multivariate Gaussian distribution with mean and covariance $\\mu_k,\\Sigma_k$\n",
    "\n",
    "And recall the data generating process of a mixture model: for each observation $(z^i, x^i)$\n",
    "1. randomly sample $z^i \\sim p(z^i)$\n",
    "2. randomly sample $x^i \\sim N(\\mu_{z^i}, \\Sigma_{z^i})$\n",
    "\n",
    "The method should have\n",
    "**input** \n",
    "* `πs`: the prior mixture proportion $\\pi_k$ for $k=1,\\ldots, K$;\n",
    "* `μs, Σs`: $K$ set of Gaussians' parameters;\n",
    "* `n`: number of samples to generate\n",
    "\n",
    "and **output**\n",
    "* `samples`: the gererated samples, should be a n by d matrix\n",
    "* `zs`: the true cluster labels, where each $z_i \\in 1, 2\\ldots, K$ is the index of the cluster that has generated the i-th sample.\n",
    "\n",
    "\n",
    "\n",
    "Once you have done so, use the implemented method to sample `n=800` samples from a ($K=3$) mixture of Gaussians with following parameters:\n",
    "* $\\pi = [0.25, 0.25, 0.5]$\n",
    "* $\\mu_1 = [-2, 1] , \\Sigma_1 = \\begin{bmatrix} 0.5 & 0.25 \\\\ 0.25 & 0.5\\end{bmatrix}$; $\\mu_2 = [2, 1] , \\Sigma_2 = \\begin{bmatrix} 0.5 & -0.25 \\\\ -0.25 & 0.5\\end{bmatrix}$; $\\mu_3 = [0, -1] , \\Sigma_3 = \\begin{bmatrix} 0.75 & 0 \\\\ 0 & 2\\end{bmatrix}$"
   ]
  },
  {
   "cell_type": "code",
   "execution_count": 25,
   "metadata": {},
   "outputs": [
    {
     "name": "stdout",
     "output_type": "stream",
     "text": [
      "[[ 2.13731581  1.79280696]\n",
      " [-0.12611021 -4.44074408]\n",
      " [-1.56860903  1.71975027]\n",
      " ...\n",
      " [-0.37179766 -1.32669441]\n",
      " [-0.66487317  1.70566506]\n",
      " [-0.07495353 -1.11029219]]\n",
      "[1 2 0 1 0 0 0 1 1 1 1 2 0 1 2 2 2 1 2 2 0 2 0 2 2 2 0 1 1 2 2 2 0 2 1 1 0\n",
      " 1 1 1 1 2 2 2 2 2 2 0 0 1 0 0 2 2 0 2 1 0 2 2 2 2 2 1 2 2 0 0 0 2 2 1 2 2\n",
      " 0 2 1 1 0 1 0 2 2 2 0 2 1 1 2 1 2 1 0 2 2 0 1 2 0 0 2 0 1 1 2 1 0 0 2 2 0\n",
      " 1 2 2 2 0 2 2 2 0 1 1 2 2 2 2 2 1 2 1 1 2 2 1 0 0 2 0 2 2 0 1 1 2 2 2 0 1\n",
      " 1 2 1 1 2 2 2 1 2 1 2 2 1 1 0 0 0 2 2 0 2 1 2 2 2 1 0 2 1 0 2 0 2 1 1 1 2\n",
      " 2 1 0 0 2 2 2 0 0 0 2 2 2 2 2 2 2 2 2 2 0 2 1 1 2 2 2 2 0 0 2 0 1 0 1 1 2\n",
      " 2 2 2 1 2 0 2 0 1 0 2 0 2 0 0 2 2 1 2 2 1 2 1 0 0 1 0 2 2 2 0 0 2 2 2 2 1\n",
      " 1 2 0 1 1 2 2 0 2 1 1 1 0 1 2 1 1 0 2 2 2 2 2 0 0 0 2 0 2 0 0 2 1 2 1 2 2\n",
      " 2 1 0 2 1 2 2 2 2 2 1 1 2 0 0 2 2 2 1 2 2 2 2 1 2 1 2 2 1 2 2 2 2 2 2 2 2\n",
      " 1 0 0 2 2 2 2 2 1 2 0 2 1 1 0 2 2 2 0 0 2 2 2 2 2 0 1 0 1 2 2 1 2 2 1 0 2\n",
      " 2 0 2 2 0 1 2 2 2 0 1 2 0 2 0 2 0 2 2 2 1 2 2 2 1 0 2 2 1 1 0 0 0 2 1 2 1\n",
      " 2 2 1 1 1 2 0 2 1 2 0 1 2 2 1 2 1 0 2 2 2 2 2 2 1 1 1 1 2 2 2 2 1 2 2 2 2\n",
      " 1 0 2 2 2 0 2 1 0 1 0 1 1 2 2 2 0 1 1 2 2 2 2 2 2 2 2 1 2 0 0 0 1 1 1 2 0\n",
      " 1 1 2 2 2 2 2 2 1 2 1 2 0 0 1 2 2 0 2 2 1 2 2 2 0 2 2 2 2 2 2 1 0 2 2 2 0\n",
      " 2 0 1 2 0 1 2 1 1 0 2 2 1 2 0 0 2 0 2 2 1 1 0 2 2 2 2 0 0 0 2 2 2 0 0 1 2\n",
      " 2 2 0 1 0 1 2 2 2 0 0 2 2 0 2 2 2 0 0 1 0 0 2 1 1 0 2 2 1 2 2 1 2 2 2 1 2\n",
      " 1 2 1 0 1 0 2 0 1 1 1 2 2 2 2 0 0 1 0 0 2 0 1 0 2 1 0 1 0 2 1 0 2 2 2 1 2\n",
      " 1 2 0 1 0 2 1 2 2 2 2 2 2 2 2 1 0 2 0 2 1 0 2 1 0 1 1 2 2 1 2 2 1 2 2 0 2\n",
      " 0 0 2 1 2 1 2 1 0 1 0 2 2 0 0 2 2 1 2 1 2 0 2 0 0 1 2 2 1 2 2 0 2 2 0 1 1\n",
      " 2 1 1 0 0 2 1 2 1 2 2 1 2 0 0 2 0 1 0 2 1 1 2 1 2 2 2 1 2 0 2 0 2 2 2 2 2\n",
      " 0 1 2 0 1 0 1 0 0 2 2 2 2 1 2 1 2 0 2 1 1 2 1 2 2 2 0 0 1 1 2 2 0 1 0 0 2\n",
      " 1 0 2 0 2 2 2 2 1 0 1 0 2 1 2 2 1 2 0 2 2 2 2]\n"
     ]
    }
   ],
   "source": [
    "# rng: a random number generator\n",
    "def sample_mix_mvns(πs, μs, Σs, n, rng):\n",
    "    K, dim = μs.shape\n",
    "    samples = np.zeros((n, dim))\n",
    "    zs = rng.choice(K, n, p=πs)\n",
    "    # fill the missing steps here !\n",
    "    for i in range(n):\n",
    "        #  samples[i, :] = rng.multivariate_normal(μs[zs[i],:], Σs[zs[i],:,:], 1)[0,:]\n",
    "        samples[i, :] = rng.multivariate_normal(μs[zs[i],:], Σs[zs[i],:,:])\n",
    "    return samples, zs\n",
    "\n",
    "# to type μ: type \\mu + tab; \\kappa + tab for κ \n",
    "trueπs = np.array([0.25, 0.25, 0.5])\n",
    "trueμs = np.array([μ1, μ2, μ3])\n",
    "trueΣs = np.array([Σ1, Σ2, Σ3])\n",
    "n_size = 800\n",
    "# use the random generator rng with a fixed seed\n",
    "simData, simData_labels = sample_mix_mvns(trueπs, trueμs, trueΣs, n_size, rng)\n",
    "# you may want to plot the dataset here to visualise the dataset\n",
    "# plot_mixGaussian_data(simData, simData_labels, \"\")\n",
    "print(simData)\n",
    "print(simData_labels)"
   ]
  },
  {
   "cell_type": "markdown",
   "metadata": {},
   "source": [
    "## Task 2. EM - mixture of Gaussians"
   ]
  },
  {
   "cell_type": "markdown",
   "metadata": {},
   "source": [
    "A finite mixture of $K$ Gaussians model can be formulated as \n",
    "\n",
    "\\begin{align*}\n",
    " p(x^i) = \\sum_{k=1}^K \\pi_k N(x^i; \\mu_k, \\Sigma_k),\n",
    "\\end{align*}\n",
    "\n",
    "where $\\pi_k = p(z^i=k)$ denotes the prior distribution of $x^i$ being generated by the k-th Gaussian; and $N(x; \\cdot, \\cdot)$ denotes a Gaussian density.\n",
    "\n",
    "\n",
    "#### Task 2.1 Use Baye's rule to show:\n",
    "\n",
    "The posterior distribution of $z^i$ is $$p(z^i=k| x^i) = \\frac{\\pi_k  N(x^i; \\mu_k, \\Sigma_k)}{ \\sum_{j=1}^K \\pi_j  N(x^i; \\mu_j, \\Sigma_j)}.$$  How to interpret the prior and posterior ?"
   ]
  },
  {
   "cell_type": "markdown",
   "metadata": {},
   "source": [
    "####  Task 2.2 An EM algorithm's E step \n",
    "\n",
    "E step calculates the posterior distribution of $z^i$:\n",
    "\n",
    "**E-step**: for $i=1$ to $n$    \n",
    "\\begin{gather*}\n",
    "{w}_{ik}  = p(z^i=k|x^i) =\\frac{\\pi_k  N(x^i; \\mu_k, \\Sigma_k)}{ \\sum_{j=1}^K \\pi_j  N(x^i; \\mu_j, \\Sigma_j)} \\\\\n",
    "\\end{gather*} \n",
    "\n",
    "study the following code which implements the E step; and what the value \n",
    "$$\\sum_{i=1}^n \\sum_{k=1}^K w_{ik}$$\n",
    "is ? Note that $(w_{ik})$ is a n by K matrix, where $n$ is the number of observations and $K$ is the size of the mixture.\n",
    "\n",
    "The method also aims at returning the likelihood of the data given the currect input parameters. The likelihood is defined as \n",
    "\n",
    "$$p(D|\\{\\pi_k, \\Sigma_k, \\mu_k\\}) = \\prod_{i=1}^n p(x^i|\\{\\pi_k, \\Sigma_k, \\mu_k\\}_{k=1}^K) = \\prod_{i=1}^n \\left(\\sum_{k=1}^K \\pi_k N(x^i;\\mu_k, \\Sigma_k)\\right )$$\n",
    "\n",
    "As expected, this quantity underflows easily (a product of small positive real numbers). "
   ]
  },
  {
   "cell_type": "code",
   "execution_count": 26,
   "metadata": {},
   "outputs": [],
   "source": [
    "def e_step_naive(data, μ, Σ, π):\n",
    "    K, d = μ.shape \n",
    "    liks = np.array([mvn.pdf(data, mean= μ[k,], cov= Σ[k,:,:]) for k in range(K)]).transpose()\n",
    "#   broadcasting here; multiple π to each row of liks\n",
    "    post = π * liks\n",
    "#   I have changed the lik to logLik! a bit better \n",
    "    logLik = np.sum(np.log(np.sum(post,axis=1)[:,None]))\n",
    "    print(logLik)\n",
    "#   Normalise each row by the sum of each row; [:, None] => array of array so broadcasting can be done correctly\n",
    "    ws = post/ (np.sum(post,axis=1)[:,None])\n",
    "    return ws, logLik\n"
   ]
  },
  {
   "cell_type": "markdown",
   "metadata": {},
   "source": [
    "You should test your implementation e.g. by checking the labels's accuracy (won't be 100% accurate due to irreducible error) or plot it"
   ]
  },
  {
   "cell_type": "code",
   "execution_count": 27,
   "metadata": {},
   "outputs": [
    {
     "name": "stdout",
     "output_type": "stream",
     "text": [
      "-2744.4454715350666\n",
      "[[1.13680362e-08 9.87049384e-01 1.29506045e-02]\n",
      " [2.30300122e-24 9.62649017e-26 1.00000000e+00]\n",
      " [9.64814447e-01 1.06029392e-06 3.51844927e-02]\n",
      " ...\n",
      " [2.18074884e-07 4.11548413e-10 9.99999782e-01]\n",
      " [6.64000713e-01 1.92985223e-03 3.34069435e-01]\n",
      " [1.19250812e-07 3.51606536e-08 9.99999846e-01]]\n",
      "-2744.4454715350666\n"
     ]
    }
   ],
   "source": [
    "ws_, lik_ = e_step_naive(simData, trueμs, trueΣs, trueπs)\n",
    "print(ws_)\n",
    "print(lik_)"
   ]
  },
  {
   "cell_type": "code",
   "execution_count": 28,
   "metadata": {},
   "outputs": [
    {
     "data": {
      "text/plain": [
       "749"
      ]
     },
     "execution_count": 28,
     "metadata": {},
     "output_type": "execute_result"
    }
   ],
   "source": [
    "np.sum(np.argmax(ws_, axis=1) == simData_labels)"
   ]
  },
  {
   "cell_type": "markdown",
   "metadata": {},
   "source": [
    "#### Task 2.3 Hard assignment E step\n",
    "\n",
    "**(Hard assignment) E-step**: for $i=1$ to $n$    \n",
    "\n",
    "\\begin{gather*}\n",
    "z^i  \\leftarrow \\text{argmax}_{k} p(z^i=k|x^i) = \\text{argmax}_{k}\\frac{\\pi_k  N(x^i; \\mu_k, \\Sigma_k)}{ \\sum_{j=1}^K \\pi_j  N(x^i; \\mu_j, \\Sigma_j)} \\\\\n",
    "\\end{gather*} \n",
    "\n",
    "Write a method that does the hard E-step. \n",
    "\n",
    "Hint: ``np.argmax`` can be useful here"
   ]
  },
  {
   "cell_type": "code",
   "execution_count": 29,
   "metadata": {},
   "outputs": [],
   "source": [
    "def e_step_hard_assignment (data, μ, Σ, π):\n",
    "    K, d = μ.shape \n",
    "    liks = np.array([mvn.pdf(data, mean= μ[k,], cov= Σ[k,:,:]) for k in range(K)]).transpose()\n",
    "    post = π * liks\n",
    "    likelihood = np.prod(np.sum(post,1)[:,None])\n",
    "    # fill the rest of the method\n",
    "    zs_ = np.argmax(post, axis=1) \n",
    "    # I also return the one-hot encoded responsibility matrix; so M-step can be reused!\n",
    "    # np.eye(K) return a K * K identity matrix; retrieving zs_ rows of that matrix is the responsibility matrix   \n",
    "    zs = np.eye(K)[zs_,:]\n",
    "    return zs, likelihood, zs_"
   ]
  },
  {
   "cell_type": "markdown",
   "metadata": {},
   "source": [
    "Test your method "
   ]
  },
  {
   "cell_type": "code",
   "execution_count": 30,
   "metadata": {},
   "outputs": [
    {
     "name": "stdout",
     "output_type": "stream",
     "text": [
      "0.0\n"
     ]
    }
   ],
   "source": [
    "ws_hard, likelihood, zs_hard = e_step_hard_assignment(simData, trueμs, trueΣs, trueπs)\n",
    "print(likelihood)"
   ]
  },
  {
   "cell_type": "code",
   "execution_count": 31,
   "metadata": {},
   "outputs": [
    {
     "data": {
      "text/plain": [
       "True"
      ]
     },
     "execution_count": 31,
     "metadata": {},
     "output_type": "execute_result"
    }
   ],
   "source": [
    "all(zs_hard == np.argmax(ws_, axis=1))"
   ]
  },
  {
   "cell_type": "markdown",
   "metadata": {},
   "source": [
    "#### Task 2.4 An EM algorithm's M step \n",
    "\n",
    "M-step re-estimates the model parameters based on the weights given by an E step. In pseudo code, it can be written as \n",
    "\n",
    "**M-step**: for $k = 1$ to $K$\n",
    "\\begin{gather*}\n",
    "\\hat{\\pi}_k  \\leftarrow \\frac{\\sum_{i=1}^n w_{ik}}{n} \\\\\n",
    "\\hat{{\\mu}}_{k} \\leftarrow \\frac{1}{\\sum_{i=1}^n w_{ik}} \\sum_{i=1}^n w_{ik}{x}^{i}\\\\\n",
    "\\hat{{\\Sigma}}_{k} \\leftarrow \\frac{1}{\\sum_{i=1}^n w_{ik}}\\sum_{i=1}^n w_{ik}({x}^{i}-\\hat{{\\mu}}_{k})({x}^{i}-\\hat{{\\mu}}_{k})^\\top.\n",
    "\\end{gather*} The code below implements parts of the M step. Now finish the rest of the method."
   ]
  },
  {
   "cell_type": "markdown",
   "metadata": {},
   "source": [
    "\n",
    "## Some matrix manipulations\n",
    "\n",
    "**Some matrix multiplication results**: \n",
    "\n",
    "Matrix times column vector: $X \\cdot ws$\n",
    "\n",
    "Note that $X^\\top = \\begin{bmatrix} \\vert & \\vert & \\ldots & \\vert \\\\\n",
    "x^1 & x^2 & \\ldots & x^n \\\\\n",
    "\\vert & \\vert & \\ldots &\\vert\\end{bmatrix},$ $\\texttt{ws} = \\begin{bmatrix} w_1^1 & w_2^1 & \\ldots & w_K^1 \\\\ \n",
    "w_1^2 & w_2^2 & \\ldots & w_K^2 \\\\\n",
    "\\vdots & \\vdots &  \\ldots & \\vdots \\\\\n",
    "w^n_1 & w^n_2 & \\ldots & w^n_K\\end{bmatrix}$; \n",
    "\n",
    "\n",
    "therefore line 7: ``μ = data.transpose() @ ws`` is  $$X^\\top \\cdot \\texttt{ws} =\\begin{bmatrix} \\vert & \\vert & \\ldots & \\vert \\\\\n",
    "\\sum_{i=1}^n w^i_1 x^i & \\sum_{i=1}^n w^i_2 x^i& \\ldots & \\sum_{i=1}^n w^i_K x^i\\\\\n",
    "\\vert & \\vert & \\ldots &\\vert\\end{bmatrix}.$$ \n",
    "\n",
    "\n",
    "\n",
    "\n",
    "To calculate the covariance, use the following matrix multiplication result: \n",
    "\n",
    "\n",
    "$$\\sum_{i=1}^n x^i (x^i)^\\top = X^\\top X$$ and\n",
    "\n",
    "$$\\sum_{i=1}^n w^i_k x^i (x^i)^\\top = (w_k \\otimes X^\\top)  X.$$ \n",
    "\n",
    "$\\otimes$ denotes broadcast wise times; i.e. broadcast $w_k^i$ to each column of $X^\\top$: $x^i$; i.e.\n",
    "\n",
    "$$w_k \\otimes X^\\top = \\begin{bmatrix} \\vert & \\vert & \\ldots & \\vert \\\\\n",
    "w_k^1 x^1 & w_k^2 x^2 & \\ldots & w_k^n x^n \\\\\n",
    "\\vert & \\vert & \\ldots &\\vert\\end{bmatrix}= \\begin{bmatrix} \n",
    "w_k^1 x^1 & w_k^2 x^2 & \\ldots & w_k^n x^n \\end{bmatrix},$$ \n",
    "\n",
    "The second equation has used the *blocked matrix representation*, where each element itself is a vector.\n",
    "\n",
    "Therefore $$(w_k \\otimes X^\\top) X = \\begin{bmatrix} \n",
    "w_k^1 x^1 & w_k^2 x^2 & \\ldots & w_k^n x^n \\end{bmatrix}\\begin{bmatrix}  (x^1)^\\top \\\\\n",
    "(x^2)^\\top\\\\\n",
    "\\vdots \\\\\n",
    "(x^n)^\\top\n",
    "\\end{bmatrix} = \\sum_{i=1}^n w^i_k x^i (x^i)^\\top,$$ \n",
    "\n",
    "\n",
    "These two rules are widely used; so better just prove it once and remember them. Using matrix multiplication can be 10 times faster than looping. "
   ]
  },
  {
   "cell_type": "code",
   "execution_count": 32,
   "metadata": {},
   "outputs": [],
   "source": [
    "def m_step(data, ws):\n",
    "    d = data.shape[1]\n",
    "    K = ws.shape[1]\n",
    "    # ns[k] = Σ w_ik     \n",
    "    ns = np.sum(ws, axis=0)\n",
    "    π = ns / np.sum(ws)\n",
    "    μ = data.transpose() @ ws\n",
    "    μ = (μ / ns).transpose()\n",
    "    # fix the code below for Σs\n",
    "    Σ = np.zeros((K,d,d))\n",
    "    for k in range(K):\n",
    "        error = data - μ[k]\n",
    "        Σₖ = ((ws[:,k] * error.transpose()) @ error) / ns[k]\n",
    "        Σ[k,:,:] = Σₖ\n",
    "    return μ, Σ, π"
   ]
  },
  {
   "cell_type": "markdown",
   "metadata": {},
   "source": [
    "After finish implementing the method, you should test it independently now on the simulated dataset with the true responsiblity matrix. And the returned result should be very similar the the ground truth. If not, there might be a bug! "
   ]
  },
  {
   "cell_type": "code",
   "execution_count": 33,
   "metadata": {},
   "outputs": [],
   "source": [
    "K = 3\n",
    "# one-hot encoded representation of the labels; it becomes a responsibility matrix\n",
    "true_ws = np.eye(K)[simData_labels,:]\n",
    "μs_, Σs_, πs_ = m_step(simData, true_ws)"
   ]
  },
  {
   "cell_type": "code",
   "execution_count": 34,
   "metadata": {},
   "outputs": [
    {
     "data": {
      "text/plain": [
       "array([[-2.04068267,  0.9636584 ],\n",
       "       [ 1.96751096,  0.97836313],\n",
       "       [ 0.00720253, -1.09577249]])"
      ]
     },
     "execution_count": 34,
     "metadata": {},
     "output_type": "execute_result"
    }
   ],
   "source": [
    "μs_"
   ]
  },
  {
   "cell_type": "code",
   "execution_count": 35,
   "metadata": {},
   "outputs": [
    {
     "data": {
      "text/plain": [
       "array([[[ 0.50708126,  0.25328815],\n",
       "        [ 0.25328815,  0.5078559 ]],\n",
       "\n",
       "       [[ 0.48079238, -0.25623838],\n",
       "        [-0.25623838,  0.54088396]],\n",
       "\n",
       "       [[ 0.77707652,  0.03418586],\n",
       "        [ 0.03418586,  1.95400383]]])"
      ]
     },
     "execution_count": 35,
     "metadata": {},
     "output_type": "execute_result"
    }
   ],
   "source": [
    "Σs_"
   ]
  },
  {
   "cell_type": "markdown",
   "metadata": {},
   "source": [
    "We can also calculate the MLE for the K-th class's data to test whether M-step is correct."
   ]
  },
  {
   "cell_type": "code",
   "execution_count": 36,
   "metadata": {},
   "outputs": [
    {
     "data": {
      "text/plain": [
       "array([[0.50708126, 0.25328815],\n",
       "       [0.25328815, 0.5078559 ]])"
      ]
     },
     "execution_count": 36,
     "metadata": {},
     "output_type": "execute_result"
    }
   ],
   "source": [
    "k = 0\n",
    "Dₖ = simData[simData_labels ==k,:]\n",
    "μ̂ₖ = np.mean(Dₖ, axis=0)\n",
    "(Dₖ - μ̂ₖ).transpose() @ (Dₖ - μ̂ₖ) / sum(simData_labels ==k)"
   ]
  },
  {
   "cell_type": "markdown",
   "metadata": {},
   "source": [
    "#### Task 2.5 Put E and M steps together\n",
    "\n",
    "The following code runs E step and M step iteratively up to 100 iterations. How does the code below initialises the parameters ? print the learnt value $\\texttt{pi},\\texttt{mus}, \\texttt{Sigmas}$ and see how they compare with the true parameters."
   ]
  },
  {
   "cell_type": "markdown",
   "metadata": {},
   "source": [
    "The final parameters are stored in variables $\\texttt{pi},\\texttt{mus}, \\texttt{Sigmas}$; plot the final clustering result by using the given method ``plot_mixGaussian_data``. Hint: you need to re-run an E-step and find $w^i_k$ then find the estimated $z^i$; what is the relationship between $w^i_k$ and $z^i$?"
   ]
  },
  {
   "cell_type": "code",
   "execution_count": 37,
   "metadata": {},
   "outputs": [
    {
     "name": "stdout",
     "output_type": "stream",
     "text": [
      "-2992.9332379752823\n",
      "-2990.8634657585653\n",
      "-2988.597889677726\n",
      "-2984.640515819967\n",
      "-2977.764278800575\n",
      "-2967.0970357925507\n",
      "-2952.8050518206564\n",
      "-2936.694964677312\n",
      "-2921.7823158705587\n",
      "-2910.272329290671\n",
      "-2901.921617186862\n",
      "-2895.07884042815\n",
      "-2888.6702583544666\n",
      "-2882.6535716868148\n",
      "-2877.256530880435\n",
      "-2872.7087403271844\n",
      "-2869.2802102923933\n",
      "-2866.951002499555\n",
      "-2865.440009420121\n",
      "-2864.457903664899\n",
      "-2863.799905136561\n",
      "-2863.337587263668\n",
      "-2862.993653498962\n",
      "-2862.7219545396856\n",
      "-2862.4946089262203\n",
      "-2862.2943101286737\n",
      "-2862.1098815622063\n",
      "-2861.933739109333\n",
      "-2861.7604415305823\n",
      "-2861.58585409015\n",
      "-2861.4066573506466\n",
      "-2861.220051079904\n",
      "-2861.023568727757\n",
      "-2860.814953557996\n",
      "-2860.5920665180133\n",
      "-2860.352805843231\n",
      "-2860.0950234313077\n",
      "-2859.816425437095\n",
      "-2859.514445386272\n",
      "-2859.186077611056\n",
      "-2858.827656558818\n",
      "-2858.434562525109\n",
      "-2858.0008250085425\n",
      "-2857.518578688308\n",
      "-2856.9772999706524\n",
      "-2856.3627072933823\n",
      "-2855.655133859674\n",
      "-2854.8270558043423\n",
      "-2853.8392447455635\n",
      "-2852.6346504789944\n",
      "-2851.1285262761285\n",
      "-2849.1924614266954\n",
      "-2846.6293332417144\n",
      "-2843.13843689852\n",
      "-2838.28636613003\n",
      "-2831.562377504197\n",
      "-2822.7303230198286\n",
      "-2812.562136379944\n",
      "-2802.875778802131\n",
      "-2794.9774699798445\n",
      "-2788.8559647079564\n",
      "-2783.8045333201026\n",
      "-2779.0715856264233\n",
      "-2774.1604622173822\n",
      "-2768.8704964994786\n",
      "-2763.2845443662586\n",
      "-2757.781699784702\n",
      "-2752.947845186314\n",
      "-2749.2350432594844\n",
      "-2746.6659347181567\n",
      "-2744.9673849272303\n",
      "-2743.8480276884643\n",
      "-2743.10202193001\n",
      "-2742.5988950598367\n",
      "-2742.2564616209693\n",
      "-2742.0219098511857\n",
      "-2741.860577256847\n",
      "-2741.7493221171253\n",
      "-2741.6724945998794\n",
      "-2741.6194123953464\n",
      "-2741.582737128644\n",
      "-2741.557406986154\n",
      "-2741.5399223738086\n",
      "-2741.5278612350903\n",
      "-2741.5195469515693\n",
      "-2741.5138193228054\n",
      "-2741.5098760326787\n",
      "-2741.507162704276\n",
      "-2741.50529660946\n",
      "-2741.504013745738\n",
      "-2741.503132150895\n",
      "-2741.5025264987744\n",
      "-2741.502110526335\n",
      "-2741.5018248910856\n",
      "-2741.501628789424\n",
      "-2741.5014941764466\n",
      "-2741.501401783115\n",
      "-2741.501338373904\n",
      "-2741.5012948597614\n",
      "-2741.5012650003096\n"
     ]
    },
    {
     "data": {
      "image/png": "[encoded data removed]",
      "text/plain": [
       "<Figure size 432x288 with 1 Axes>"
      ]
     },
     "metadata": {},
     "output_type": "display_data"
    }
   ],
   "source": [
    "K = 3\n",
    "d = 2\n",
    "n = simData.shape[0]\n",
    "z_init = rng.integers(K, size=n)\n",
    "plot_mixGaussian_data(simData, z_init, \"initial model\")\n",
    "ws = np.eye(K)[z_init]\n",
    "iters = 100\n",
    "mus_history = np.zeros((iters, K, d))\n",
    "Sigmas_history = np.zeros((iters, K, d, d))\n",
    "pis_history= np.zeros((iters, K))\n",
    "logLiks_history = np.zeros(iters)\n",
    "for i in range(iters):\n",
    "    mus, Sigmas, pi = m_step(simData, ws)\n",
    "    ws, ll = e_step_naive(simData, mus, Sigmas, pi)\n",
    "    mus_history[i, :, :] = mus\n",
    "    Sigmas_history[i, :, :, :] = Sigmas\n",
    "    pis_history[i,:] = pi\n",
    "    logLiks_history[i] = ll"
   ]
  },
  {
   "cell_type": "code",
   "execution_count": 40,
   "metadata": {},
   "outputs": [
    {
     "name": "stdout",
     "output_type": "stream",
     "text": [
      "(800, 2)\n",
      "(800, 2)\n",
      "(800, 2)\n",
      "(800, 2)\n",
      "(800, 2)\n",
      "(800, 2)\n",
      "(800, 2)\n",
      "(800, 2)\n",
      "(800, 2)\n",
      "(800, 2)\n"
     ]
    }
   ],
   "source": [
    "for iter_ in  np.arange(0, iters, 10):\n",
    "    _, _, zend = e_step_hard_assignment(simData, mus_history[iter_,:], Sigmas_history[iter_,:,:], pis_history[iter_,:])\n",
    "    print(simData.shape)\n",
    "    plot_mixGaussian_data(simData, zend, \"iteration: \" + str(iter_) +\" logLik: \"+ str(round(logLiks_history[iter_],3)))"
   ]
  },
  {
   "cell_type": "markdown",
   "metadata": {},
   "source": [
    "####  Task 2.6 E step in log-space\n",
    "\n",
    "It is more efficient and numerically stable to calculate probabilities in log-space. Now re-implement the above method E-step in log-space. The method should now instead return the log-likelihood of the dataset.\n",
    "\n",
    "Hint: note that if we take log to the E-step we have \n",
    "\n",
    "$$\\left (\\ln \\pi_k + \\ln N(x^i; \\mu_k, \\Sigma_k)\\right ) - \\ln \\left (\\sum_{j=1}^K \\exp \\left \\{\\ln \\pi_j +\\ln N(x^i; \\mu_j, \\Sigma_j\\right \\}\\right )$$\n",
    "\n",
    "And the a numerical stable way to calculate the log transformed denumerator is to use `logsumexp` (which is imported for you; check its implementation for details if you want to know more). The E step also returns $\\texttt{logLik}$: the log-likelihood of the model given the input parameters. Remember the log-likelihood for mixture of Gaussians is defined as \n",
    "\\begin{align*}\\log P(D| \\{\\pi_k, \\mu_k, \\Sigma_k\\}_{k=1}^K\\})&=\\log \\prod_{i=1}^n P(x^i| \\{\\pi_k, \\mu_k, \\Sigma_k\\}_{k=1}^K) \\\\ \n",
    "&= \\sum_{i=1}^n \\log P(x^i| \\{\\pi_k, \\mu_k, \\Sigma_k\\}_{k=1}^K) = \\sum_{i=1}^n \\log \\sum_{k=1}^K \\exp\\left \\{\\ln \\left (\\pi_k N(x^i; \\mu_k, \\Sigma_k)\\right )\\right \\},\n",
    "\\end{align*} You need to figure out how the log likelihood can be calculated based on the above equation."
   ]
  },
  {
   "cell_type": "code",
   "execution_count": null,
   "metadata": {},
   "outputs": [],
   "source": [
    "def e_step_log_space(data, μ, Σ, π):\n",
    "    K, d = μ.shape \n",
    "    logLiks = np.array([mvn.logpdf(data, mean= μ[k,], cov= Σ[k,:,:]) for k in range(K)]).transpose()\n",
    "#   fill the rest here\n",
    "    return ws, logLik"
   ]
  },
  {
   "cell_type": "markdown",
   "metadata": {},
   "source": [
    "After implementing the code, you should test the method on the simulated dataset with the true parameters. "
   ]
  },
  {
   "cell_type": "code",
   "execution_count": null,
   "metadata": {},
   "outputs": [],
   "source": [
    "#  ws_, logLik_=e_step_log_space(simData, trueμs, trueΣs, trueπs);"
   ]
  }
 ],
 "metadata": {
  "kernelspec": {
   "display_name": "Python 3",
   "language": "python",
   "name": "python3"
  },
  "language_info": {
   "codemirror_mode": {
    "name": "ipython",
    "version": 3
   },
   "file_extension": ".py",
   "mimetype": "text/x-python",
   "name": "python",
   "nbconvert_exporter": "python",
   "pygments_lexer": "ipython3",
   "version": "3.9.7"
  }
 },
 "nbformat": 4,
 "nbformat_minor": 5
}
