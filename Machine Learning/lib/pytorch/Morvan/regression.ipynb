{
 "cells": [
  {
   "cell_type": "code",
   "execution_count": 1,
   "metadata": {},
   "outputs": [],
   "source": [
    "import torch\n",
    "import torch.nn\n",
    "# import torch.nn.functional as F\n",
    "# from torch.autograd import Variable\n",
    "import matplotlib.pyplot as plt\n",
    "from IPython import display"
   ]
  },
  {
   "cell_type": "markdown",
   "metadata": {},
   "source": [
    "# 生成数据"
   ]
  },
  {
   "cell_type": "code",
   "execution_count": 8,
   "metadata": {},
   "outputs": [
    {
     "data": {
      "image/png": "[encoded data removed]",
      "text/plain": [
       "<Figure size 432x288 with 1 Axes>"
      ]
     },
     "metadata": {
      "needs_background": "light"
     },
     "output_type": "display_data"
    }
   ],
   "source": [
    "x = torch.unsqueeze(torch.linspace(-1, 1, 100), dim=1)  # 增加一维\n",
    "y = x.pow(2) + torch.rand(x.size()) * 0.2\n",
    "plt.scatter(x.numpy(), y.numpy())  # 可以使用.detach()代替之前的.data\n",
    "plt.show()"
   ]
  },
  {
   "cell_type": "markdown",
   "metadata": {},
   "source": [
    "# 构建神经网络"
   ]
  },
  {
   "cell_type": "code",
   "execution_count": 3,
   "metadata": {},
   "outputs": [],
   "source": [
    "class Net(torch.nn.Module):  #继承\n",
    "    def __init__(self, n_feature, n_hidden, n_output):\n",
    "        super(Net, self).__init__()\n",
    "        self.hidden = torch.nn.Linear(n_feature, n_hidden)  #从特征到隐藏层\n",
    "        self.predict = torch.nn.Linear(n_hidden, n_output)  #从隐藏层到输出\n",
    "\n",
    "    def forward(self, x):\n",
    "        x = torch.relu(self.hidden(x))  #激活函数\n",
    "        x = self.predict(x)  #预测值\n",
    "        return x"
   ]
  },
  {
   "cell_type": "code",
   "execution_count": 4,
   "metadata": {},
   "outputs": [
    {
     "data": {
      "text/plain": [
       "OrderedDict([('hidden.weight',\n",
       "              tensor([[ 0.3099],\n",
       "                      [ 0.3989],\n",
       "                      [ 0.5522],\n",
       "                      [ 0.9987],\n",
       "                      [ 0.7852],\n",
       "                      [-0.4627],\n",
       "                      [-0.6062],\n",
       "                      [ 0.4419],\n",
       "                      [ 0.1478],\n",
       "                      [-0.8500]])),\n",
       "             ('hidden.bias',\n",
       "              tensor([ 0.5560,  0.2881, -0.0570, -0.4500,  0.8768, -0.7093, -0.4935,  0.6256,\n",
       "                       0.6919,  0.2682])),\n",
       "             ('predict.weight',\n",
       "              tensor([[-0.2584, -0.2647, -0.0671, -0.1982, -0.2179,  0.1353, -0.0584, -0.0260,\n",
       "                       -0.2803,  0.2349]])),\n",
       "             ('predict.bias', tensor([0.1880]))])"
      ]
     },
     "execution_count": 4,
     "metadata": {},
     "output_type": "execute_result"
    }
   ],
   "source": [
    "net = Net(1, 10, 1)\n",
    "net.state_dict() # 查看参数"
   ]
  },
  {
   "cell_type": "markdown",
   "metadata": {},
   "source": [
    "# 损失函数"
   ]
  },
  {
   "cell_type": "code",
   "execution_count": 5,
   "metadata": {},
   "outputs": [],
   "source": [
    "optimzer = torch.optim.SGD(net.parameters(), lr=0.5)  #设置学习率为0.5,\n",
    "loss_func = torch.nn.MSELoss()"
   ]
  },
  {
   "cell_type": "markdown",
   "metadata": {},
   "source": [
    "# 开始训练 "
   ]
  },
  {
   "cell_type": "code",
   "execution_count": 6,
   "metadata": {},
   "outputs": [
    {
     "data": {
      "image/png": "[encoded data removed]",
      "text/plain": [
       "<Figure size 432x288 with 1 Axes>"
      ]
     },
     "metadata": {
      "needs_background": "light"
     },
     "output_type": "display_data"
    }
   ],
   "source": [
    "plt.ion()\n",
    "for t in range(1, 201):  #训练200次\n",
    "    prediction = net(x)  #得到预测值\n",
    "    loss = loss_func(prediction, y)  #通过损失函数得到损失\n",
    "    optimzer.zero_grad()  #梯度设置为0\n",
    "    loss.backward()  #反向传播\n",
    "    optimzer.step()\n",
    "    if t % 10 == 0:\n",
    "        plt.cla()\n",
    "        plt.scatter(x.numpy(), y.numpy())\n",
    "        plt.plot(x.numpy(), prediction.numpy(), 'r-', lw=5)\n",
    "        plt.text(0.5,\n",
    "                 0,\n",
    "                 'Loss=%.4f' % loss.item(),\n",
    "                 fontdict={\n",
    "                     'size': 20,\n",
    "                     'color': 'red'\n",
    "                 })\n",
    "        plt.pause(0.1)\n",
    "        display.clear_output(wait=True)  # 实现jupyter动态图\n",
    "plt.ioff()\n",
    "plt.show()"
   ]
  }
 ],
 "metadata": {
  "kernelspec": {
   "display_name": "Python 3 (ipykernel)",
   "language": "python",
   "name": "python3"
  },
  "language_info": {
   "codemirror_mode": {
    "name": "ipython",
    "version": 3
   },
   "file_extension": ".py",
   "mimetype": "text/x-python",
   "name": "python",
   "nbconvert_exporter": "python",
   "pygments_lexer": "ipython3",
   "version": "3.9.7"
  },
  "latex_envs": {
   "LaTeX_envs_menu_present": true,
   "autoclose": false,
   "autocomplete": true,
   "bibliofile": "biblio.bib",
   "cite_by": "apalike",
   "current_citInitial": 1,
   "eqLabelWithNumbers": true,
   "eqNumInitial": 1,
   "hotkeys": {
    "equation": "Ctrl-E",
    "itemize": "Ctrl-I"
   },
   "labels_anchors": false,
   "latex_user_defs": false,
   "report_style_numbering": false,
   "user_envs_cfg": false
  },
  "toc": {
   "base_numbering": 1,
   "nav_menu": {},
   "number_sections": true,
   "sideBar": true,
   "skip_h1_title": false,
   "title_cell": "Table of Contents",
   "title_sidebar": "Contents",
   "toc_cell": false,
   "toc_position": {},
   "toc_section_display": true,
   "toc_window_display": false
  }
 },
 "nbformat": 4,
 "nbformat_minor": 2
}
