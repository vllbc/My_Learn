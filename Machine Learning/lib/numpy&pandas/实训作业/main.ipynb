{
 "cells": [
  {
   "cell_type": "markdown",
   "id": "cd1715f2",
   "metadata": {},
   "source": [
    "# 数据导入以及处理"
   ]
  },
  {
   "cell_type": "markdown",
   "id": "1652aa13",
   "metadata": {},
   "source": [
    "数据来自kaggle [https://www.kaggle.com/henslersoftware/19560-indian-takeaway-orders](https://www.kaggle.com/henslersoftware/19560-indian-takeaway-orders)"
   ]
  },
  {
   "cell_type": "markdown",
   "id": "44b5288f",
   "metadata": {},
   "source": [
    "## 导入库"
   ]
  },
  {
   "cell_type": "code",
   "execution_count": 4,
   "id": "8c7e86c2",
   "metadata": {},
   "outputs": [],
   "source": [
    "import pandas as pd\n",
    "import numpy as np\n",
    "\n",
    "import matplotlib.pyplot as plt\n",
    "import seaborn as sns\n",
    "\n",
    "sns.set(style=\"white\")\n",
    "sns.set(style=\"whitegrid\", color_codes=True)\n",
    "\n",
    "import warnings\n",
    "\n",
    "warnings.simplefilter(\"ignore\")"
   ]
  },
  {
   "cell_type": "markdown",
   "id": "db4ec5d7",
   "metadata": {},
   "source": [
    "## 读取数据并作简单的了解"
   ]
  },
  {
   "cell_type": "code",
   "execution_count": 5,
   "id": "df4d6212",
   "metadata": {},
   "outputs": [
    {
     "data": {
      "text/html": [
       "<div>\n",
       "<style scoped>\n",
       "    .dataframe tbody tr th:only-of-type {\n",
       "        vertical-align: middle;\n",
       "    }\n",
       "\n",
       "    .dataframe tbody tr th {\n",
       "        vertical-align: top;\n",
       "    }\n",
       "\n",
       "    .dataframe thead th {\n",
       "        text-align: right;\n",
       "    }\n",
       "</style>\n",
       "<table border=\"1\" class=\"dataframe\">\n",
       "  <thead>\n",
       "    <tr style=\"text-align: right;\">\n",
       "      <th></th>\n",
       "      <th>Order Number</th>\n",
       "      <th>Order Date</th>\n",
       "      <th>Item Name</th>\n",
       "      <th>Quantity</th>\n",
       "      <th>Product Price</th>\n",
       "      <th>Total products</th>\n",
       "    </tr>\n",
       "  </thead>\n",
       "  <tbody>\n",
       "    <tr>\n",
       "      <th>0</th>\n",
       "      <td>16118</td>\n",
       "      <td>03/08/2019 20:25</td>\n",
       "      <td>Plain Papadum</td>\n",
       "      <td>2</td>\n",
       "      <td>0.80</td>\n",
       "      <td>6</td>\n",
       "    </tr>\n",
       "    <tr>\n",
       "      <th>1</th>\n",
       "      <td>16118</td>\n",
       "      <td>03/08/2019 20:25</td>\n",
       "      <td>King Prawn Balti</td>\n",
       "      <td>1</td>\n",
       "      <td>12.95</td>\n",
       "      <td>6</td>\n",
       "    </tr>\n",
       "    <tr>\n",
       "      <th>2</th>\n",
       "      <td>16118</td>\n",
       "      <td>03/08/2019 20:25</td>\n",
       "      <td>Garlic Naan</td>\n",
       "      <td>1</td>\n",
       "      <td>2.95</td>\n",
       "      <td>6</td>\n",
       "    </tr>\n",
       "    <tr>\n",
       "      <th>3</th>\n",
       "      <td>16118</td>\n",
       "      <td>03/08/2019 20:25</td>\n",
       "      <td>Mushroom Rice</td>\n",
       "      <td>1</td>\n",
       "      <td>3.95</td>\n",
       "      <td>6</td>\n",
       "    </tr>\n",
       "    <tr>\n",
       "      <th>4</th>\n",
       "      <td>16118</td>\n",
       "      <td>03/08/2019 20:25</td>\n",
       "      <td>Paneer Tikka Masala</td>\n",
       "      <td>1</td>\n",
       "      <td>8.95</td>\n",
       "      <td>6</td>\n",
       "    </tr>\n",
       "    <tr>\n",
       "      <th>...</th>\n",
       "      <td>...</td>\n",
       "      <td>...</td>\n",
       "      <td>...</td>\n",
       "      <td>...</td>\n",
       "      <td>...</td>\n",
       "      <td>...</td>\n",
       "    </tr>\n",
       "    <tr>\n",
       "      <th>74813</th>\n",
       "      <td>2518</td>\n",
       "      <td>18/05/2016 18:53</td>\n",
       "      <td>House Red wine 75cl</td>\n",
       "      <td>2</td>\n",
       "      <td>17.95</td>\n",
       "      <td>7</td>\n",
       "    </tr>\n",
       "    <tr>\n",
       "      <th>74814</th>\n",
       "      <td>2503</td>\n",
       "      <td>14/05/2016 19:28</td>\n",
       "      <td>House Red wine 75cl</td>\n",
       "      <td>2</td>\n",
       "      <td>17.95</td>\n",
       "      <td>6</td>\n",
       "    </tr>\n",
       "    <tr>\n",
       "      <th>74815</th>\n",
       "      <td>2467</td>\n",
       "      <td>10/05/2016 13:18</td>\n",
       "      <td>House Red wine 75cl</td>\n",
       "      <td>2</td>\n",
       "      <td>17.95</td>\n",
       "      <td>9</td>\n",
       "    </tr>\n",
       "    <tr>\n",
       "      <th>74816</th>\n",
       "      <td>2249</td>\n",
       "      <td>07/04/2016 19:04</td>\n",
       "      <td>House white wine 75cl</td>\n",
       "      <td>1</td>\n",
       "      <td>17.95</td>\n",
       "      <td>6</td>\n",
       "    </tr>\n",
       "    <tr>\n",
       "      <th>74817</th>\n",
       "      <td>1403</td>\n",
       "      <td>02/10/2015 17:29</td>\n",
       "      <td>House Red wine 75cl</td>\n",
       "      <td>1</td>\n",
       "      <td>17.95</td>\n",
       "      <td>9</td>\n",
       "    </tr>\n",
       "  </tbody>\n",
       "</table>\n",
       "<p>74818 rows × 6 columns</p>\n",
       "</div>"
      ],
      "text/plain": [
       "       Order Number        Order Date              Item Name  Quantity  \\\n",
       "0             16118  03/08/2019 20:25          Plain Papadum         2   \n",
       "1             16118  03/08/2019 20:25       King Prawn Balti         1   \n",
       "2             16118  03/08/2019 20:25            Garlic Naan         1   \n",
       "3             16118  03/08/2019 20:25          Mushroom Rice         1   \n",
       "4             16118  03/08/2019 20:25    Paneer Tikka Masala         1   \n",
       "...             ...               ...                    ...       ...   \n",
       "74813          2518  18/05/2016 18:53    House Red wine 75cl         2   \n",
       "74814          2503  14/05/2016 19:28    House Red wine 75cl         2   \n",
       "74815          2467  10/05/2016 13:18    House Red wine 75cl         2   \n",
       "74816          2249  07/04/2016 19:04  House white wine 75cl         1   \n",
       "74817          1403  02/10/2015 17:29    House Red wine 75cl         1   \n",
       "\n",
       "       Product Price  Total products  \n",
       "0               0.80               6  \n",
       "1              12.95               6  \n",
       "2               2.95               6  \n",
       "3               3.95               6  \n",
       "4               8.95               6  \n",
       "...              ...             ...  \n",
       "74813          17.95               7  \n",
       "74814          17.95               6  \n",
       "74815          17.95               9  \n",
       "74816          17.95               6  \n",
       "74817          17.95               9  \n",
       "\n",
       "[74818 rows x 6 columns]"
      ]
     },
     "execution_count": 5,
     "metadata": {},
     "output_type": "execute_result"
    }
   ],
   "source": [
    "data = pd.read_csv(\"restaurant-1-orders.csv\")\n",
    "data"
   ]
  },
  {
   "cell_type": "code",
   "execution_count": 6,
   "id": "b9c9fa17",
   "metadata": {},
   "outputs": [
    {
     "data": {
      "text/plain": [
       "(74818, 6)"
      ]
     },
     "execution_count": 6,
     "metadata": {},
     "output_type": "execute_result"
    }
   ],
   "source": [
    "data.shape"
   ]
  },
  {
   "cell_type": "code",
   "execution_count": 7,
   "id": "bf94bc11",
   "metadata": {},
   "outputs": [
    {
     "name": "stdout",
     "output_type": "stream",
     "text": [
      "<class 'pandas.core.frame.DataFrame'>\n",
      "RangeIndex: 74818 entries, 0 to 74817\n",
      "Data columns (total 6 columns):\n",
      " #   Column          Non-Null Count  Dtype  \n",
      "---  ------          --------------  -----  \n",
      " 0   Order Number    74818 non-null  int64  \n",
      " 1   Order Date      74818 non-null  object \n",
      " 2   Item Name       74818 non-null  object \n",
      " 3   Quantity        74818 non-null  int64  \n",
      " 4   Product Price   74818 non-null  float64\n",
      " 5   Total products  74818 non-null  int64  \n",
      "dtypes: float64(1), int64(3), object(2)\n",
      "memory usage: 3.4+ MB\n"
     ]
    }
   ],
   "source": [
    "data.info()"
   ]
  },
  {
   "cell_type": "code",
   "execution_count": 8,
   "id": "c295e556",
   "metadata": {},
   "outputs": [
    {
     "data": {
      "text/html": [
       "<div>\n",
       "<style scoped>\n",
       "    .dataframe tbody tr th:only-of-type {\n",
       "        vertical-align: middle;\n",
       "    }\n",
       "\n",
       "    .dataframe tbody tr th {\n",
       "        vertical-align: top;\n",
       "    }\n",
       "\n",
       "    .dataframe thead th {\n",
       "        text-align: right;\n",
       "    }\n",
       "</style>\n",
       "<table border=\"1\" class=\"dataframe\">\n",
       "  <thead>\n",
       "    <tr style=\"text-align: right;\">\n",
       "      <th></th>\n",
       "      <th>Order Number</th>\n",
       "      <th>Quantity</th>\n",
       "      <th>Product Price</th>\n",
       "      <th>Total products</th>\n",
       "    </tr>\n",
       "  </thead>\n",
       "  <tbody>\n",
       "    <tr>\n",
       "      <th>count</th>\n",
       "      <td>74818.000000</td>\n",
       "      <td>74818.000000</td>\n",
       "      <td>74818.000000</td>\n",
       "      <td>74818.000000</td>\n",
       "    </tr>\n",
       "    <tr>\n",
       "      <th>mean</th>\n",
       "      <td>9115.638162</td>\n",
       "      <td>1.243564</td>\n",
       "      <td>5.286492</td>\n",
       "      <td>6.931434</td>\n",
       "    </tr>\n",
       "    <tr>\n",
       "      <th>std</th>\n",
       "      <td>4052.210452</td>\n",
       "      <td>0.798207</td>\n",
       "      <td>3.338221</td>\n",
       "      <td>3.954832</td>\n",
       "    </tr>\n",
       "    <tr>\n",
       "      <th>min</th>\n",
       "      <td>630.000000</td>\n",
       "      <td>1.000000</td>\n",
       "      <td>0.500000</td>\n",
       "      <td>1.000000</td>\n",
       "    </tr>\n",
       "    <tr>\n",
       "      <th>25%</th>\n",
       "      <td>5590.000000</td>\n",
       "      <td>1.000000</td>\n",
       "      <td>2.950000</td>\n",
       "      <td>5.000000</td>\n",
       "    </tr>\n",
       "    <tr>\n",
       "      <th>50%</th>\n",
       "      <td>9103.000000</td>\n",
       "      <td>1.000000</td>\n",
       "      <td>3.950000</td>\n",
       "      <td>6.000000</td>\n",
       "    </tr>\n",
       "    <tr>\n",
       "      <th>75%</th>\n",
       "      <td>12630.000000</td>\n",
       "      <td>1.000000</td>\n",
       "      <td>8.950000</td>\n",
       "      <td>8.000000</td>\n",
       "    </tr>\n",
       "    <tr>\n",
       "      <th>max</th>\n",
       "      <td>16118.000000</td>\n",
       "      <td>51.000000</td>\n",
       "      <td>17.950000</td>\n",
       "      <td>60.000000</td>\n",
       "    </tr>\n",
       "  </tbody>\n",
       "</table>\n",
       "</div>"
      ],
      "text/plain": [
       "       Order Number      Quantity  Product Price  Total products\n",
       "count  74818.000000  74818.000000   74818.000000    74818.000000\n",
       "mean    9115.638162      1.243564       5.286492        6.931434\n",
       "std     4052.210452      0.798207       3.338221        3.954832\n",
       "min      630.000000      1.000000       0.500000        1.000000\n",
       "25%     5590.000000      1.000000       2.950000        5.000000\n",
       "50%     9103.000000      1.000000       3.950000        6.000000\n",
       "75%    12630.000000      1.000000       8.950000        8.000000\n",
       "max    16118.000000     51.000000      17.950000       60.000000"
      ]
     },
     "execution_count": 8,
     "metadata": {},
     "output_type": "execute_result"
    }
   ],
   "source": [
    "data.describe()"
   ]
  },
  {
   "cell_type": "code",
   "execution_count": 9,
   "id": "1b28590c",
   "metadata": {},
   "outputs": [
    {
     "data": {
      "text/plain": [
       "Order Number      0\n",
       "Order Date        0\n",
       "Item Name         0\n",
       "Quantity          0\n",
       "Product Price     0\n",
       "Total products    0\n",
       "dtype: int64"
      ]
     },
     "execution_count": 9,
     "metadata": {},
     "output_type": "execute_result"
    }
   ],
   "source": [
    "data.isnull().sum()"
   ]
  },
  {
   "cell_type": "markdown",
   "id": "cc9af5fc",
   "metadata": {},
   "source": [
    "发现没有缺失值，说明kaggle上面的数据集质量还是不错的"
   ]
  },
  {
   "cell_type": "markdown",
   "id": "288d6688",
   "metadata": {},
   "source": [
    "## 数据处理"
   ]
  },
  {
   "cell_type": "markdown",
   "id": "360edc54",
   "metadata": {},
   "source": [
    "### 将日期转化为datetime64类型"
   ]
  },
  {
   "cell_type": "code",
   "execution_count": 10,
   "id": "8eee3ae5",
   "metadata": {},
   "outputs": [],
   "source": [
    "data[\"Order Date\"] = pd.to_datetime(data[\"Order Date\"])"
   ]
  },
  {
   "cell_type": "markdown",
   "id": "4143a881",
   "metadata": {},
   "source": [
    "### 计算总价格"
   ]
  },
  {
   "cell_type": "markdown",
   "id": "2706130d",
   "metadata": {},
   "source": [
    "总价格为$ Product Price * Quantity $"
   ]
  },
  {
   "cell_type": "code",
   "execution_count": 11,
   "id": "e60d1fea",
   "metadata": {},
   "outputs": [
    {
     "data": {
      "text/html": [
       "<div>\n",
       "<style scoped>\n",
       "    .dataframe tbody tr th:only-of-type {\n",
       "        vertical-align: middle;\n",
       "    }\n",
       "\n",
       "    .dataframe tbody tr th {\n",
       "        vertical-align: top;\n",
       "    }\n",
       "\n",
       "    .dataframe thead th {\n",
       "        text-align: right;\n",
       "    }\n",
       "</style>\n",
       "<table border=\"1\" class=\"dataframe\">\n",
       "  <thead>\n",
       "    <tr style=\"text-align: right;\">\n",
       "      <th></th>\n",
       "      <th>Order Number</th>\n",
       "      <th>Order Date</th>\n",
       "      <th>Item Name</th>\n",
       "      <th>Quantity</th>\n",
       "      <th>Product Price</th>\n",
       "      <th>Total products</th>\n",
       "      <th>Total Price</th>\n",
       "    </tr>\n",
       "  </thead>\n",
       "  <tbody>\n",
       "    <tr>\n",
       "      <th>0</th>\n",
       "      <td>16118</td>\n",
       "      <td>2019-03-08 20:25:00</td>\n",
       "      <td>Plain Papadum</td>\n",
       "      <td>2</td>\n",
       "      <td>0.80</td>\n",
       "      <td>6</td>\n",
       "      <td>1.60</td>\n",
       "    </tr>\n",
       "    <tr>\n",
       "      <th>1</th>\n",
       "      <td>16118</td>\n",
       "      <td>2019-03-08 20:25:00</td>\n",
       "      <td>King Prawn Balti</td>\n",
       "      <td>1</td>\n",
       "      <td>12.95</td>\n",
       "      <td>6</td>\n",
       "      <td>12.95</td>\n",
       "    </tr>\n",
       "    <tr>\n",
       "      <th>2</th>\n",
       "      <td>16118</td>\n",
       "      <td>2019-03-08 20:25:00</td>\n",
       "      <td>Garlic Naan</td>\n",
       "      <td>1</td>\n",
       "      <td>2.95</td>\n",
       "      <td>6</td>\n",
       "      <td>2.95</td>\n",
       "    </tr>\n",
       "    <tr>\n",
       "      <th>3</th>\n",
       "      <td>16118</td>\n",
       "      <td>2019-03-08 20:25:00</td>\n",
       "      <td>Mushroom Rice</td>\n",
       "      <td>1</td>\n",
       "      <td>3.95</td>\n",
       "      <td>6</td>\n",
       "      <td>3.95</td>\n",
       "    </tr>\n",
       "    <tr>\n",
       "      <th>4</th>\n",
       "      <td>16118</td>\n",
       "      <td>2019-03-08 20:25:00</td>\n",
       "      <td>Paneer Tikka Masala</td>\n",
       "      <td>1</td>\n",
       "      <td>8.95</td>\n",
       "      <td>6</td>\n",
       "      <td>8.95</td>\n",
       "    </tr>\n",
       "    <tr>\n",
       "      <th>...</th>\n",
       "      <td>...</td>\n",
       "      <td>...</td>\n",
       "      <td>...</td>\n",
       "      <td>...</td>\n",
       "      <td>...</td>\n",
       "      <td>...</td>\n",
       "      <td>...</td>\n",
       "    </tr>\n",
       "    <tr>\n",
       "      <th>74813</th>\n",
       "      <td>2518</td>\n",
       "      <td>2016-05-18 18:53:00</td>\n",
       "      <td>House Red wine 75cl</td>\n",
       "      <td>2</td>\n",
       "      <td>17.95</td>\n",
       "      <td>7</td>\n",
       "      <td>35.90</td>\n",
       "    </tr>\n",
       "    <tr>\n",
       "      <th>74814</th>\n",
       "      <td>2503</td>\n",
       "      <td>2016-05-14 19:28:00</td>\n",
       "      <td>House Red wine 75cl</td>\n",
       "      <td>2</td>\n",
       "      <td>17.95</td>\n",
       "      <td>6</td>\n",
       "      <td>35.90</td>\n",
       "    </tr>\n",
       "    <tr>\n",
       "      <th>74815</th>\n",
       "      <td>2467</td>\n",
       "      <td>2016-10-05 13:18:00</td>\n",
       "      <td>House Red wine 75cl</td>\n",
       "      <td>2</td>\n",
       "      <td>17.95</td>\n",
       "      <td>9</td>\n",
       "      <td>35.90</td>\n",
       "    </tr>\n",
       "    <tr>\n",
       "      <th>74816</th>\n",
       "      <td>2249</td>\n",
       "      <td>2016-07-04 19:04:00</td>\n",
       "      <td>House white wine 75cl</td>\n",
       "      <td>1</td>\n",
       "      <td>17.95</td>\n",
       "      <td>6</td>\n",
       "      <td>17.95</td>\n",
       "    </tr>\n",
       "    <tr>\n",
       "      <th>74817</th>\n",
       "      <td>1403</td>\n",
       "      <td>2015-02-10 17:29:00</td>\n",
       "      <td>House Red wine 75cl</td>\n",
       "      <td>1</td>\n",
       "      <td>17.95</td>\n",
       "      <td>9</td>\n",
       "      <td>17.95</td>\n",
       "    </tr>\n",
       "  </tbody>\n",
       "</table>\n",
       "<p>74818 rows × 7 columns</p>\n",
       "</div>"
      ],
      "text/plain": [
       "       Order Number          Order Date              Item Name  Quantity  \\\n",
       "0             16118 2019-03-08 20:25:00          Plain Papadum         2   \n",
       "1             16118 2019-03-08 20:25:00       King Prawn Balti         1   \n",
       "2             16118 2019-03-08 20:25:00            Garlic Naan         1   \n",
       "3             16118 2019-03-08 20:25:00          Mushroom Rice         1   \n",
       "4             16118 2019-03-08 20:25:00    Paneer Tikka Masala         1   \n",
       "...             ...                 ...                    ...       ...   \n",
       "74813          2518 2016-05-18 18:53:00    House Red wine 75cl         2   \n",
       "74814          2503 2016-05-14 19:28:00    House Red wine 75cl         2   \n",
       "74815          2467 2016-10-05 13:18:00    House Red wine 75cl         2   \n",
       "74816          2249 2016-07-04 19:04:00  House white wine 75cl         1   \n",
       "74817          1403 2015-02-10 17:29:00    House Red wine 75cl         1   \n",
       "\n",
       "       Product Price  Total products  Total Price  \n",
       "0               0.80               6         1.60  \n",
       "1              12.95               6        12.95  \n",
       "2               2.95               6         2.95  \n",
       "3               3.95               6         3.95  \n",
       "4               8.95               6         8.95  \n",
       "...              ...             ...          ...  \n",
       "74813          17.95               7        35.90  \n",
       "74814          17.95               6        35.90  \n",
       "74815          17.95               9        35.90  \n",
       "74816          17.95               6        17.95  \n",
       "74817          17.95               9        17.95  \n",
       "\n",
       "[74818 rows x 7 columns]"
      ]
     },
     "execution_count": 11,
     "metadata": {},
     "output_type": "execute_result"
    }
   ],
   "source": [
    "data[\"Total Price\"] = data[\"Product Price\"] * data[\"Quantity\"]\n",
    "data"
   ]
  },
  {
   "cell_type": "markdown",
   "id": "36f8c982",
   "metadata": {},
   "source": [
    "### 选取需要分析的数据"
   ]
  },
  {
   "cell_type": "code",
   "execution_count": 12,
   "id": "ade61cf5",
   "metadata": {},
   "outputs": [
    {
     "data": {
      "text/html": [
       "<div>\n",
       "<style scoped>\n",
       "    .dataframe tbody tr th:only-of-type {\n",
       "        vertical-align: middle;\n",
       "    }\n",
       "\n",
       "    .dataframe tbody tr th {\n",
       "        vertical-align: top;\n",
       "    }\n",
       "\n",
       "    .dataframe thead th {\n",
       "        text-align: right;\n",
       "    }\n",
       "</style>\n",
       "<table border=\"1\" class=\"dataframe\">\n",
       "  <thead>\n",
       "    <tr style=\"text-align: right;\">\n",
       "      <th></th>\n",
       "      <th>Order Date</th>\n",
       "      <th>Order Number</th>\n",
       "      <th>Quantity</th>\n",
       "      <th>Product Price</th>\n",
       "      <th>Total products</th>\n",
       "      <th>Total Price</th>\n",
       "    </tr>\n",
       "  </thead>\n",
       "  <tbody>\n",
       "    <tr>\n",
       "      <th>0</th>\n",
       "      <td>2015-12-31</td>\n",
       "      <td>85035</td>\n",
       "      <td>80</td>\n",
       "      <td>353.10</td>\n",
       "      <td>312</td>\n",
       "      <td>412.50</td>\n",
       "    </tr>\n",
       "    <tr>\n",
       "      <th>1</th>\n",
       "      <td>2016-12-31</td>\n",
       "      <td>34487972</td>\n",
       "      <td>13496</td>\n",
       "      <td>57205.25</td>\n",
       "      <td>78250</td>\n",
       "      <td>63978.80</td>\n",
       "    </tr>\n",
       "    <tr>\n",
       "      <th>2</th>\n",
       "      <td>2017-12-31</td>\n",
       "      <td>126190039</td>\n",
       "      <td>26112</td>\n",
       "      <td>110157.85</td>\n",
       "      <td>142369</td>\n",
       "      <td>126484.50</td>\n",
       "    </tr>\n",
       "    <tr>\n",
       "      <th>3</th>\n",
       "      <td>2018-12-31</td>\n",
       "      <td>263228568</td>\n",
       "      <td>31239</td>\n",
       "      <td>134138.45</td>\n",
       "      <td>180308</td>\n",
       "      <td>150094.70</td>\n",
       "    </tr>\n",
       "    <tr>\n",
       "      <th>4</th>\n",
       "      <td>2019-12-31</td>\n",
       "      <td>258022202</td>\n",
       "      <td>22114</td>\n",
       "      <td>93670.10</td>\n",
       "      <td>117357</td>\n",
       "      <td>105546.95</td>\n",
       "    </tr>\n",
       "  </tbody>\n",
       "</table>\n",
       "</div>"
      ],
      "text/plain": [
       "  Order Date  Order Number  Quantity  Product Price  Total products  \\\n",
       "0 2015-12-31         85035        80         353.10             312   \n",
       "1 2016-12-31      34487972     13496       57205.25           78250   \n",
       "2 2017-12-31     126190039     26112      110157.85          142369   \n",
       "3 2018-12-31     263228568     31239      134138.45          180308   \n",
       "4 2019-12-31     258022202     22114       93670.10          117357   \n",
       "\n",
       "   Total Price  \n",
       "0       412.50  \n",
       "1     63978.80  \n",
       "2    126484.50  \n",
       "3    150094.70  \n",
       "4    105546.95  "
      ]
     },
     "execution_count": 12,
     "metadata": {},
     "output_type": "execute_result"
    }
   ],
   "source": [
    "grouper = pd.Grouper(key=\"Order Date\", freq=\"Y\")\n",
    "data.groupby(grouper).sum().reset_index()"
   ]
  },
  {
   "cell_type": "markdown",
   "id": "cf720685",
   "metadata": {},
   "source": [
    "观察发现2015年的数据并不完整，因此去除不作为分析的对象。"
   ]
  },
  {
   "cell_type": "code",
   "execution_count": 13,
   "id": "0180fe71",
   "metadata": {},
   "outputs": [],
   "source": [
    "data = data[data[\"Order Date\"].dt.year != 2015]"
   ]
  },
  {
   "cell_type": "markdown",
   "id": "f38b3d48",
   "metadata": {},
   "source": [
    "### 合并订单"
   ]
  },
  {
   "cell_type": "markdown",
   "id": "e2a7381c",
   "metadata": {},
   "source": [
    "由于相同的订单并不在同一行，因此需要合并这些订单，并计算出总销售额"
   ]
  },
  {
   "cell_type": "code",
   "execution_count": 14,
   "id": "e957b524",
   "metadata": {},
   "outputs": [],
   "source": [
    "data = data.sort_values(\"Order Number\")"
   ]
  },
  {
   "cell_type": "code",
   "execution_count": 15,
   "id": "2771d19f",
   "metadata": {},
   "outputs": [
    {
     "data": {
      "text/html": [
       "<div>\n",
       "<style scoped>\n",
       "    .dataframe tbody tr th:only-of-type {\n",
       "        vertical-align: middle;\n",
       "    }\n",
       "\n",
       "    .dataframe tbody tr th {\n",
       "        vertical-align: top;\n",
       "    }\n",
       "\n",
       "    .dataframe thead th {\n",
       "        text-align: right;\n",
       "    }\n",
       "</style>\n",
       "<table border=\"1\" class=\"dataframe\">\n",
       "  <thead>\n",
       "    <tr style=\"text-align: right;\">\n",
       "      <th></th>\n",
       "      <th>Order Number</th>\n",
       "      <th>Total Price</th>\n",
       "      <th>Quantity</th>\n",
       "      <th>Order Date</th>\n",
       "    </tr>\n",
       "  </thead>\n",
       "  <tbody>\n",
       "    <tr>\n",
       "      <th>0</th>\n",
       "      <td>1784</td>\n",
       "      <td>46.60</td>\n",
       "      <td>8</td>\n",
       "      <td>2016-07-03 11:18:00</td>\n",
       "    </tr>\n",
       "    <tr>\n",
       "      <th>1</th>\n",
       "      <td>1785</td>\n",
       "      <td>22.75</td>\n",
       "      <td>5</td>\n",
       "      <td>2016-07-03 16:59:00</td>\n",
       "    </tr>\n",
       "    <tr>\n",
       "      <th>2</th>\n",
       "      <td>1786</td>\n",
       "      <td>21.75</td>\n",
       "      <td>5</td>\n",
       "      <td>2016-07-03 17:04:00</td>\n",
       "    </tr>\n",
       "    <tr>\n",
       "      <th>3</th>\n",
       "      <td>1787</td>\n",
       "      <td>8.95</td>\n",
       "      <td>1</td>\n",
       "      <td>2016-07-03 17:09:00</td>\n",
       "    </tr>\n",
       "    <tr>\n",
       "      <th>4</th>\n",
       "      <td>1788</td>\n",
       "      <td>46.60</td>\n",
       "      <td>8</td>\n",
       "      <td>2016-08-03 11:45:00</td>\n",
       "    </tr>\n",
       "    <tr>\n",
       "      <th>...</th>\n",
       "      <td>...</td>\n",
       "      <td>...</td>\n",
       "      <td>...</td>\n",
       "      <td>...</td>\n",
       "    </tr>\n",
       "    <tr>\n",
       "      <th>13363</th>\n",
       "      <td>16114</td>\n",
       "      <td>17.85</td>\n",
       "      <td>3</td>\n",
       "      <td>2019-03-08 19:44:00</td>\n",
       "    </tr>\n",
       "    <tr>\n",
       "      <th>13364</th>\n",
       "      <td>16115</td>\n",
       "      <td>23.60</td>\n",
       "      <td>7</td>\n",
       "      <td>2019-03-08 20:01:00</td>\n",
       "    </tr>\n",
       "    <tr>\n",
       "      <th>13365</th>\n",
       "      <td>16116</td>\n",
       "      <td>33.75</td>\n",
       "      <td>5</td>\n",
       "      <td>2019-03-08 20:09:00</td>\n",
       "    </tr>\n",
       "    <tr>\n",
       "      <th>13366</th>\n",
       "      <td>16117</td>\n",
       "      <td>32.30</td>\n",
       "      <td>7</td>\n",
       "      <td>2019-03-08 20:17:00</td>\n",
       "    </tr>\n",
       "    <tr>\n",
       "      <th>13367</th>\n",
       "      <td>16118</td>\n",
       "      <td>30.90</td>\n",
       "      <td>7</td>\n",
       "      <td>2019-03-08 20:25:00</td>\n",
       "    </tr>\n",
       "  </tbody>\n",
       "</table>\n",
       "<p>13368 rows × 4 columns</p>\n",
       "</div>"
      ],
      "text/plain": [
       "       Order Number  Total Price  Quantity          Order Date\n",
       "0              1784        46.60         8 2016-07-03 11:18:00\n",
       "1              1785        22.75         5 2016-07-03 16:59:00\n",
       "2              1786        21.75         5 2016-07-03 17:04:00\n",
       "3              1787         8.95         1 2016-07-03 17:09:00\n",
       "4              1788        46.60         8 2016-08-03 11:45:00\n",
       "...             ...          ...       ...                 ...\n",
       "13363         16114        17.85         3 2019-03-08 19:44:00\n",
       "13364         16115        23.60         7 2019-03-08 20:01:00\n",
       "13365         16116        33.75         5 2019-03-08 20:09:00\n",
       "13366         16117        32.30         7 2019-03-08 20:17:00\n",
       "13367         16118        30.90         7 2019-03-08 20:25:00\n",
       "\n",
       "[13368 rows x 4 columns]"
      ]
     },
     "execution_count": 15,
     "metadata": {},
     "output_type": "execute_result"
    }
   ],
   "source": [
    "order_price = data.groupby(\"Order Number\")[[\"Total Price\",\n",
    "                                            \"Quantity\"]].sum().reset_index()\n",
    "temp_data = data.drop_duplicates(subset=[\"Order Number\"],\n",
    "                                 keep=\"first\").reset_index()\n",
    "order_price[\"Order Date\"] = temp_data[\"Order Date\"]\n",
    "order_price"
   ]
  },
  {
   "cell_type": "markdown",
   "id": "f89aae83",
   "metadata": {},
   "source": [
    "# 数据分析"
   ]
  },
  {
   "cell_type": "markdown",
   "id": "c59ac310",
   "metadata": {},
   "source": [
    "## 总的价格分布"
   ]
  },
  {
   "cell_type": "code",
   "execution_count": 16,
   "id": "46d52730",
   "metadata": {},
   "outputs": [
    {
     "data": {
      "text/plain": [
       "(0.5, 10.0]         250\n",
       "(10.0, 20.0]       2172\n",
       "(20.0, 30.0]       4240\n",
       "(30.0, 40.0]       3498\n",
       "(40.0, 50.0]       1645\n",
       "(50.0, 60.0]        777\n",
       "(60.0, 70.0]        334\n",
       "(70.0, 80.0]        172\n",
       "(80.0, 90.0]         89\n",
       "(90.0, 100.0]        60\n",
       "(100.0, 1242.0]     100\n",
       "Name: Total Price, dtype: int64"
      ]
     },
     "execution_count": 16,
     "metadata": {},
     "output_type": "execute_result"
    }
   ],
   "source": [
    "final_ = [order_price[\"Total Price\"].min()] + list(np.linspace(\n",
    "    10, 100, 10)) + [order_price[\"Total Price\"].max()]\n",
    "pd.cut(order_price[\"Total Price\"], bins=final_).value_counts().sort_index()"
   ]
  },
  {
   "cell_type": "markdown",
   "id": "be99aa94",
   "metadata": {},
   "source": [
    "可以看到价格基本上都在20-40之间，画图更能直观的感受到。"
   ]
  },
  {
   "cell_type": "code",
   "execution_count": 17,
   "id": "0ec63f3c",
   "metadata": {},
   "outputs": [
    {
     "data": {
      "image/png": "[encoded data removed]",
      "text/plain": [
       "<Figure size 432x288 with 1 Axes>"
      ]
     },
     "metadata": {},
     "output_type": "display_data"
    }
   ],
   "source": [
    "order_price[\"Total Price\"].plot(kind=\"density\", color=\"teal\")\n",
    "plt.xlabel(\"Total Price\")\n",
    "plt.xlim(-10, 85)\n",
    "plt.show()"
   ]
  },
  {
   "cell_type": "markdown",
   "id": "b0990087",
   "metadata": {},
   "source": [
    "## 计算每个订单的平均价格"
   ]
  },
  {
   "cell_type": "code",
   "execution_count": 18,
   "id": "fa4f0a42",
   "metadata": {},
   "outputs": [
    {
     "name": "stdout",
     "output_type": "stream",
     "text": [
      "每个订单的平均价格为： 33.371106373428844\n"
     ]
    }
   ],
   "source": [
    "print(\"每个订单的平均价格为：\", order_price[\"Total Price\"].mean())"
   ]
  },
  {
   "cell_type": "markdown",
   "id": "b72a9e0f",
   "metadata": {},
   "source": [
    "## 年度销售额曲线"
   ]
  },
  {
   "cell_type": "code",
   "execution_count": 41,
   "id": "fae49d14",
   "metadata": {},
   "outputs": [
    {
     "data": {
      "image/png": "[encoded data removed]",
      "text/plain": [
       "<Figure size 720x432 with 1 Axes>"
      ]
     },
     "metadata": {},
     "output_type": "display_data"
    }
   ],
   "source": [
    "grouper = pd.Grouper(key=\"Order Date\", freq=\"Y\")\n",
    "Year_Total_Price = data.groupby(grouper).sum().reset_index()\n",
    "plt.figure(figsize=(10, 6))\n",
    "plt.plot(Year_Total_Price[\"Order Date\"],\n",
    "         Year_Total_Price[\"Total Price\"],\n",
    "         label=\"Year_TotalPrice_Curve\")\n",
    "plt.xlabel(\"Year\")\n",
    "plt.ylabel(\"Total Price\")\n",
    "plt.legend()\n",
    "plt.show()\n"
   ]
  },
  {
   "cell_type": "markdown",
   "id": "c4b07ead",
   "metadata": {},
   "source": [
    "可见销售额在2016-2019年都是稳步增长，但在2019年末下降。"
   ]
  },
  {
   "cell_type": "markdown",
   "id": "b56d3afe",
   "metadata": {},
   "source": [
    "## 对比销量前五的产品在不同年的销量"
   ]
  },
  {
   "cell_type": "code",
   "execution_count": 20,
   "id": "92509929",
   "metadata": {},
   "outputs": [
    {
     "data": {
      "image/png": "[encoded data removed]",
      "text/plain": [
       "<Figure size 432x288 with 1 Axes>"
      ]
     },
     "metadata": {},
     "output_type": "display_data"
    }
   ],
   "source": [
    "condition = data[\"Item Name\"].value_counts()[:5].index\n",
    "df = data[data[\"Item Name\"].apply(lambda x: x in condition)]\n",
    "df[\"Order Date\"] = df[\"Order Date\"].dt.year\n",
    "sns.countplot(data=df, x=\"Item Name\", hue=\"Order Date\")\n",
    "plt.show()"
   ]
  },
  {
   "cell_type": "markdown",
   "id": "f33273c7",
   "metadata": {},
   "source": [
    "可以看出销量基本上在2018年达到了巅峰。Pilau Rice的销量一直最高，这也看出来了吃饭主食是必需品"
   ]
  },
  {
   "cell_type": "markdown",
   "id": "b095a3c6",
   "metadata": {},
   "source": [
    "## 自定义可视化"
   ]
  },
  {
   "cell_type": "code",
   "execution_count": 44,
   "id": "c25dd490",
   "metadata": {},
   "outputs": [
    {
     "data": {
      "image/png": "[encoded data removed]",
      "text/plain": [
       "<Figure size 1008x504 with 1 Axes>"
      ]
     },
     "metadata": {},
     "output_type": "display_data"
    }
   ],
   "source": [
    "def show_data_by_condition(df: pd.DataFrame, title: str, colname: str=\"Total Price\", method: str=\"sum\"):\n",
    "    \"\"\"[summary]\n",
    "\n",
    "    Args:\n",
    "        df ([type]): [dataframe]\n",
    "        title (str): [the title of graph]\n",
    "        colname (str, optional): [the column name]. Defaults to \"Total Price\".\n",
    "        method (str, optional): [the function]. Defaults to \"sum\".\n",
    "    \"\"\"\n",
    "    def transform(df: pd.DataFrame):\n",
    "        return df.groupby(\"Order Date\")[colname].agg(method)\n",
    "\n",
    "    res = df.groupby(\"Item Name\").apply(transform)\n",
    "    width = 0.1\n",
    "    plt.figure(figsize=(14, 7))\n",
    "    for index, column_name in enumerate(res):\n",
    "        plt.bar(np.arange((len(res.index))) + index * width,\n",
    "                res[column_name],\n",
    "                width=width,\n",
    "                label=str(column_name) + \" \" + colname + \"  change\")\n",
    "    plt.xticks(\n",
    "        np.arange((len(res.index))) + (width * (len(res.columns) - 1)) / 2,\n",
    "        res.index)\n",
    "    plt.title(title)\n",
    "    plt.xlabel(\"Year\")\n",
    "    plt.ylabel(title)\n",
    "    plt.legend()\n",
    "    plt.show()\n",
    "\n",
    "\n",
    "# 对比Total Price的变化\n",
    "show_data_by_condition(df, \"Total Price\")"
   ]
  },
  {
   "cell_type": "code",
   "execution_count": 22,
   "id": "4a45a064",
   "metadata": {},
   "outputs": [
    {
     "data": {
      "image/png": "[encoded data removed]",
      "text/plain": [
       "<Figure size 1008x504 with 1 Axes>"
      ]
     },
     "metadata": {},
     "output_type": "display_data"
    }
   ],
   "source": [
    "# 总卖出去的产品总数的变化\n",
    "show_data_by_condition(df,\n",
    "                       \"Total Products\",\n",
    "                       colname=\"Total products\",\n",
    "                       method=\"sum\")"
   ]
  },
  {
   "cell_type": "markdown",
   "id": "f114fd99",
   "metadata": {},
   "source": [
    "## 顾客一般都在什么时候下单？"
   ]
  },
  {
   "cell_type": "code",
   "execution_count": 23,
   "id": "8656ffc0",
   "metadata": {},
   "outputs": [
    {
     "data": {
      "image/png": "[encoded data removed]",
      "text/plain": [
       "<Figure size 432x288 with 1 Axes>"
      ]
     },
     "metadata": {},
     "output_type": "display_data"
    }
   ],
   "source": [
    "counts = order_price[\"Order Date\"].dt.hour.value_counts()[:5]\n",
    "plt.bar(counts.index, counts)\n",
    "plt.xlabel(\"Time\")\n",
    "plt.ylabel(\"Counts\")\n",
    "plt.show()"
   ]
  },
  {
   "cell_type": "code",
   "execution_count": 24,
   "id": "5ebf60df",
   "metadata": {},
   "outputs": [
    {
     "data": {
      "text/plain": [
       "18.156343506882106"
      ]
     },
     "execution_count": 24,
     "metadata": {},
     "output_type": "execute_result"
    }
   ],
   "source": [
    "order_price[\"Order Date\"].dt.hour.mean()  # 下单时间的平均值"
   ]
  },
  {
   "cell_type": "markdown",
   "id": "22e360da",
   "metadata": {},
   "source": [
    "可见顾客一般都是在下午六点左右下单，说明这家饭店一定不是一个早餐店。"
   ]
  },
  {
   "cell_type": "code",
   "execution_count": 25,
   "id": "be05e53e",
   "metadata": {},
   "outputs": [
    {
     "data": {
      "image/png": "[encoded data removed]",
      "text/plain": [
       "<Figure size 432x288 with 1 Axes>"
      ]
     },
     "metadata": {},
     "output_type": "display_data"
    }
   ],
   "source": [
    "plt.pie(x=counts, labels=counts.index, shadow=True)\n",
    "plt.show()"
   ]
  },
  {
   "cell_type": "markdown",
   "id": "7cbd4b07",
   "metadata": {},
   "source": [
    "用饼图可以看的更加直观"
   ]
  },
  {
   "cell_type": "markdown",
   "id": "dfa5dba5",
   "metadata": {},
   "source": [
    "## 下单的总价和时间有没有关系？"
   ]
  },
  {
   "cell_type": "code",
   "execution_count": 42,
   "id": "88d1ff41",
   "metadata": {},
   "outputs": [
    {
     "data": {
      "image/png": "[encoded data removed]",
      "text/plain": [
       "<Figure size 432x288 with 1 Axes>"
      ]
     },
     "metadata": {},
     "output_type": "display_data"
    }
   ],
   "source": [
    "temp_order_data = order_price.copy()\n",
    "temp_order_data[\"Order Date\"] = order_price[\"Order Date\"].dt.hour\n",
    "plt.scatter(temp_order_data[\"Order Date\"][:50], temp_order_data[\"Total Price\"][:50],s= temp_order_data[\"Total Price\"][:50]*50, alpha=0.5, c=\"red\")\n",
    "plt.xlabel(\"Time\")\n",
    "plt.ylabel(\"Total Price\")\n",
    "plt.show()"
   ]
  },
  {
   "cell_type": "markdown",
   "id": "64ad64d1",
   "metadata": {},
   "source": [
    "可见订单总价与下单时间没有太大关系，基本上吃饭花的钱都是差不多的"
   ]
  },
  {
   "cell_type": "markdown",
   "id": "3d954b83",
   "metadata": {},
   "source": [
    "## 前五数量的产品的总产量"
   ]
  },
  {
   "cell_type": "code",
   "execution_count": 27,
   "id": "4c8f459f",
   "metadata": {},
   "outputs": [
    {
     "data": {
      "image/png": "[encoded data removed]",
      "text/plain": [
       "<Figure size 432x288 with 1 Axes>"
      ]
     },
     "metadata": {},
     "output_type": "display_data"
    }
   ],
   "source": [
    "Ttpro = df.groupby(\"Item Name\")[\"Total products\"].sum()\n",
    "Ttcout = df[\"Item Name\"].value_counts()\n",
    "plt.barh(y=Ttpro.index, width=Ttpro)\n",
    "plt.show()"
   ]
  },
  {
   "cell_type": "markdown",
   "id": "f33dea15",
   "metadata": {},
   "source": [
    "果然卖的越多总产量越多"
   ]
  },
  {
   "cell_type": "markdown",
   "id": "9d322d57",
   "metadata": {},
   "source": [
    "## 看看产品数量和总价格有无关系"
   ]
  },
  {
   "cell_type": "code",
   "execution_count": 28,
   "id": "19652687",
   "metadata": {},
   "outputs": [
    {
     "data": {
      "image/png": "[encoded data removed]",
      "text/plain": [
       "<Figure size 432x288 with 1 Axes>"
      ]
     },
     "metadata": {},
     "output_type": "display_data"
    }
   ],
   "source": [
    "sns.regplot(data=order_price, x=\"Quantity\", y=\"Total Price\")\n",
    "plt.show()"
   ]
  },
  {
   "cell_type": "markdown",
   "id": "135b6748",
   "metadata": {},
   "source": [
    "可以看到产品价格与总价格呈现线性关系，等会可以做简单的预测"
   ]
  },
  {
   "cell_type": "markdown",
   "id": "cb64eceb",
   "metadata": {},
   "source": [
    "# 简单的预测"
   ]
  },
  {
   "cell_type": "markdown",
   "id": "c73c235a",
   "metadata": {},
   "source": [
    "## 线性回归模型预测"
   ]
  },
  {
   "cell_type": "code",
   "execution_count": 29,
   "id": "8ddafb0c",
   "metadata": {},
   "outputs": [
    {
     "data": {
      "text/plain": [
       "0.6430517673102916"
      ]
     },
     "execution_count": 29,
     "metadata": {},
     "output_type": "execute_result"
    }
   ],
   "source": [
    "from sklearn.model_selection import train_test_split, learning_curve\n",
    "from sklearn.linear_model import LinearRegression\n",
    "\n",
    "X = order_price[\"Quantity\"].tolist()\n",
    "X = np.array(X).reshape(-1, 1)\n",
    "y = order_price[\"Total Price\"]\n",
    "X_train, X_test, y_train, y_test = train_test_split(X,\n",
    "                                                    y,\n",
    "                                                    test_size=0.3,\n",
    "                                                    random_state=0)\n",
    "model = LinearRegression()\n",
    "model = model.fit(X_train, y_train)\n",
    "model.score(X_test, y_test)"
   ]
  },
  {
   "cell_type": "markdown",
   "id": "2daed612",
   "metadata": {},
   "source": [
    "可见准确度有0.6，还是不错的"
   ]
  },
  {
   "cell_type": "markdown",
   "id": "95f3dab0",
   "metadata": {},
   "source": [
    "## 绘制学习曲线"
   ]
  },
  {
   "cell_type": "code",
   "execution_count": 43,
   "id": "ef75fe14",
   "metadata": {},
   "outputs": [
    {
     "data": {
      "image/png": "[encoded data removed]",
      "text/plain": [
       "<Figure size 432x288 with 1 Axes>"
      ]
     },
     "metadata": {},
     "output_type": "display_data"
    }
   ],
   "source": [
    "train_sizes, train_loss, test_loss = learning_curve(\n",
    "    LinearRegression(), X, y, train_sizes=[0.1, 0.25, 0.5, 0.75, 1])\n",
    "train_mean = np.mean(train_loss, axis=1)\n",
    "test_mean = np.mean(test_loss, axis=1)\n",
    "plt.plot(train_sizes, train_mean, label=\"Training\")\n",
    "plt.plot(train_sizes, test_mean, label=\"Cross-validation\")\n",
    "plt.xlabel(\"Training sizes\")\n",
    "plt.ylabel(\"score\")\n",
    "plt.legend()\n",
    "plt.show()"
   ]
  },
  {
   "cell_type": "markdown",
   "id": "d210ef69",
   "metadata": {},
   "source": [
    "可能是数据量太小的原因，效果不太理想"
   ]
  }
 ],
 "metadata": {
  "kernelspec": {
   "display_name": "Python 3 (ipykernel)",
   "language": "python",
   "name": "python3"
  },
  "language_info": {
   "codemirror_mode": {
    "name": "ipython",
    "version": 3
   },
   "file_extension": ".py",
   "mimetype": "text/x-python",
   "name": "python",
   "nbconvert_exporter": "python",
   "pygments_lexer": "ipython3",
   "version": "3.9.7"
  },
  "latex_envs": {
   "LaTeX_envs_menu_present": true,
   "autoclose": false,
   "autocomplete": true,
   "bibliofile": "biblio.bib",
   "cite_by": "apalike",
   "current_citInitial": 1,
   "eqLabelWithNumbers": true,
   "eqNumInitial": 1,
   "hotkeys": {
    "equation": "Ctrl-E",
    "itemize": "Ctrl-I"
   },
   "labels_anchors": false,
   "latex_user_defs": false,
   "report_style_numbering": false,
   "user_envs_cfg": false
  },
  "toc": {
   "base_numbering": 1,
   "nav_menu": {},
   "number_sections": true,
   "sideBar": true,
   "skip_h1_title": false,
   "title_cell": "Table of Contents",
   "title_sidebar": "Contents",
   "toc_cell": false,
   "toc_position": {
    "height": "calc(100% - 180px)",
    "left": "10px",
    "top": "150px",
    "width": "245.76px"
   },
   "toc_section_display": true,
   "toc_window_display": true
  }
 },
 "nbformat": 4,
 "nbformat_minor": 5
}
