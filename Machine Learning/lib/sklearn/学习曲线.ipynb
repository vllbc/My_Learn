{
 "cells": [
  {
   "cell_type": "code",
   "execution_count": 15,
   "metadata": {},
   "outputs": [],
   "source": [
    "from sklearn.model_selection import train_test_split,learning_curve\n",
    "import numpy as np\n",
    "from sklearn.svm import SVC\n",
    "from sklearn.datasets import load_digits\n",
    "import matplotlib.pyplot as plt"
   ]
  },
  {
   "cell_type": "code",
   "execution_count": 27,
   "metadata": {},
   "outputs": [],
   "source": [
    "digits = load_digits()\n",
    "X = digits.data\n",
    "Y = digits.target"
   ]
  },
  {
   "cell_type": "code",
   "execution_count": 28,
   "metadata": {},
   "outputs": [],
   "source": [
    "train_sizes,train_loss,test_loss = learning_curve(SVC(gamma=0.001),X,Y,cv=10,\n",
    "                                                 scoring='neg_mean_squared_error',\n",
    "                                                train_sizes=[0.1,0.25,0.5,0.75,1])"
   ]
  },
  {
   "cell_type": "code",
   "execution_count": 8,
   "metadata": {},
   "outputs": [
    {
     "data": {
      "text/plain": [
       "array([ 161,  404,  808, 1212, 1617])"
      ]
     },
     "execution_count": 8,
     "metadata": {},
     "output_type": "execute_result"
    }
   ],
   "source": [
    "train_sizes"
   ]
  },
  {
   "cell_type": "code",
   "execution_count": 29,
   "metadata": {},
   "outputs": [
    {
     "data": {
      "text/plain": [
       "array([[-0.        , -0.09937888, -0.09937888, -0.09937888, -0.09937888,\n",
       "        -0.09937888, -0.09937888, -0.09937888, -0.09937888, -0.09937888],\n",
       "       [-0.        , -0.03960396, -0.03960396, -0.03960396, -0.03960396,\n",
       "        -0.03960396, -0.03960396, -0.03960396, -0.03960396, -0.03960396],\n",
       "       [-0.        , -0.01980198, -0.01980198, -0.06435644, -0.01980198,\n",
       "        -0.01980198, -0.01980198, -0.01980198, -0.01980198, -0.01980198],\n",
       "       [-0.        , -0.01650165, -0.01320132, -0.01320132, -0.01320132,\n",
       "        -0.01320132, -0.01320132, -0.01320132, -0.01320132, -0.01320132],\n",
       "       [-0.02226345, -0.03215832, -0.00989487, -0.03215832, -0.03215832,\n",
       "        -0.03215832, -0.03215832, -0.03215832, -0.03215832, -0.00989487]])"
      ]
     },
     "execution_count": 29,
     "metadata": {},
     "output_type": "execute_result"
    }
   ],
   "source": [
    "train_loss"
   ]
  },
  {
   "cell_type": "code",
   "execution_count": 20,
   "metadata": {},
   "outputs": [
    {
     "data": {
      "text/plain": [
       "array([[-1.26666667e+00, -1.43333333e+00, -3.96666667e+00,\n",
       "        -9.73888889e+00, -6.95000000e+00, -5.24444444e+00,\n",
       "        -3.02777778e+00, -5.25139665e+00, -3.48044693e+00,\n",
       "        -4.85474860e+00],\n",
       "       [-1.81111111e+00, -1.13333333e+00, -1.35555556e+00,\n",
       "        -3.06666667e+00, -2.08333333e+00, -2.85000000e+00,\n",
       "        -8.38888889e-01, -1.94413408e+00, -5.41899441e-01,\n",
       "        -1.35195531e+00],\n",
       "       [-1.71111111e+00, -3.61111111e-01, -5.11111111e-01,\n",
       "        -9.61111111e-01, -6.16666667e-01, -5.88888889e-01,\n",
       "        -1.22222222e-01, -9.16201117e-01, -7.76536313e-01,\n",
       "        -1.14525140e+00],\n",
       "       [-1.22222222e+00, -3.61111111e-01, -4.44444444e-01,\n",
       "        -7.00000000e-01, -5.55555556e-01, -2.66666667e-01,\n",
       "        -8.88888889e-02, -1.11731844e-02, -9.21787709e-01,\n",
       "        -8.43575419e-01],\n",
       "       [-9.33333333e-01, -0.00000000e+00, -2.66666667e-01,\n",
       "        -2.83333333e-01, -2.77777778e-01, -3.61111111e-01,\n",
       "        -8.88888889e-02, -5.58659218e-03, -9.21787709e-01,\n",
       "        -4.18994413e-01]])"
      ]
     },
     "execution_count": 20,
     "metadata": {},
     "output_type": "execute_result"
    }
   ],
   "source": [
    "test_loss"
   ]
  },
  {
   "cell_type": "code",
   "execution_count": 21,
   "metadata": {},
   "outputs": [],
   "source": [
    "train_mean = -np.mean(train_loss,axis=1)\n",
    "test_mean = -np.mean(test_loss,axis=1)"
   ]
  },
  {
   "cell_type": "code",
   "execution_count": 22,
   "metadata": {},
   "outputs": [
    {
     "data": {
      "text/plain": [
       "array([0.08944099, 0.03564356, 0.02227723, 0.01221122, 0.02671614])"
      ]
     },
     "execution_count": 22,
     "metadata": {},
     "output_type": "execute_result"
    }
   ],
   "source": [
    "train_mean"
   ]
  },
  {
   "cell_type": "code",
   "execution_count": 23,
   "metadata": {},
   "outputs": [
    {
     "data": {
      "image/png": "[encoded data removed]",
      "text/plain": [
       "<Figure size 432x288 with 1 Axes>"
      ]
     },
     "metadata": {
      "needs_background": "light"
     },
     "output_type": "display_data"
    }
   ],
   "source": [
    "plt.plot(train_sizes,train_mean,label=\"Training\")\n",
    "plt.plot(train_sizes,test_mean,label=\"Cross-validation\")\n",
    "plt.legend()\n",
    "plt.show()"
   ]
  },
  {
   "cell_type": "code",
   "execution_count": null,
   "metadata": {},
   "outputs": [],
   "source": []
  }
 ],
 "metadata": {
  "kernelspec": {
   "display_name": "Python 3 (ipykernel)",
   "language": "python",
   "name": "python3"
  },
  "language_info": {
   "codemirror_mode": {
    "name": "ipython",
    "version": 3
   },
   "file_extension": ".py",
   "mimetype": "text/x-python",
   "name": "python",
   "nbconvert_exporter": "python",
   "pygments_lexer": "ipython3",
   "version": "3.9.7"
  },
  "latex_envs": {
   "LaTeX_envs_menu_present": true,
   "autoclose": false,
   "autocomplete": true,
   "bibliofile": "biblio.bib",
   "cite_by": "apalike",
   "current_citInitial": 1,
   "eqLabelWithNumbers": true,
   "eqNumInitial": 1,
   "hotkeys": {
    "equation": "Ctrl-E",
    "itemize": "Ctrl-I"
   },
   "labels_anchors": false,
   "latex_user_defs": false,
   "report_style_numbering": false,
   "user_envs_cfg": false
  },
  "toc": {
   "base_numbering": 1,
   "nav_menu": {},
   "number_sections": true,
   "sideBar": true,
   "skip_h1_title": false,
   "title_cell": "Table of Contents",
   "title_sidebar": "Contents",
   "toc_cell": false,
   "toc_position": {},
   "toc_section_display": true,
   "toc_window_display": false
  }
 },
 "nbformat": 4,
 "nbformat_minor": 2
}
