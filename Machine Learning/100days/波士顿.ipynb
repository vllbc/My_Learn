{
 "cells": [
  {
   "cell_type": "code",
   "execution_count": 18,
   "metadata": {},
   "outputs": [],
   "source": [
    "import numpy as np\n",
    "from sklearn import datasets\n",
    "import plotly.graph_objects as go"
   ]
  },
  {
   "cell_type": "code",
   "execution_count": 19,
   "metadata": {},
   "outputs": [],
   "source": [
    "data = datasets.load_boston()\n",
    "X = data.data\n",
    "Y = data.target\n",
    "from sklearn.model_selection import train_test_split\n",
    "X_train,X_test,y_train,y_test = train_test_split(X,Y,test_size=0.3)"
   ]
  },
  {
   "cell_type": "code",
   "execution_count": 26,
   "metadata": {},
   "outputs": [
    {
     "data": {
      "text/plain": [
       "(354, 13)"
      ]
     },
     "execution_count": 26,
     "metadata": {},
     "output_type": "execute_result"
    }
   ],
   "source": [
    "from sklearn.linear_model import LinearRegression\n",
    "lin = LinearRegression()\n",
    "lin.fit(X_train,y_train)"
   ]
  },
  {
   "cell_type": "code",
   "execution_count": 21,
   "metadata": {},
   "outputs": [
    {
     "data": {
      "text/plain": [
       "array([16.80167981, 28.83320411, 24.93679603, 15.70678574, 18.79503634,\n",
       "       24.3255726 , 37.18718019, 32.73354874, 13.63824186, 26.11557348,\n",
       "       24.06066038, 42.11783059, 24.73606136,  6.14572363, 21.0825309 ,\n",
       "       21.4709724 , 24.2354628 , 27.15552346, 43.09791869, 24.24346519,\n",
       "       18.40492613, 18.74439433, 32.43280841, 12.11046641, 28.40376396,\n",
       "       21.33720973, 14.72128031, 35.60807068, 19.27928024, 23.08571458,\n",
       "       23.06832432, 17.09152441, 18.32991809, 24.41116972, 23.3808659 ,\n",
       "       21.43196812, 16.67059019, 27.90641624, 14.96792458, 38.88045077,\n",
       "       10.55153144, 21.38302864, 21.06262026, 24.93367866, 31.84173081,\n",
       "       26.84017738, 12.85736375, 18.44806344, 24.49348672, 22.37424673,\n",
       "       16.96984092, 28.262968  , 24.41511831, 34.12257357, 20.29318479,\n",
       "       21.93839188, 33.47427715, 40.39117226,  9.37874648, 16.81575795,\n",
       "       23.48429909, 38.19614084, 18.69148021, 34.23326661, 23.90560096,\n",
       "       16.70184998, 19.48389455, 16.42227973, 17.47492076, 24.52552056,\n",
       "       42.36758729, 20.25563631, 36.65162105, 17.21601429, 24.14545019,\n",
       "       23.82575992, 31.88684389, 24.81059277, 28.28066179, 39.81222797,\n",
       "       24.67143719, 23.94352755, 25.28961821, 13.64588204, 23.50026704,\n",
       "       15.52488312, 25.75223285, 18.18178644, 27.40548682,  8.45183933,\n",
       "       30.37783342, 17.95760398, 14.3907336 , 12.97288731, 30.00736257,\n",
       "       27.11513562, 22.93414348, 10.47791404, 22.93568247, 35.27406381,\n",
       "       18.50257925, 18.47070555, 25.52780559, 27.79687197, 15.90389866,\n",
       "       22.46105354, 28.28620384, 26.75920406, 21.65859307, 24.9105122 ,\n",
       "       22.52387575, 14.02999013, 33.11710684, 24.83314878, 41.27579898,\n",
       "       17.60453854, 35.33056381,  7.59496006, 21.40193575, 25.3152718 ,\n",
       "       35.136687  , 22.23751743, 24.60966673, 18.72491184, 23.38420398,\n",
       "       27.82904475, 26.29473781, 18.41456366, 20.02698747, 20.35450248,\n",
       "       14.78386961, 17.74685813, 17.483328  , 24.15006362, 27.55686413,\n",
       "       25.00013016, 12.61364893, 24.71327589, 26.9389263 , 34.7863395 ,\n",
       "       19.32941458, 29.83455665, 17.42974153, 25.18458591, 21.59381822,\n",
       "       30.08658405, 17.38723203, 26.95974296, 24.95477138, 13.01845384,\n",
       "       25.18609166, 19.95679877])"
      ]
     },
     "execution_count": 21,
     "metadata": {},
     "output_type": "execute_result"
    }
   ],
   "source": [
    "y_pre = lin.predict(X_test)\n",
    "y_pre"
   ]
  },
  {
   "cell_type": "code",
   "execution_count": 28,
   "metadata": {},
   "outputs": [
    {
     "name": "stdout",
     "output_type": "stream",
     "text": [
      "[-1.09925086e-01  3.89653456e-02  6.55825097e-02  1.73967264e+00\n",
      " -2.12765931e+01  3.88205689e+00 -9.19793639e-03 -1.47958922e+00\n",
      "  2.96050241e-01 -1.20351071e-02 -1.00711457e+00  9.53310497e-03\n",
      " -4.26653277e-01]\n"
     ]
    }
   ],
   "source": [
    "print(lin.coef_) #13个特征"
   ]
  },
  {
   "cell_type": "code",
   "execution_count": 29,
   "metadata": {},
   "outputs": [
    {
     "name": "stdout",
     "output_type": "stream",
     "text": [
      "37.84487834617181\n"
     ]
    }
   ],
   "source": [
    "print(lin.intercept_)"
   ]
  },
  {
   "cell_type": "code",
   "execution_count": 30,
   "metadata": {},
   "outputs": [
    {
     "data": {
      "text/plain": [
       "0.7355106809915564"
      ]
     },
     "execution_count": 30,
     "metadata": {},
     "output_type": "execute_result"
    }
   ],
   "source": [
    "lin.score(X,Y)"
   ]
  },
  {
   "cell_type": "code",
   "execution_count": null,
   "metadata": {},
   "outputs": [],
   "source": []
  }
 ],
 "metadata": {
  "kernelspec": {
   "display_name": "Python 3",
   "language": "python",
   "name": "python3"
  },
  "language_info": {
   "codemirror_mode": {
    "name": "ipython",
    "version": 3
   },
   "file_extension": ".py",
   "mimetype": "text/x-python",
   "name": "python",
   "nbconvert_exporter": "python",
   "pygments_lexer": "ipython3",
   "version": "3.6.4"
  }
 },
 "nbformat": 4,
 "nbformat_minor": 2
}
