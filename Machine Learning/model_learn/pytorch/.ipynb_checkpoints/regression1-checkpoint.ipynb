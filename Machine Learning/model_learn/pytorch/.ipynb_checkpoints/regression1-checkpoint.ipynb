{
 "cells": [
  {
   "cell_type": "code",
   "execution_count": 1,
   "metadata": {},
   "outputs": [],
   "source": [
    "import torch\n",
    "import numpy as np\n",
    "import pandas as pd\n",
    "import plotly.graph_objects as go\n",
    "import torch.nn\n",
    "import torch.nn.functional as F\n",
    "from torch.autograd import Variable"
   ]
  },
  {
   "cell_type": "code",
   "execution_count": 2,
   "metadata": {},
   "outputs": [],
   "source": [
    "x = torch.unsqueeze(torch.linspace(-10,10,100),dim=1)\n",
    "y = x*2+10+torch.rand(x.size())\n",
    "# scatter = go.Scatter(x = torch.squeeze(x),y = torch.squeeze(y),mode = 'markers')\n",
    "# fig = go.Figure(scatter)\n",
    "# fig.show()"
   ]
  },
  {
   "cell_type": "code",
   "execution_count": 3,
   "metadata": {},
   "outputs": [
    {
     "data": {
      "text/plain": [
       "Net(\n",
       "  (hidden): Linear(in_features=1, out_features=10, bias=True)\n",
       "  (linser): Linear(in_features=10, out_features=1, bias=True)\n",
       ")"
      ]
     },
     "execution_count": 3,
     "metadata": {},
     "output_type": "execute_result"
    }
   ],
   "source": [
    "class Net(torch.nn.Module):\n",
    "    def __init__(self):\n",
    "        super(Net,self).__init__()\n",
    "        self.hidden = torch.nn.Linear(1,10)\n",
    "        self.linser = torch.nn.Linear(10,1)\n",
    "    def forward(self,x):\n",
    "        x = F.relu(self.hidden(x))\n",
    "        out = self.linser(x)\n",
    "        return out\n",
    "x = Variable(x)\n",
    "y = Variable(y)\n",
    "net = Net()\n",
    "net\n"
   ]
  },
  {
   "cell_type": "code",
   "execution_count": 4,
   "metadata": {},
   "outputs": [
    {
     "data": {
      "text/plain": [
       "<generator object Module.parameters at 0x000001DCE4384570>"
      ]
     },
     "execution_count": 4,
     "metadata": {},
     "output_type": "execute_result"
    }
   ],
   "source": [
    "net.parameters()"
   ]
  },
  {
   "cell_type": "code",
   "execution_count": 5,
   "metadata": {},
   "outputs": [
    {
     "name": "stdout",
     "output_type": "stream",
     "text": [
      "MSELoss() SGD (\n",
      "Parameter Group 0\n",
      "    dampening: 0\n",
      "    lr: 0.01\n",
      "    momentum: 0\n",
      "    nesterov: False\n",
      "    weight_decay: 0\n",
      ")\n"
     ]
    }
   ],
   "source": [
    "loss_fun = torch.nn.MSELoss()\n",
    "optim = torch.optim.SGD(net.parameters(),lr=1e-2)\n",
    "print(loss_fun,optim)"
   ]
  },
  {
   "cell_type": "code",
   "execution_count": 6,
   "metadata": {},
   "outputs": [],
   "source": [
    "# predict = net(x)\n",
    "# print(predict[0])\n",
    "# print(x)\n",
    "# scatter1 = go.Scatter(x=x.squeeze(1).data.numpy(),y=y.squeeze(1).data.numpy(),mode='markers')\n",
    "# scatter2 = go.Scatter(x=x.squeeze(1).data.numpy(),y=predict.squeeze(1).data.numpy(),mode='lines')\n",
    "# fig = go.Figure([scatter1,scatter2])\n",
    "# fig.update_layout(title=f'损失率为{loss.item()}')\n",
    "# fig.show()"
   ]
  },
  {
   "cell_type": "code",
   "execution_count": 7,
   "metadata": {},
   "outputs": [
    {
     "name": "stdout",
     "output_type": "stream",
     "text": [
      "损失率为237.3235\n",
      "损失率为18.0279\n",
      "损失率为12.1344\n",
      "损失率为8.4456\n",
      "损失率为6.4861\n",
      "损失率为5.1898\n",
      "损失率为4.2126\n",
      "损失率为3.4631\n",
      "损失率为2.8457\n",
      "损失率为2.3588\n",
      "损失率为1.8926\n",
      "损失率为1.5829\n",
      "损失率为1.3023\n",
      "损失率为1.0384\n",
      "损失率为0.9485\n",
      "损失率为0.8678\n",
      "损失率为0.7937\n",
      "损失率为0.6795\n",
      "损失率为0.5726\n",
      "损失率为0.5546\n"
     ]
    }
   ],
   "source": [
    "for i in range(1000):\n",
    "    predict = net(x)\n",
    "    loss = loss_fun(predict,y)\n",
    "    optim.zero_grad()\n",
    "    loss.backward()\n",
    "    optim.step()\n",
    "    if i%50 == 0:\n",
    "        print(f\"损失率为{loss.item():.4f}\")\n",
    "#         scatter1 = go.Scatter(x=x.squeeze(1).data.numpy(),y=y.squeeze(1).data.numpy(),mode='markers')\n",
    "#         scatter2 = go.Scatter(x=x.squeeze(1).data.numpy(),y=predict.squeeze(1).data.numpy(),mode='lines')\n",
    "#         fig = go.Figure([scatter1,scatter2])\n",
    "#         fig.update_layout(title=f'损失率为{loss.item()}')\n",
    "#         fig.show()\n",
    "    \n",
    "    "
   ]
  },
  {
   "cell_type": "code",
   "execution_count": 8,
   "metadata": {},
   "outputs": [
    {
     "data": {
      "text/plain": [
       "tensor([[21.3448]], grad_fn=<AddmmBackward>)"
      ]
     },
     "execution_count": 8,
     "metadata": {},
     "output_type": "execute_result"
    }
   ],
   "source": [
    "arrays = torch.Tensor([5]).unsqueeze(1)\n",
    "net(arrays)"
   ]
  }
 ],
 "metadata": {
  "kernelspec": {
   "display_name": "Python 3",
   "language": "python",
   "name": "python3"
  },
  "language_info": {
   "codemirror_mode": {
    "name": "ipython",
    "version": 3
   },
   "file_extension": ".py",
   "mimetype": "text/x-python",
   "name": "python",
   "nbconvert_exporter": "python",
   "pygments_lexer": "ipython3",
   "version": "3.6.4"
  }
 },
 "nbformat": 4,
 "nbformat_minor": 2
}
