{
 "cells": [
  {
   "cell_type": "code",
   "execution_count": null,
   "metadata": {},
   "outputs": [],
   "source": [
    "import random\n",
    "random.random()#随机生成0-1随机浮点数\n",
    "n = 1\n",
    "m = 1000\n",
    "random.randint(n,m) #生成n到m的随机一个数\n",
    "random.uniform(1.1,5.4) #生成1.1-5.4中间一个浮点数\n",
    "random.choice(['石头','剪刀','布']) #从序列中随机选一个\n",
    "random.shuffle([1,23,14,13,1321,123]) #打乱序列\n",
    "random.sample('abcde12345ABCDE',5) #从序列中随机选5个"
   ]
  },
  {
   "cell_type": "code",
   "execution_count": 7,
   "metadata": {},
   "outputs": [
    {
     "data": {
      "text/plain": [
       "'2020-12-10'"
      ]
     },
     "execution_count": 7,
     "metadata": {},
     "output_type": "execute_result"
    }
   ],
   "source": [
    "import datetime\n",
    "datetime.date.today() #今天日期，格式为YY-MM-DD\n",
    "d = datetime.date(2020,12,10) #生成一个日期对象 d.year d.month d.day获取年月日\n",
    "d.__format__(\"%Y-%m-%d\")"
   ]
  },
  {
   "cell_type": "code",
   "execution_count": 8,
   "metadata": {},
   "outputs": [
    {
     "name": "stdout",
     "output_type": "stream",
     "text": [
      "Counter({'l': 5, 'o': 4, 'h': 3, '-': 3, 'e': 2, 'p': 1, 'y': 1, 't': 1, 'n': 1, 'w': 1, 'r': 1, 'd': 1})\n"
     ]
    }
   ],
   "source": [
    "from collections import Counter #计数器\n",
    "s = \"hello-python-hello-world\"\n",
    "a = Counter(s)\n",
    "print(a) #返回的是一个字典"
   ]
  },
  {
   "cell_type": "code",
   "execution_count": null,
   "metadata": {},
   "outputs": [],
   "source": []
  }
 ],
 "metadata": {
  "kernelspec": {
   "display_name": "Python 3",
   "language": "python",
   "name": "python3"
  },
  "language_info": {
   "codemirror_mode": {
    "name": "ipython",
    "version": 3
   },
   "file_extension": ".py",
   "mimetype": "text/x-python",
   "name": "python",
   "nbconvert_exporter": "python",
   "pygments_lexer": "ipython3",
   "version": "3.6.4"
  }
 },
 "nbformat": 4,
 "nbformat_minor": 2
}
